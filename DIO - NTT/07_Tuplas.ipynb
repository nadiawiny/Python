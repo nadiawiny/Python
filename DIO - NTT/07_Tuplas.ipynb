{
  "nbformat": 4,
  "nbformat_minor": 0,
  "metadata": {
    "colab": {
      "provenance": []
    },
    "kernelspec": {
      "name": "python3",
      "display_name": "Python 3"
    },
    "language_info": {
      "name": "python"
    }
  },
  "cells": [
    {
      "cell_type": "markdown",
      "source": [
        "Tupla - são estruturas de dados muito parecidos com as listas, a principal difernça é que tuplas são imutáveis enquanto listas são mutaveis. Podemos criar tuplas através de classe tuple, ou colocando valores separados por vírgulas de parenteses."
      ],
      "metadata": {
        "id": "aN9CZ_mFdVDh"
      }
    },
    {
      "cell_type": "code",
      "execution_count": null,
      "metadata": {
        "colab": {
          "base_uri": "https://localhost:8080/"
        },
        "id": "kg2ckjL_dSIZ",
        "outputId": "9c5b88b4-809e-451a-a1cd-4fe779bfe8dc"
      },
      "outputs": [
        {
          "output_type": "execute_result",
          "data": {
            "text/plain": [
              "('laranja', 'pera', 'uva')"
            ]
          },
          "metadata": {},
          "execution_count": 1
        }
      ],
      "source": [
        "## Tuplas - a virgula é uma boa pratica\n",
        "\n",
        "frutas = (\"laranja\", \"pera\", \"uva\",)\n",
        "\n",
        "frutas"
      ]
    },
    {
      "cell_type": "code",
      "source": [
        "letras = tuple(\"python\")\n",
        "\n",
        "letras"
      ],
      "metadata": {
        "colab": {
          "base_uri": "https://localhost:8080/"
        },
        "id": "OQ8ogKxeenwV",
        "outputId": "7e465544-b1f1-49e2-8f25-9dbe762d5d81"
      },
      "execution_count": null,
      "outputs": [
        {
          "output_type": "execute_result",
          "data": {
            "text/plain": [
              "('p', 'y', 't', 'h', 'o', 'n')"
            ]
          },
          "metadata": {},
          "execution_count": 2
        }
      ]
    },
    {
      "cell_type": "code",
      "source": [
        "numeros = tuple([1, 2, 3, 4])\n",
        "\n",
        "numeros"
      ],
      "metadata": {
        "colab": {
          "base_uri": "https://localhost:8080/"
        },
        "id": "ZIE6iNc0eqs7",
        "outputId": "95fe3671-e2ef-4761-efac-87af32acad13"
      },
      "execution_count": null,
      "outputs": [
        {
          "output_type": "execute_result",
          "data": {
            "text/plain": [
              "(1, 2, 3, 4)"
            ]
          },
          "metadata": {},
          "execution_count": 4
        }
      ]
    },
    {
      "cell_type": "code",
      "source": [
        "pais = (\"Brasil\",)\n",
        "\n",
        "pais"
      ],
      "metadata": {
        "colab": {
          "base_uri": "https://localhost:8080/"
        },
        "id": "D-V7n8mTewVk",
        "outputId": "b9fbe00e-5bc9-46e3-edce-a47c57fd1703"
      },
      "execution_count": null,
      "outputs": [
        {
          "output_type": "execute_result",
          "data": {
            "text/plain": [
              "('Brasil',)"
            ]
          },
          "metadata": {},
          "execution_count": 10
        }
      ]
    },
    {
      "cell_type": "code",
      "source": [
        "## acesso direto\n",
        "\n",
        "frutas = (\"maçã\", \"laranja\", \"uva\", \"pera\",)\n",
        "\n",
        "print(frutas[0])\n",
        "print(frutas[2])"
      ],
      "metadata": {
        "colab": {
          "base_uri": "https://localhost:8080/"
        },
        "id": "NCP8zXwbf532",
        "outputId": "f237bbf1-b23a-4a37-8283-4418b3fa932f"
      },
      "execution_count": null,
      "outputs": [
        {
          "output_type": "stream",
          "name": "stdout",
          "text": [
            "maçã\n",
            "uva\n"
          ]
        }
      ]
    },
    {
      "cell_type": "code",
      "source": [
        "## indices negativos\n",
        "\n",
        "frutas = (\"maçã\", \"laranja\", \"uva\", \"pera\",)\n",
        "\n",
        "print(frutas[-1])\n",
        "print(frutas[-3])"
      ],
      "metadata": {
        "colab": {
          "base_uri": "https://localhost:8080/"
        },
        "id": "yJc6Xdo1gcMY",
        "outputId": "1f529979-3dda-42cc-aa57-80d87a445ee1"
      },
      "execution_count": null,
      "outputs": [
        {
          "output_type": "stream",
          "name": "stdout",
          "text": [
            "pera\n",
            "laranja\n"
          ]
        }
      ]
    },
    {
      "cell_type": "markdown",
      "source": [
        "Tuplas aninhadas - Tuplas podem armazenar todos os tipos de objetos Python, portanto podemos ter tuplas que armazenam outras tuplas. Com isso podemos criar estruturas bidimensionais (tabelas), e acessar informando os índices de linha e coluna."
      ],
      "metadata": {
        "id": "3cpwFs2_g76U"
      }
    },
    {
      "cell_type": "code",
      "source": [
        "matriz = (\n",
        "    (1, \"a\", 2),\n",
        "    (\"b\", 3, 4),\n",
        "    (6, 5, \"c\"),\n",
        ")\n",
        "\n",
        "print(matriz[0])\n",
        "print(matriz[0][0])\n",
        "print(matriz[0][-1])\n",
        "print(matriz[-1][-1])"
      ],
      "metadata": {
        "colab": {
          "base_uri": "https://localhost:8080/"
        },
        "id": "TOKoWriyhOQI",
        "outputId": "c1fe98a8-7bf8-4a72-bef6-c35b0f1c6c24"
      },
      "execution_count": null,
      "outputs": [
        {
          "output_type": "stream",
          "name": "stdout",
          "text": [
            "(1, 'a', 2)\n",
            "1\n",
            "2\n",
            "c\n"
          ]
        }
      ]
    },
    {
      "cell_type": "markdown",
      "source": [
        "Fatiamento - Além de acessar elementos diretamente, podemos extrair um conjunto de valores de uma sequência. Para isso basta passar o índice inical e/ou final para acessar o conjunto. Podemos ainda informar quantas posições o cursor deve \"pular\" no acesso."
      ],
      "metadata": {
        "id": "oF9b2MvQh4Gb"
      }
    },
    {
      "cell_type": "code",
      "source": [
        "## stap stop step\n",
        "\n",
        "tupla = ('p', 'y', 't', 'h', 'o', 'n')\n",
        "\n",
        "print(tupla[2:]) ## apartir do 2 indo até o fim\n",
        "print(tupla[:2])  ## apartir do 0 indo até o 2\n",
        "print(tupla[1:3])  # apartir do 1 até o 3\n",
        "print(tupla[0:3:2]) # apartir do 0 indo até o 3 indo de dois em dois elementos\n",
        "print(tupla[::])  # espelhamento\n",
        "print(tupla[::-1]) # invertida"
      ],
      "metadata": {
        "colab": {
          "base_uri": "https://localhost:8080/"
        },
        "id": "wojlCSBVhuQt",
        "outputId": "09637069-4d87-4d32-c416-db7bddc3d27f"
      },
      "execution_count": null,
      "outputs": [
        {
          "output_type": "stream",
          "name": "stdout",
          "text": [
            "('t', 'h', 'o', 'n')\n",
            "('p', 'y')\n",
            "('y', 't')\n",
            "('p', 't')\n",
            "('p', 'y', 't', 'h', 'o', 'n')\n",
            "('n', 'o', 'h', 't', 'y', 'p')\n"
          ]
        }
      ]
    },
    {
      "cell_type": "code",
      "source": [
        "## interar tuplas - a forma mais comum para percorrer os dados de uma tuplas é utilizando o comando for\n",
        "\n",
        "carros = (\"gol\", \"celta\", \"palio\",)\n",
        "\n",
        "for carro in carros:\n",
        "  print(carro)\n"
      ],
      "metadata": {
        "colab": {
          "base_uri": "https://localhost:8080/"
        },
        "id": "Pej8dfgOjyxa",
        "outputId": "43180584-d4f0-4639-f29f-28945b109ae5"
      },
      "execution_count": null,
      "outputs": [
        {
          "output_type": "stream",
          "name": "stdout",
          "text": [
            "gol\n",
            "celta\n",
            "palio\n"
          ]
        }
      ]
    },
    {
      "cell_type": "code",
      "source": [
        "## função enumerate\n",
        "\n",
        "carros = (\"gol\", \"celta\", \"palio\",)\n",
        "\n",
        "for indice, carro in enumerate(carros):\n",
        "  print(f\"{indice}: {carro}\")"
      ],
      "metadata": {
        "colab": {
          "base_uri": "https://localhost:8080/"
        },
        "id": "iQ-xlKfBkDF3",
        "outputId": "7cc83a1b-2b13-4c55-ec9c-b4452f131c06"
      },
      "execution_count": null,
      "outputs": [
        {
          "output_type": "stream",
          "name": "stdout",
          "text": [
            "0: gol\n",
            "1: celta\n",
            "2: palio\n"
          ]
        }
      ]
    },
    {
      "cell_type": "markdown",
      "source": [
        "Métodos da classe tuple -"
      ],
      "metadata": {
        "id": "x7wgpueKkUw1"
      }
    },
    {
      "cell_type": "code",
      "source": [
        "## ().count\n",
        "\n",
        "cores = (\"vermelho\", \"azul\", \"verde\", \"azul\",)\n",
        "\n",
        "print(cores.count(\"vermelho\"))\n",
        "print(cores.count(\"azul\"))\n",
        "print(cores.count(\"verde\"))"
      ],
      "metadata": {
        "colab": {
          "base_uri": "https://localhost:8080/"
        },
        "id": "MDBmlUjYkaNN",
        "outputId": "56c23d08-eeef-478f-b39b-e3012a559330"
      },
      "execution_count": null,
      "outputs": [
        {
          "output_type": "stream",
          "name": "stdout",
          "text": [
            "1\n",
            "2\n",
            "1\n"
          ]
        }
      ]
    },
    {
      "cell_type": "code",
      "source": [
        "## ().index\n",
        "\n",
        "linguagens = (\"python\", \"js\", \"c\", \"java\", \"csharp\",)\n",
        "\n",
        "print(linguagens.index(\"java\"))\n",
        "print(linguagens.index(\"python\"))"
      ],
      "metadata": {
        "colab": {
          "base_uri": "https://localhost:8080/"
        },
        "id": "BlECJ5QNkrkX",
        "outputId": "6cd881e4-7f26-4ca1-c632-b3816c7415f9"
      },
      "execution_count": null,
      "outputs": [
        {
          "output_type": "stream",
          "name": "stdout",
          "text": [
            "3\n",
            "0\n"
          ]
        }
      ]
    },
    {
      "cell_type": "code",
      "source": [
        "## len  - tamanhho total de elementos na tupla\n",
        "\n",
        "linguagens = (\"python\", \"js\", \"c\", \"java\", \"csharp\",)\n",
        "\n",
        "len(linguagens)"
      ],
      "metadata": {
        "colab": {
          "base_uri": "https://localhost:8080/"
        },
        "id": "OTXil54NlEJc",
        "outputId": "eec4dbaf-909c-461e-d1b6-5bef6daed846"
      },
      "execution_count": null,
      "outputs": [
        {
          "output_type": "execute_result",
          "data": {
            "text/plain": [
              "5"
            ]
          },
          "metadata": {},
          "execution_count": 22
        }
      ]
    }
  ]
}