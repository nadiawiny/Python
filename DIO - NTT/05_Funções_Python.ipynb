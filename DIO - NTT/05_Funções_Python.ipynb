{
  "nbformat": 4,
  "nbformat_minor": 0,
  "metadata": {
    "colab": {
      "provenance": []
    },
    "kernelspec": {
      "name": "python3",
      "display_name": "Python 3"
    },
    "language_info": {
      "name": "python"
    }
  },
  "cells": [
    {
      "cell_type": "markdown",
      "source": [
        "Função -\n",
        "É um bloco de código identificado por um nome e pode receber uma lista de parâmetros, onde podem ou não ter valores padrões."
      ],
      "metadata": {
        "id": "Fn8XzLHd53Ox"
      }
    },
    {
      "cell_type": "code",
      "execution_count": null,
      "metadata": {
        "id": "Bl3Cyrxr_eKm",
        "colab": {
          "base_uri": "https://localhost:8080/"
        },
        "outputId": "79902205-7e7d-45e4-e3b1-23bd8374ed7a"
      },
      "outputs": [
        {
          "output_type": "stream",
          "name": "stdout",
          "text": [
            "Hello Word\n"
          ]
        }
      ],
      "source": [
        "## def >> é uma palavra reservada para identificar a função\n",
        "## def <nome da função>(<parametro>):\n",
        "\n",
        "def exibir_mensagem():\n",
        "  print(\"Hello Word\")"
      ]
    },
    {
      "cell_type": "code",
      "source": [
        "exibir_mensagem()"
      ],
      "metadata": {
        "colab": {
          "base_uri": "https://localhost:8080/"
        },
        "id": "xbCfuf-f9wWs",
        "outputId": "0d3a01d6-5728-4496-e036-7b518849a0e2"
      },
      "execution_count": null,
      "outputs": [
        {
          "output_type": "stream",
          "name": "stdout",
          "text": [
            "Hello Word\n"
          ]
        }
      ]
    },
    {
      "cell_type": "code",
      "source": [
        "def exibir_mensagem_2(nome):\n",
        "  print(f\"Seja bem vinda {nome}!\")"
      ],
      "metadata": {
        "id": "xrvpMTeL8aZI"
      },
      "execution_count": null,
      "outputs": []
    },
    {
      "cell_type": "code",
      "source": [
        "exibir_mensagem_2(nome=\"Maria\")"
      ],
      "metadata": {
        "colab": {
          "base_uri": "https://localhost:8080/"
        },
        "id": "g8SxJwce83vM",
        "outputId": "63d8de77-5995-4526-96ef-0ee034e82fd4"
      },
      "execution_count": null,
      "outputs": [
        {
          "output_type": "stream",
          "name": "stdout",
          "text": [
            "Seja bem vinda Maria!\n"
          ]
        }
      ]
    },
    {
      "cell_type": "code",
      "source": [
        "def exibir_mensagem_3(nome=\"Vitoria\"):\n",
        "  print(f\"Seja bem vinda {nome}\")"
      ],
      "metadata": {
        "id": "VSN_uEBv9C-e"
      },
      "execution_count": null,
      "outputs": []
    },
    {
      "cell_type": "code",
      "source": [
        "exibir_mensagem_3()"
      ],
      "metadata": {
        "colab": {
          "base_uri": "https://localhost:8080/"
        },
        "id": "_OXr1VR99Rte",
        "outputId": "17eb40ed-2b98-4dfc-b64d-9857f5acada7"
      },
      "execution_count": null,
      "outputs": [
        {
          "output_type": "stream",
          "name": "stdout",
          "text": [
            "Seja bem vinda Vitoria\n"
          ]
        }
      ]
    },
    {
      "cell_type": "code",
      "source": [
        "exibir_mensagem_3(nome=\"Carla\")"
      ],
      "metadata": {
        "colab": {
          "base_uri": "https://localhost:8080/"
        },
        "id": "m_PdklZx9Xf6",
        "outputId": "9556b94f-b154-4280-85bb-878416f59a36"
      },
      "execution_count": null,
      "outputs": [
        {
          "output_type": "stream",
          "name": "stdout",
          "text": [
            "Seja bem vinda Carla\n"
          ]
        }
      ]
    },
    {
      "cell_type": "markdown",
      "source": [
        "Para retornar um valor, utilizamos a palavra reservada return.\n",
        "Toda função Python retorna None por padrão. Diferente de outras linguagens de programação, em Python uma função pode retornar mais de um valor"
      ],
      "metadata": {
        "id": "ToEVTNIZBm3o"
      }
    },
    {
      "cell_type": "code",
      "source": [
        "def calcular_total(numeros):\n",
        "  return sum(numeros)"
      ],
      "metadata": {
        "id": "v4YKGVlxB7Am"
      },
      "execution_count": null,
      "outputs": []
    },
    {
      "cell_type": "code",
      "source": [
        "calcular_total([10, 20, 34])"
      ],
      "metadata": {
        "colab": {
          "base_uri": "https://localhost:8080/"
        },
        "id": "yZIXVRjUCGKr",
        "outputId": "aee818a6-6742-4900-9774-a4a94769e1c4"
      },
      "execution_count": null,
      "outputs": [
        {
          "output_type": "execute_result",
          "data": {
            "text/plain": [
              "64"
            ]
          },
          "metadata": {},
          "execution_count": 19
        }
      ]
    },
    {
      "cell_type": "code",
      "source": [
        "def retorna_antecessor_e_sucessor(numero):\n",
        "  antecessor = numero -1\n",
        "  sucessor = numero + 1\n",
        "\n",
        "  return antecessor, sucessor"
      ],
      "metadata": {
        "id": "uc8q5cRuCJ9M"
      },
      "execution_count": null,
      "outputs": []
    },
    {
      "cell_type": "code",
      "source": [
        "retorna_antecessor_e_sucessor(10)"
      ],
      "metadata": {
        "colab": {
          "base_uri": "https://localhost:8080/"
        },
        "id": "yQimt6LJCWAs",
        "outputId": "4e378c06-0af0-44df-efa1-77ed0a9ec0fc"
      },
      "execution_count": null,
      "outputs": [
        {
          "output_type": "execute_result",
          "data": {
            "text/plain": [
              "(9, 11)"
            ]
          },
          "metadata": {},
          "execution_count": 21
        }
      ]
    },
    {
      "cell_type": "code",
      "source": [
        "def func_3():\n",
        "  print(\"Olá mundo\")"
      ],
      "metadata": {
        "id": "5lrlVL2dCj99"
      },
      "execution_count": null,
      "outputs": []
    },
    {
      "cell_type": "code",
      "source": [
        "print(func_3())"
      ],
      "metadata": {
        "colab": {
          "base_uri": "https://localhost:8080/"
        },
        "id": "E3u-AWeDCqKl",
        "outputId": "c4e926e4-5553-4eb1-b5fc-7767da901505"
      },
      "execution_count": null,
      "outputs": [
        {
          "output_type": "stream",
          "name": "stdout",
          "text": [
            "Olá mundo\n",
            "None\n"
          ]
        }
      ]
    },
    {
      "cell_type": "markdown",
      "source": [
        "Argumentos nomeados - funções também podem ser chamadas usando argumentos nomeados da forma chave=valor"
      ],
      "metadata": {
        "id": "ViLefqUtC2LN"
      }
    },
    {
      "cell_type": "code",
      "source": [
        "def salvar_carro(marca, modelo, ano, placa):\n",
        "  print(f\"Carro inseridos com sucesso! {marca}/{modelo}/{ano}/{placa}\")"
      ],
      "metadata": {
        "id": "_XxnUTgTCt47"
      },
      "execution_count": null,
      "outputs": []
    },
    {
      "cell_type": "code",
      "source": [
        "salvar_carro(\"Fiat\", \"Palio\", 1999, \"ABC-1234\" )\n",
        "salvar_carro(marca=\"Fiat\", modelo=\"Palio\", ano=1999, placa=\"ABC-1234\" )\n",
        "salvar_carro(**{\"marca\":\"Fiat\", \"modelo\":\"Palio\",\"ano\":1999, \"placa\":\"ABC-1234\"}) ## passando um \"dicionario\" para a função **kwargs"
      ],
      "metadata": {
        "colab": {
          "base_uri": "https://localhost:8080/"
        },
        "id": "TL57pgIMDUN2",
        "outputId": "bb454b7e-57f8-4b79-f485-d2f224c31443"
      },
      "execution_count": null,
      "outputs": [
        {
          "output_type": "stream",
          "name": "stdout",
          "text": [
            "Carro inseridos com sucesso! Fiat/Palio/1999/ABC-1234\n",
            "Carro inseridos com sucesso! Fiat/Palio/1999/ABC-1234\n",
            "Carro inseridos com sucesso! Fiat/Palio/1999/ABC-1234\n"
          ]
        }
      ]
    },
    {
      "cell_type": "markdown",
      "source": [
        "Podemos combinar parâmetros obrigatório com args e kwargs.Quando esses são definidos`(*arg e **kwargs),` o método recebe os valores como tupla e dicionário respectivamente."
      ],
      "metadata": {
        "id": "y1fzI9vUF1g5"
      }
    },
    {
      "cell_type": "code",
      "source": [
        "def exibir_poema(data_extenso, *args, **kwargs):   ## *lista **dicionario\n",
        "  texto= \"\\n\".join(args)\n",
        "  meta_dados = \"\\n\".join([f\"{chave.title()}:{valor}\" for chave, valor in kwargs.items()])\n",
        "\n",
        "  mensagem = f\"{data_extenso}\\n\\n{texto}\\n\\n{meta_dados}\"\n",
        "\n",
        "  print(mensagem)"
      ],
      "metadata": {
        "id": "y1d5UI8yGHWE"
      },
      "execution_count": null,
      "outputs": []
    },
    {
      "cell_type": "code",
      "source": [
        "exibir_poema(\"Segunda, 16 Set 2024\",\"Zen of Python\",\n",
        "             \"Beautiful is better than ugly.\",\n",
        "             autor= \"Tim Peters\", ano=1999)"
      ],
      "metadata": {
        "colab": {
          "base_uri": "https://localhost:8080/"
        },
        "id": "pH8CwdDsHIgf",
        "outputId": "9c604008-dd74-40b6-d07d-ab45c26abc4e"
      },
      "execution_count": null,
      "outputs": [
        {
          "output_type": "stream",
          "name": "stdout",
          "text": [
            "Segunda, 16 Set 2024\n",
            "\n",
            "Zen of Python\n",
            "Beautiful is better than ugly.\n",
            "\n",
            "Autor:Tim Peters\n",
            "Ano:1999\n"
          ]
        }
      ]
    },
    {
      "cell_type": "markdown",
      "source": [
        "Parâmentros especiais -\n"
      ],
      "metadata": {
        "id": "v2RTjOrPI1yh"
      }
    },
    {
      "cell_type": "code",
      "source": [
        "# def f(pos1, pos2, / , pos_or_kwd, *, kwd1, kwd2):"
      ],
      "metadata": {
        "id": "A-CJHJ_XJm8f"
      },
      "execution_count": null,
      "outputs": []
    },
    {
      "cell_type": "code",
      "source": [
        "# Positional only\n",
        "def criar_carro(modelo, ano, placa, /, marca, motor, combustivel):\n",
        "  print(modelo, ano, placa, marca, motor, combustivel)\n",
        "\n",
        "criar_carro(\"Palio\", 1999, \"ABC-1234\", marca=\"Fiat\",\n",
        "            motor=\"1.0\", combustivel=\"Gasolina\")  #válido  - por posição"
      ],
      "metadata": {
        "colab": {
          "base_uri": "https://localhost:8080/"
        },
        "id": "l65Ysto0J6bk",
        "outputId": "497d4815-8ee7-4e0d-ce2f-5270e4a31fca"
      },
      "execution_count": null,
      "outputs": [
        {
          "output_type": "stream",
          "name": "stdout",
          "text": [
            "Palio 1999 ABC-1234 Fiat 1.0 Gasolina\n"
          ]
        }
      ]
    },
    {
      "cell_type": "code",
      "source": [
        "## Keyword only\n",
        "def criar_carro(*,modelo, ano, placa,marca, motor, combustivel):\n",
        "  print(modelo, ano, placa, marca, motor, combustivel)\n",
        "\n",
        "criar_carro(modelo=\"Palio\", ano=1999, placa=\"ABC-1234\", marca=\"Fiat\",\n",
        "            motor=\"1.0\", combustivel=\"Gasolina\")  #válido  - por nome"
      ],
      "metadata": {
        "colab": {
          "base_uri": "https://localhost:8080/"
        },
        "id": "WiTmLh8WKecE",
        "outputId": "36175df2-25d5-4cd9-c815-83cb09af978b"
      },
      "execution_count": null,
      "outputs": [
        {
          "output_type": "stream",
          "name": "stdout",
          "text": [
            "Palio 1999 ABC-1234 Fiat 1.0 Gasolina\n"
          ]
        }
      ]
    },
    {
      "cell_type": "code",
      "source": [
        "## Keyword and possitional only\n",
        "def criar_carro(modelo, ano, placa, /, *, marca, motor, combustivel):\n",
        "  print(modelo, ano, placa, marca, motor, combustivel)\n",
        "\n",
        "criar_carro(\"Palio\", 1999, \"ABC-1234\",\n",
        "            marca=\"Fiat\", motor=\"1.0\", combustivel=\"Gasolina\")  #válido  - por"
      ],
      "metadata": {
        "colab": {
          "base_uri": "https://localhost:8080/"
        },
        "id": "BV261rtMPi-D",
        "outputId": "7a0c0ef1-06cc-4902-fc74-257098c5053a"
      },
      "execution_count": null,
      "outputs": [
        {
          "output_type": "stream",
          "name": "stdout",
          "text": [
            "Palio 1999 ABC-1234 Fiat 1.0 Gasolina\n"
          ]
        }
      ]
    },
    {
      "cell_type": "markdown",
      "source": [
        "**Objetos de primeira classe**\n",
        "\n",
        "Em python tudo é objeto, dessa forma **funções tambpem sçao objetos** o que as tornam objetos de primeira classe. Com isso podemos **atribuir funções a variáveis, passá-las como parâmetro para funções, usá-las como valores em estruturas de dados** *(linhas, tuplas, dicionario, etc)* e usar como valor de retorno para uma função *(closures)*"
      ],
      "metadata": {
        "id": "DxjN69EwQMGy"
      }
    },
    {
      "cell_type": "code",
      "source": [
        "def somar(a,b):\n",
        "  return a + b\n",
        "\n",
        "def subtrair(a,b):\n",
        "  return a - b\n",
        "\n",
        "def exibir_resultado(a, b, funcao):\n",
        "  resultado = funcao(a, b)\n",
        "  print(f\"O resultado da operação é = {resultado}\")"
      ],
      "metadata": {
        "id": "DrIwVjZ6QAgX"
      },
      "execution_count": null,
      "outputs": []
    },
    {
      "cell_type": "code",
      "source": [
        "exibir_resultado(10, 10, somar)\n",
        "exibir_resultado(10, 10, subtrair)"
      ],
      "metadata": {
        "colab": {
          "base_uri": "https://localhost:8080/"
        },
        "id": "ep_smGOGRPPV",
        "outputId": "55537376-71e1-423d-84b2-c3a4df191f45"
      },
      "execution_count": null,
      "outputs": [
        {
          "output_type": "stream",
          "name": "stdout",
          "text": [
            "O resultado da operação é = 20\n",
            "O resultado da operação é = 0\n"
          ]
        }
      ]
    },
    {
      "cell_type": "code",
      "source": [
        "op = somar\n",
        "\n",
        "print(op(1,23))"
      ],
      "metadata": {
        "colab": {
          "base_uri": "https://localhost:8080/"
        },
        "id": "MA1BgmYJSPea",
        "outputId": "1d757ab6-d358-44fe-a23d-5224ad969550"
      },
      "execution_count": null,
      "outputs": [
        {
          "output_type": "stream",
          "name": "stdout",
          "text": [
            "24\n"
          ]
        }
      ]
    },
    {
      "cell_type": "code",
      "source": [
        "## escopo global\n",
        "\n",
        "salario = 2000\n",
        "\n",
        "def salario_bonus(bonus):\n",
        "  global salario\n",
        "  salario += bonus\n",
        "  return salario\n",
        "\n",
        "salario_bonus(500)"
      ],
      "metadata": {
        "colab": {
          "base_uri": "https://localhost:8080/"
        },
        "id": "0QB2Lx1VSkzJ",
        "outputId": "c4d58131-024d-47b3-b6bd-d56123d564d2"
      },
      "execution_count": null,
      "outputs": [
        {
          "output_type": "execute_result",
          "data": {
            "text/plain": [
              "2500"
            ]
          },
          "metadata": {},
          "execution_count": 53
        }
      ]
    },
    {
      "cell_type": "code",
      "source": [
        "## local e global\n",
        "\n",
        "salario = 2000\n",
        "\n",
        "def salario_bonus(bonus, lista):\n",
        "  global salario\n",
        "\n",
        "  lista_aux = lista.copy()\n",
        "  lista_aux.append(2)\n",
        "  print(f\"lista aux={lista_aux}\")\n",
        "\n",
        "  salario += bonus\n",
        "  return salario\n",
        "\n",
        "lista = [1]\n",
        "salario_com_bonus = salario_bonus(500, lista)\n",
        "\n",
        "print(salario_com_bonus)\n",
        "print(lista)"
      ],
      "metadata": {
        "colab": {
          "base_uri": "https://localhost:8080/"
        },
        "id": "OlfXJdz-Tgc2",
        "outputId": "119de515-15b8-4b41-e4b6-b503e4761449"
      },
      "execution_count": null,
      "outputs": [
        {
          "output_type": "stream",
          "name": "stdout",
          "text": [
            "lista aux=[1, 2]\n",
            "2500\n",
            "[1]\n"
          ]
        }
      ]
    }
  ]
}