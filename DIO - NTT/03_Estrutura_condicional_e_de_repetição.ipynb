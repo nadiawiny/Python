{
  "nbformat": 4,
  "nbformat_minor": 0,
  "metadata": {
    "colab": {
      "provenance": []
    },
    "kernelspec": {
      "name": "python3",
      "display_name": "Python 3"
    },
    "language_info": {
      "name": "python"
    }
  },
  "cells": [
    {
      "cell_type": "markdown",
      "source": [
        "**Identação e código de comando**"
      ],
      "metadata": {
        "id": "mE6jdLEL-nbw"
      }
    },
    {
      "cell_type": "code",
      "source": [
        "#bloco em Python\n",
        "\n",
        "def sacar(self, valor: float) -> None: #inicio do bloco do método\n",
        "    if self.saldo >=valor:  #início do bloco do if\n",
        "        self.saldo -= valor\n",
        "\n",
        "    #fim do bloco do if\n",
        "\n",
        "#fim do bloco do método"
      ],
      "metadata": {
        "id": "L2Qgj43c-ocR"
      },
      "execution_count": null,
      "outputs": []
    },
    {
      "cell_type": "code",
      "source": [
        "def sacar(valor):\n",
        "    saldo = 500\n",
        "    if saldo >=valor:\n",
        "        print(\"valor sacado!\")\n",
        "        print(\"retire o seu dinheiro na boca do caixa\") # faz parte do if\n",
        "\n",
        "    print(\"obrigado por ser nosso cliente, tenha um bom dia!\") # faz parte do método\n",
        "\n",
        "sacar(100)"
      ],
      "metadata": {
        "colab": {
          "base_uri": "https://localhost:8080/"
        },
        "id": "VTDR0Y7D-gJe",
        "outputId": "bca9935b-525f-422e-8b22-78b675949015"
      },
      "execution_count": null,
      "outputs": [
        {
          "output_type": "stream",
          "name": "stdout",
          "text": [
            "valor sacado!\n",
            "retire o seu dinheiro na boca do caixa\n",
            "obrigado por ser nosso cliente, tenha um bom dia!\n"
          ]
        }
      ]
    },
    {
      "cell_type": "markdown",
      "source": [
        "**Estruturas condicional: permite desvio de fluxo de controle quando determinadas expressões lógicas são atendidas.**"
      ],
      "metadata": {
        "id": "yUqQq4rg-esP"
      }
    },
    {
      "cell_type": "markdown",
      "source": [
        "*if/if-else/elif*"
      ],
      "metadata": {
        "id": "lDhd8OGn-dWg"
      }
    },
    {
      "cell_type": "code",
      "execution_count": null,
      "metadata": {
        "colab": {
          "base_uri": "https://localhost:8080/"
        },
        "id": "m7kIXYN9-RSJ",
        "outputId": "cd1d81d2-5c5a-40b3-b7c5-56c54000afee"
      },
      "outputs": [
        {
          "output_type": "stream",
          "name": "stdout",
          "text": [
            "Infome o valor do saque: 1000.0\n",
            "Realizando saque!\n"
          ]
        }
      ],
      "source": [
        "## if\n",
        "\n",
        "saldo = 2000.0\n",
        "saque = float(input(\"Infome o valor do saque: \"))\n",
        "\n",
        "if saldo >= saque:\n",
        "    print(\"Realizando saque!\")\n",
        "\n",
        "if saldo < saque:\n",
        "    print(\"saldo insuficiente!\")"
      ]
    },
    {
      "cell_type": "code",
      "source": [
        "## cnh\n",
        "\n",
        "#idade => 18\n",
        "idade = int(input(\"Infome sua idade: \"))\n",
        "\n",
        "if idade < 18:\n",
        "  print(\"Você não tem idade suficiente para tirar a cnh\")\n",
        "\n",
        "if idade >= 18:\n",
        "  print(\"Parabéns você pode tiar a carteira\")"
      ],
      "metadata": {
        "colab": {
          "base_uri": "https://localhost:8080/"
        },
        "id": "ajIM7ujT_FkT",
        "outputId": "5d247fb2-2246-4746-ef22-3850ecd8243b"
      },
      "execution_count": null,
      "outputs": [
        {
          "output_type": "stream",
          "name": "stdout",
          "text": [
            "Infome sua idade: 25\n",
            "Parabéns você pode tiar a carteira\n"
          ]
        }
      ]
    },
    {
      "cell_type": "code",
      "source": [
        "idade = int(input(\"informe sua idade: \"))\n",
        "\n",
        "if idade >= 18:\n",
        "  print(\"Parabéns, você pode retirar a carteira\")\n",
        "else:\n",
        "  print(\"Você não pode tirar a carteira\")"
      ],
      "metadata": {
        "colab": {
          "base_uri": "https://localhost:8080/"
        },
        "id": "5Mb3bHMGARs_",
        "outputId": "ab79f5ac-7e97-4032-dc70-131e51f7b7fa"
      },
      "execution_count": null,
      "outputs": [
        {
          "output_type": "stream",
          "name": "stdout",
          "text": [
            "informe sua idade: 10\n",
            "Você não pode tirar a carteira\n"
          ]
        }
      ]
    },
    {
      "cell_type": "code",
      "source": [
        "## if else\n",
        "\n",
        "saldo = 2000.0\n",
        "saque = float(input(\"Infome o valor do saque: \"))\n",
        "\n",
        "if saldo >= saque:\n",
        "    print(\"Realizando saque!\")\n",
        "else:\n",
        "    print(\"saldo insuficiente!\")"
      ],
      "metadata": {
        "colab": {
          "base_uri": "https://localhost:8080/"
        },
        "id": "ukt6g285Ay3m",
        "outputId": "3ae5a78a-d320-4488-8373-a7299ba5486f"
      },
      "execution_count": null,
      "outputs": [
        {
          "output_type": "stream",
          "name": "stdout",
          "text": [
            "Infome o valor do saque: 6000.0\n",
            "saldo insuficiente!\n"
          ]
        }
      ]
    },
    {
      "cell_type": "code",
      "source": [
        "## elif - se não se\n",
        "\n",
        "opcao = int(input(\"Informe uma opção: [1] Sacar \\n [2] extrato: \"))\n",
        "\n",
        "if opcao == 1:\n",
        "  valor = float(input(\"Informe a quantidade para o saque: \"))\n",
        "\n",
        "elif opcao == 2:\n",
        "  print(\"Exibindo o extrato...\")\n",
        "else:\n",
        "  sys.exit(\"Opcão inválida\")\n"
      ],
      "metadata": {
        "colab": {
          "base_uri": "https://localhost:8080/"
        },
        "id": "mstLfXIZBBLY",
        "outputId": "487e2cd8-c8d0-489b-ff0b-e49f74ca6f58"
      },
      "execution_count": null,
      "outputs": [
        {
          "name": "stdout",
          "output_type": "stream",
          "text": [
            "Informe uma opção: [1] Sacar \n",
            " [2] extrato: 1\n",
            "Informe a quantidade para o saque: 5111\n"
          ]
        }
      ]
    },
    {
      "cell_type": "code",
      "source": [
        "MAIOR_IDADE = 18\n",
        "IDADE_ESPECIAL = 17\n",
        "idade = int(input(\"Infome sua idade: \"))\n",
        "\n",
        "if idade >= MAIOR_IDADE:\n",
        "  print(\"Maior de idade, pode tirar a CNH\")\n",
        "elif idade == IDADE_ESPECIAL:\n",
        "  print(\"Pode fazer aulas teóricas, mas não pode fazer aulas práticas\")\n",
        "else:\n",
        "  print(\"Ainda não pode tirar a CNH\")"
      ],
      "metadata": {
        "colab": {
          "base_uri": "https://localhost:8080/"
        },
        "id": "qPk5SNeDCFGm",
        "outputId": "b5897fb3-600d-4c2d-eb2f-546222383460"
      },
      "execution_count": null,
      "outputs": [
        {
          "output_type": "stream",
          "name": "stdout",
          "text": [
            "Infome sua idade: 17\n",
            "Ainda não pode tirar a CNH\n"
          ]
        }
      ]
    },
    {
      "cell_type": "markdown",
      "source": [
        "**if aninhado**"
      ],
      "metadata": {
        "id": "-XFJFP2AD2YK"
      }
    },
    {
      "cell_type": "code",
      "source": [
        "conta_normal = True\n",
        "conta_universitaria = False\n",
        "\n",
        "saldo = 2000\n",
        "saque = 1500\n",
        "cheque_especial = 450\n",
        "\n",
        "\n",
        "if conta_normal:\n",
        "  if saldo >= saque:\n",
        "    print(\"Saque realizado com sucesso!\")\n",
        "  elif saque <= (saldo + cheque_especial):\n",
        "    print(\"Saque realizado com uso do cheque especial!\")\n",
        "  else:\n",
        "    print(\"Não foi possivel realizar o saque, saldo insuficiente\")\n",
        "elif conta_universitaria:\n",
        "  if saldo >= saque:\n",
        "    print(\"Saque realizado com sucesso!\")\n",
        "  else:\n",
        "    print(\"Saldo insuficiente\")\n",
        "else:\n",
        "    print(\"Sistema não reconheceu seu tipo de conta\")"
      ],
      "metadata": {
        "colab": {
          "base_uri": "https://localhost:8080/"
        },
        "id": "5WlhU5DzDv-9",
        "outputId": "ea000be7-b216-411d-f91c-ced4ef45de85"
      },
      "execution_count": null,
      "outputs": [
        {
          "output_type": "stream",
          "name": "stdout",
          "text": [
            "Saque realizado com sucesso!\n"
          ]
        }
      ]
    },
    {
      "cell_type": "markdown",
      "source": [
        "**if ternário - condição de uma inica linha**"
      ],
      "metadata": {
        "id": "I1cCn6rwGHWH"
      }
    },
    {
      "cell_type": "code",
      "source": [
        "saldo = 5000\n",
        "saque = 20000\n",
        "\n",
        "status = \"Sucesso\" if saldo <= saque else \"falha\"\n",
        "\n",
        "print(f\"{status} ao realizar o saque\")"
      ],
      "metadata": {
        "colab": {
          "base_uri": "https://localhost:8080/"
        },
        "id": "8AUSINgqFkY1",
        "outputId": "8daf5758-e413-4de7-9cb3-02dc01ea8c23"
      },
      "execution_count": null,
      "outputs": [
        {
          "output_type": "stream",
          "name": "stdout",
          "text": [
            "Sucesso ao realizar o saque\n"
          ]
        }
      ]
    },
    {
      "cell_type": "markdown",
      "source": [
        "**`Estrutura de repetição -`**  são estrututas utilizadas para repetir um trecho de código um determinado número de vezes. Esse número pode ser conhecido previamente ou determinando através de uma expressão lpogica.\n"
      ],
      "metadata": {
        "id": "cESAMhKXGvod"
      }
    },
    {
      "cell_type": "code",
      "source": [
        "## sem repetição --> receba um número do teclado e exiba os 2 números sequintes\n",
        "\n",
        "a = int(input(\"Informe um número inteiro: \"))\n",
        "print(a)\n",
        "\n",
        "a += 1\n",
        "print(a)\n",
        "\n",
        "a += 1\n",
        "print(a)"
      ],
      "metadata": {
        "colab": {
          "base_uri": "https://localhost:8080/"
        },
        "id": "IXVBHgykGqPH",
        "outputId": "823086e0-c452-40db-95e0-fe061fae8de4"
      },
      "execution_count": null,
      "outputs": [
        {
          "output_type": "stream",
          "name": "stdout",
          "text": [
            "Informe um npumero inteiro: 20\n",
            "20\n",
            "21\n",
            "22\n"
          ]
        }
      ]
    },
    {
      "cell_type": "markdown",
      "source": [
        "**Comando for e a função built-in range**"
      ],
      "metadata": {
        "id": "0_2-9yqPQJnl"
      }
    },
    {
      "cell_type": "markdown",
      "source": [
        "Comando for -> é usado para percorrer um objeto iterável. Faz sentido usar for quando sabemos o número exato de vezes que nosso bloco de código deve ser executado, ou quando queremos percorrer um objeto iterável."
      ],
      "metadata": {
        "id": "sgWTQ_mOQQ_Z"
      }
    },
    {
      "cell_type": "code",
      "source": [
        "texto = input(\"Informe um texto: \")\n",
        "VOGAIS = \"AEIOU\"\n",
        "\n",
        "for letra in texto:   # qual objeto iteravél que eu quero  percorrer\n",
        "  if letra.upper() in VOGAIS:\n",
        "      print(letra, end=\"\")\n",
        "\n",
        "print()"
      ],
      "metadata": {
        "colab": {
          "base_uri": "https://localhost:8080/"
        },
        "id": "8vbB2bpsQJYu",
        "outputId": "2ee07414-ec51-4092-d435-ae79745318ad"
      },
      "execution_count": null,
      "outputs": [
        {
          "output_type": "stream",
          "name": "stdout",
          "text": [
            "Informe um texto: bom dia\n",
            "oia\n"
          ]
        }
      ]
    },
    {
      "cell_type": "markdown",
      "source": [
        "for/else"
      ],
      "metadata": {
        "id": "XLwc7Qs-HtI4"
      }
    },
    {
      "cell_type": "code",
      "source": [
        "texto = input(\"Informe um texto: \")\n",
        "VOGAIS = \"AEIOU\"\n",
        "\n",
        "for letra in texto:\n",
        "  if letra.upper() in VOGAIS:\n",
        "      print(letra, end=\"\")\n",
        "else:\n",
        "  print()\n",
        "  print(\"execução final do laço\")"
      ],
      "metadata": {
        "colab": {
          "base_uri": "https://localhost:8080/"
        },
        "id": "t8CXIpabGVaH",
        "outputId": "99aec607-9541-4b96-b060-5ac1a9b01077"
      },
      "execution_count": null,
      "outputs": [
        {
          "output_type": "stream",
          "name": "stdout",
          "text": [
            "Informe um texto: bom dia\n",
            "oia\n",
            "execução final do laço\n"
          ]
        }
      ]
    },
    {
      "cell_type": "markdown",
      "source": [
        "Função range - é uma função built-in do python, ela é usada para produzir uma sequência de números inteiros a partir de um ínicio(inclusivo) para um fim (exclusivo).\n",
        "Se usarmos range(i,j) será produzido:\n",
        "i, i+1, i+2, i+3, ..., j-1.\n",
        "Ela recebe 3 argumentos: stop(obrigatório), start (opcional) e step (opcional)"
      ],
      "metadata": {
        "id": "UmSVRwm7IjoZ"
      }
    },
    {
      "cell_type": "code",
      "source": [
        "# range(stop) -> range object\n",
        "# range(start, stop[, step]) ->range object\n",
        "\n",
        "list(range(4)) #lista de 0 a 3"
      ],
      "metadata": {
        "id": "huEPb5oNQHl-",
        "colab": {
          "base_uri": "https://localhost:8080/"
        },
        "outputId": "50b63514-7451-4d01-8cdb-f95e6c1353f3"
      },
      "execution_count": null,
      "outputs": [
        {
          "output_type": "execute_result",
          "data": {
            "text/plain": [
              "[0, 1, 2, 3]"
            ]
          },
          "metadata": {},
          "execution_count": 9
        }
      ]
    },
    {
      "cell_type": "code",
      "source": [
        "# range com for\n",
        "\n",
        "for numero in range(0, 11):\n",
        "  print(numero, end=\" \")"
      ],
      "metadata": {
        "colab": {
          "base_uri": "https://localhost:8080/"
        },
        "id": "13aOyk7oJgof",
        "outputId": "261bafef-8bf2-45ad-de1a-dea45b9b5152"
      },
      "execution_count": null,
      "outputs": [
        {
          "output_type": "stream",
          "name": "stdout",
          "text": [
            "0 1 2 3 4 5 6 7 8 9 10 "
          ]
        }
      ]
    },
    {
      "cell_type": "code",
      "source": [
        "## exibindo a tabuada de 5\n",
        "\n",
        "for numero in range(0, 51, 5):  #range(start -> 0, stop -> 51[, step -> 5])\n",
        "  print(numero, end=\" \")"
      ],
      "metadata": {
        "colab": {
          "base_uri": "https://localhost:8080/"
        },
        "id": "0kpIVdAsJ1PH",
        "outputId": "3c004446-bddb-46fc-eb21-00a3c1ef5d79"
      },
      "execution_count": null,
      "outputs": [
        {
          "output_type": "stream",
          "name": "stdout",
          "text": [
            "0 5 10 15 20 25 30 35 40 45 50 "
          ]
        }
      ]
    },
    {
      "cell_type": "markdown",
      "source": [
        "**Comando While** - é usado para repetir um bloco de código várias vezes. faz sentido usar while quando não sabemos o número exato de vezes que nosso bloco de código deve ser executado.\n",
        "\n"
      ],
      "metadata": {
        "id": "wdozrYnjKo1-"
      }
    },
    {
      "cell_type": "code",
      "source": [
        "opcao = -1\n",
        "\n",
        "while opcao != 0:\n",
        "  opcao = int(input(\"[1] sacar \\n[2] Extrato \\n[0] Sair \\n: \"))\n",
        "\n",
        "  if opcao == 1:\n",
        "    print(\"Sacando...\")\n",
        "  elif opcao == 2:\n",
        "    print(\"Exibindo o extrato...\")"
      ],
      "metadata": {
        "colab": {
          "base_uri": "https://localhost:8080/"
        },
        "id": "xaVpfL_pKNkL",
        "outputId": "4c380985-8758-4b14-947e-1673c4c9fba5"
      },
      "execution_count": null,
      "outputs": [
        {
          "name": "stdout",
          "output_type": "stream",
          "text": [
            "[1] sacar \n",
            "[2] Extrato \n",
            "[0] Sair \n",
            ": 1\n",
            "Sacando...\n",
            "[1] sacar \n",
            "[2] Extrato \n",
            "[0] Sair \n",
            ": 2\n",
            "Exibindo o extrato...\n",
            "[1] sacar \n",
            "[2] Extrato \n",
            "[0] Sair \n",
            ": -5\n",
            "[1] sacar \n",
            "[2] Extrato \n",
            "[0] Sair \n",
            ": 5\n",
            "[1] sacar \n",
            "[2] Extrato \n",
            "[0] Sair \n",
            ": 0\n"
          ]
        }
      ]
    },
    {
      "cell_type": "markdown",
      "source": [
        "while/else"
      ],
      "metadata": {
        "id": "EWk8Txt3MX6B"
      }
    },
    {
      "cell_type": "code",
      "source": [
        "opcao = -1\n",
        "\n",
        "while opcao != 0:\n",
        "  opcao = int(input(\"[1] sacar \\n[2] Extrato \\n[0] Sair \\n: \"))\n",
        "\n",
        "  if opcao == 1:\n",
        "    print(\"Sacando...\")\n",
        "  elif opcao == 2:\n",
        "    print(\"Exibindo o extrato...\")\n",
        "else:\n",
        "  print(\"Obrigado por usar nosso sistema bancário, até logo!\")"
      ],
      "metadata": {
        "colab": {
          "base_uri": "https://localhost:8080/"
        },
        "id": "ImiMJV_oMBSm",
        "outputId": "b0be727c-c141-4a7e-f505-8d900b4ea254"
      },
      "execution_count": null,
      "outputs": [
        {
          "output_type": "stream",
          "name": "stdout",
          "text": [
            "[1] sacar \n",
            "[2] Extrato \n",
            "[0] Sair \n",
            ": 1\n",
            "Sacando...\n",
            "[1] sacar \n",
            "[2] Extrato \n",
            "[0] Sair \n",
            ": 2\n",
            "Exibindo o extrato...\n",
            "[1] sacar \n",
            "[2] Extrato \n",
            "[0] Sair \n",
            ": 4\n",
            "[1] sacar \n",
            "[2] Extrato \n",
            "[0] Sair \n",
            ": 3\n",
            "[1] sacar \n",
            "[2] Extrato \n",
            "[0] Sair \n",
            ": 0\n",
            "Obrigado por usar nosso sistema bancário, até logo!\n"
          ]
        }
      ]
    },
    {
      "cell_type": "markdown",
      "source": [
        "break"
      ],
      "metadata": {
        "id": "Sr-Wx2LSNnrd"
      }
    },
    {
      "cell_type": "code",
      "source": [
        "#laço infinito\n",
        "\n",
        "while True:\n",
        "  numero = int(input(\"Informe um número: \"))\n",
        "\n",
        "  if numero == 10:\n",
        "    break\n",
        "\n",
        "  print(numero)"
      ],
      "metadata": {
        "colab": {
          "base_uri": "https://localhost:8080/"
        },
        "id": "D6dAg2DVMmVh",
        "outputId": "8853ae37-417f-4675-c93e-7cf39c860833"
      },
      "execution_count": null,
      "outputs": [
        {
          "name": "stdout",
          "output_type": "stream",
          "text": [
            "Informe um número: 5\n",
            "5\n",
            "Obrigado, fim do programa\n",
            "Informe um número: 4\n",
            "4\n",
            "Obrigado, fim do programa\n",
            "Informe um número: 12\n",
            "12\n",
            "Obrigado, fim do programa\n",
            "Informe um número: 10\n"
          ]
        }
      ]
    },
    {
      "cell_type": "code",
      "source": [
        "for numero in range(100):\n",
        "\n",
        "  if numero == 10:\n",
        "    break  #parar no exato momento\n",
        "\n",
        "  print(numero, end=\" \")"
      ],
      "metadata": {
        "colab": {
          "base_uri": "https://localhost:8080/"
        },
        "id": "ByaQhUT3Nu68",
        "outputId": "73388702-e1ce-421c-c814-dc2398e14ce4"
      },
      "execution_count": null,
      "outputs": [
        {
          "output_type": "stream",
          "name": "stdout",
          "text": [
            "0 1 2 3 4 5 6 7 8 9 "
          ]
        }
      ]
    },
    {
      "cell_type": "code",
      "source": [
        "for numero in range(100):\n",
        "\n",
        "  if numero == 10:\n",
        "    continue #pular a condição\n",
        "\n",
        "  print(numero, end=\" \")"
      ],
      "metadata": {
        "colab": {
          "base_uri": "https://localhost:8080/"
        },
        "id": "EupAeoF3OWsN",
        "outputId": "060e40b0-eb03-4c49-c908-ca400116b2f8"
      },
      "execution_count": null,
      "outputs": [
        {
          "output_type": "stream",
          "name": "stdout",
          "text": [
            "0 1 2 3 4 5 6 7 8 9 11 12 13 14 15 16 17 18 19 20 21 22 23 24 25 26 27 28 29 30 31 32 33 34 35 36 37 38 39 40 41 42 43 44 45 46 47 48 49 50 51 52 53 54 55 56 57 58 59 60 61 62 63 64 65 66 67 68 69 70 71 72 73 74 75 76 77 78 79 80 81 82 83 84 85 86 87 88 89 90 91 92 93 94 95 96 97 98 99 "
          ]
        }
      ]
    },
    {
      "cell_type": "code",
      "source": [
        "while True:\n",
        "  numero = int(input(\"Informe um número: \"))\n",
        "\n",
        "  if numero == 10:\n",
        "    break\n",
        "\n",
        "  if numero % 2 == 0:\n",
        "    continue\n",
        "\n",
        "  print(numero)"
      ],
      "metadata": {
        "colab": {
          "base_uri": "https://localhost:8080/"
        },
        "id": "NXb1sWmBO3P1",
        "outputId": "e3ef08df-2baf-47c7-e0b6-5c5756c8e66f"
      },
      "execution_count": null,
      "outputs": [
        {
          "name": "stdout",
          "output_type": "stream",
          "text": [
            "Informe um número: 3\n",
            "3\n",
            "Informe um número: 2\n",
            "Informe um número: 1\n",
            "1\n",
            "Informe um número: 4\n",
            "Informe um número: 10\n"
          ]
        }
      ]
    },
    {
      "cell_type": "code",
      "source": [],
      "metadata": {
        "id": "Lnx7fLVnPjNE"
      },
      "execution_count": null,
      "outputs": []
    }
  ]
}