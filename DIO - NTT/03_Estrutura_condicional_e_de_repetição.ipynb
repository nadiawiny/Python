{
  "cells": [
    {
      "cell_type": "markdown",
      "metadata": {
        "id": "mE6jdLEL-nbw"
      },
      "source": [
        "**Identação e código de comando**"
      ]
    },
    {
      "cell_type": "code",
      "execution_count": null,
      "metadata": {
        "id": "L2Qgj43c-ocR"
      },
      "outputs": [],
      "source": [
        "#bloco em Python\n",
        "\n",
        "def sacar(self, valor: float) -> None: #inicio do bloco do método\n",
        "    if self.saldo >=valor:  #início do bloco do if\n",
        "        self.saldo -= valor\n",
        "\n",
        "    #fim do bloco do if\n",
        "\n",
        "#fim do bloco do método"
      ]
    },
    {
      "cell_type": "code",
      "execution_count": null,
      "metadata": {
        "colab": {
          "base_uri": "https://localhost:8080/"
        },
        "id": "VTDR0Y7D-gJe",
        "outputId": "bca9935b-525f-422e-8b22-78b675949015"
      },
      "outputs": [
        {
          "name": "stdout",
          "output_type": "stream",
          "text": [
            "valor sacado!\n",
            "retire o seu dinheiro na boca do caixa\n",
            "obrigado por ser nosso cliente, tenha um bom dia!\n"
          ]
        }
      ],
      "source": [
        "def sacar(valor):\n",
        "    saldo = 500\n",
        "    if saldo >=valor:\n",
        "        print(\"valor sacado!\")\n",
        "        print(\"retire o seu dinheiro na boca do caixa\") # faz parte do if\n",
        "\n",
        "    print(\"obrigado por ser nosso cliente, tenha um bom dia!\") # faz parte do método\n",
        "\n",
        "sacar(100)"
      ]
    },
    {
      "cell_type": "markdown",
      "metadata": {
        "id": "yUqQq4rg-esP"
      },
      "source": [
        "**Estruturas condicional: permite desvio de fluxo de controle quando determinadas expressões lógicas são atendidas.**"
      ]
    },
    {
      "cell_type": "markdown",
      "metadata": {
        "id": "lDhd8OGn-dWg"
      },
      "source": [
        "*if/if-else/elif*"
      ]
    },
    {
      "cell_type": "code",
      "execution_count": null,
      "metadata": {
        "colab": {
          "base_uri": "https://localhost:8080/"
        },
        "id": "m7kIXYN9-RSJ",
        "outputId": "cd1d81d2-5c5a-40b3-b7c5-56c54000afee"
      },
      "outputs": [
        {
          "name": "stdout",
          "output_type": "stream",
          "text": [
            "Infome o valor do saque: 1000.0\n",
            "Realizando saque!\n"
          ]
        }
      ],
      "source": [
        "## if\n",
        "\n",
        "saldo = 2000.0\n",
        "saque = float(input(\"Infome o valor do saque: \"))\n",
        "\n",
        "if saldo >= saque:\n",
        "    print(\"Realizando saque!\")\n",
        "\n",
        "if saldo < saque:\n",
        "    print(\"saldo insuficiente!\")"
      ]
    },
    {
      "cell_type": "code",
      "execution_count": null,
      "metadata": {
        "colab": {
          "base_uri": "https://localhost:8080/"
        },
        "id": "ajIM7ujT_FkT",
        "outputId": "5d247fb2-2246-4746-ef22-3850ecd8243b"
      },
      "outputs": [
        {
          "name": "stdout",
          "output_type": "stream",
          "text": [
            "Infome sua idade: 25\n",
            "Parabéns você pode tiar a carteira\n"
          ]
        }
      ],
      "source": [
        "## cnh\n",
        "\n",
        "#idade => 18\n",
        "idade = int(input(\"Infome sua idade: \"))\n",
        "\n",
        "if idade < 18:\n",
        "  print(\"Você não tem idade suficiente para tirar a cnh\")\n",
        "\n",
        "if idade >= 18:\n",
        "  print(\"Parabéns você pode tiar a carteira\")"
      ]
    },
    {
      "cell_type": "code",
      "execution_count": null,
      "metadata": {
        "colab": {
          "base_uri": "https://localhost:8080/"
        },
        "id": "5Mb3bHMGARs_",
        "outputId": "ab79f5ac-7e97-4032-dc70-131e51f7b7fa"
      },
      "outputs": [
        {
          "name": "stdout",
          "output_type": "stream",
          "text": [
            "informe sua idade: 10\n",
            "Você não pode tirar a carteira\n"
          ]
        }
      ],
      "source": [
        "idade = int(input(\"informe sua idade: \"))\n",
        "\n",
        "if idade >= 18:\n",
        "  print(\"Parabéns, você pode retirar a carteira\")\n",
        "else:\n",
        "  print(\"Você não pode tirar a carteira\")"
      ]
    },
    {
      "cell_type": "code",
      "execution_count": null,
      "metadata": {
        "colab": {
          "base_uri": "https://localhost:8080/"
        },
        "id": "ukt6g285Ay3m",
        "outputId": "3ae5a78a-d320-4488-8373-a7299ba5486f"
      },
      "outputs": [
        {
          "name": "stdout",
          "output_type": "stream",
          "text": [
            "Infome o valor do saque: 6000.0\n",
            "saldo insuficiente!\n"
          ]
        }
      ],
      "source": [
        "## if else\n",
        "\n",
        "saldo = 2000.0\n",
        "saque = float(input(\"Infome o valor do saque: \"))\n",
        "\n",
        "if saldo >= saque:\n",
        "    print(\"Realizando saque!\")\n",
        "else:\n",
        "    print(\"saldo insuficiente!\")"
      ]
    },
    {
      "cell_type": "code",
      "execution_count": null,
      "metadata": {
        "colab": {
          "base_uri": "https://localhost:8080/"
        },
        "id": "mstLfXIZBBLY",
        "outputId": "487e2cd8-c8d0-489b-ff0b-e49f74ca6f58"
      },
      "outputs": [
        {
          "name": "stdout",
          "output_type": "stream",
          "text": [
            "Informe uma opção: [1] Sacar \n",
            " [2] extrato: 1\n",
            "Informe a quantidade para o saque: 5111\n"
          ]
        }
      ],
      "source": [
        "## elif - se não se\n",
        "\n",
        "opcao = int(input(\"Informe uma opção: [1] Sacar \\n [2] extrato: \"))\n",
        "\n",
        "if opcao == 1:\n",
        "  valor = float(input(\"Informe a quantidade para o saque: \"))\n",
        "\n",
        "elif opcao == 2:\n",
        "  print(\"Exibindo o extrato...\")\n",
        "else:\n",
        "  sys.exit(\"Opcão inválida\")\n"
      ]
    },
    {
      "cell_type": "code",
      "execution_count": null,
      "metadata": {
        "colab": {
          "base_uri": "https://localhost:8080/"
        },
        "id": "qPk5SNeDCFGm",
        "outputId": "b5897fb3-600d-4c2d-eb2f-546222383460"
      },
      "outputs": [
        {
          "name": "stdout",
          "output_type": "stream",
          "text": [
            "Infome sua idade: 17\n",
            "Ainda não pode tirar a CNH\n"
          ]
        }
      ],
      "source": [
        "MAIOR_IDADE = 18\n",
        "IDADE_ESPECIAL = 17\n",
        "idade = int(input(\"Infome sua idade: \"))\n",
        "\n",
        "if idade >= MAIOR_IDADE:\n",
        "  print(\"Maior de idade, pode tirar a CNH\")\n",
        "elif idade == IDADE_ESPECIAL:\n",
        "  print(\"Pode fazer aulas teóricas, mas não pode fazer aulas práticas\")\n",
        "else:\n",
        "  print(\"Ainda não pode tirar a CNH\")"
      ]
    },
    {
      "cell_type": "markdown",
      "metadata": {
        "id": "-XFJFP2AD2YK"
      },
      "source": [
        "**if aninhado**"
      ]
    },
    {
      "cell_type": "code",
      "execution_count": null,
      "metadata": {
        "colab": {
          "base_uri": "https://localhost:8080/"
        },
        "id": "5WlhU5DzDv-9",
        "outputId": "ea000be7-b216-411d-f91c-ced4ef45de85"
      },
      "outputs": [
        {
          "name": "stdout",
          "output_type": "stream",
          "text": [
            "Saque realizado com sucesso!\n"
          ]
        }
      ],
      "source": [
        "conta_normal = True\n",
        "conta_universitaria = False\n",
        "\n",
        "saldo = 2000\n",
        "saque = 1500\n",
        "cheque_especial = 450\n",
        "\n",
        "\n",
        "if conta_normal:\n",
        "  if saldo >= saque:\n",
        "    print(\"Saque realizado com sucesso!\")\n",
        "  elif saque <= (saldo + cheque_especial):\n",
        "    print(\"Saque realizado com uso do cheque especial!\")\n",
        "  else:\n",
        "    print(\"Não foi possivel realizar o saque, saldo insuficiente\")\n",
        "elif conta_universitaria:\n",
        "  if saldo >= saque:\n",
        "    print(\"Saque realizado com sucesso!\")\n",
        "  else:\n",
        "    print(\"Saldo insuficiente\")\n",
        "else:\n",
        "    print(\"Sistema não reconheceu seu tipo de conta\")"
      ]
    },
    {
      "cell_type": "markdown",
      "metadata": {
        "id": "I1cCn6rwGHWH"
      },
      "source": [
        "**if ternário - condição de uma inica linha**"
      ]
    },
    {
      "cell_type": "code",
      "execution_count": null,
      "metadata": {
        "colab": {
          "base_uri": "https://localhost:8080/"
        },
        "id": "8AUSINgqFkY1",
        "outputId": "8daf5758-e413-4de7-9cb3-02dc01ea8c23"
      },
      "outputs": [
        {
          "name": "stdout",
          "output_type": "stream",
          "text": [
            "Sucesso ao realizar o saque\n"
          ]
        }
      ],
      "source": [
        "saldo = 5000\n",
        "saque = 20000\n",
        "\n",
        "status = \"Sucesso\" if saldo <= saque else \"falha\"\n",
        "\n",
        "print(f\"{status} ao realizar o saque\")"
      ]
    },
    {
      "cell_type": "markdown",
      "metadata": {
        "id": "cESAMhKXGvod"
      },
      "source": [
        "**`Estrutura de repetição -`**  são estrututas utilizadas para repetir um trecho de código um determinado número de vezes. Esse número pode ser conhecido previamente ou determinando através de uma expressão lpogica.\n"
      ]
    },
    {
      "cell_type": "code",
      "execution_count": null,
      "metadata": {
        "colab": {
          "base_uri": "https://localhost:8080/"
        },
        "id": "IXVBHgykGqPH",
        "outputId": "823086e0-c452-40db-95e0-fe061fae8de4"
      },
      "outputs": [
        {
          "name": "stdout",
          "output_type": "stream",
          "text": [
            "Informe um npumero inteiro: 20\n",
            "20\n",
            "21\n",
            "22\n"
          ]
        }
      ],
      "source": [
        "## sem repetição --> receba um número do teclado e exiba os 2 números sequintes\n",
        "\n",
        "a = int(input(\"Informe um número inteiro: \"))\n",
        "print(a)\n",
        "\n",
        "a += 1\n",
        "print(a)\n",
        "\n",
        "a += 1\n",
        "print(a)"
      ]
    },
    {
      "cell_type": "markdown",
      "metadata": {
        "id": "0_2-9yqPQJnl"
      },
      "source": [
        "**Comando for e a função built-in range**"
      ]
    },
    {
      "cell_type": "markdown",
      "metadata": {
        "id": "sgWTQ_mOQQ_Z"
      },
      "source": [
        "Comando for -> é usado para percorrer um objeto iterável. Faz sentido usar for quando sabemos o número exato de vezes que nosso bloco de código deve ser executado, ou quando queremos percorrer um objeto iterável."
      ]
    },
    {
      "cell_type": "code",
      "execution_count": null,
      "metadata": {
        "colab": {
          "base_uri": "https://localhost:8080/"
        },
        "id": "8vbB2bpsQJYu",
        "outputId": "c5ab2916-9352-45e3-bd5a-afc8a8ef6b19"
      },
      "outputs": [
        {
          "name": "stdout",
          "output_type": "stream",
          "text": [
            "Informe um texto: belo dia de hoje\n",
            "eoiaeoe\n"
          ]
        }
      ],
      "source": [
        "texto = input(\"Informe um texto: \")\n",
        "VOGAIS = \"AEIOU\"\n",
        "\n",
        "for letra in texto:   # qual objeto iteravél que eu quero  percorrer\n",
        "  if letra.upper() in VOGAIS:\n",
        "      print(letra, end=\"\")\n",
        "\n",
        "print()"
      ]
    }
  ],
  "metadata": {
    "colab": {
      "provenance": []
    },
    "kernelspec": {
      "display_name": "Python 3",
      "name": "python3"
    },
    "language_info": {
      "name": "python"
    }
  },
  "nbformat": 4,
  "nbformat_minor": 0
}
