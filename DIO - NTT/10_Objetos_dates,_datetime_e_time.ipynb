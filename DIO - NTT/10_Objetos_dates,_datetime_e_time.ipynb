{
  "nbformat": 4,
  "nbformat_minor": 0,
  "metadata": {
    "colab": {
      "provenance": []
    },
    "kernelspec": {
      "name": "python3",
      "display_name": "Python 3"
    },
    "language_info": {
      "name": "python"
    }
  },
  "cells": [
    {
      "cell_type": "markdown",
      "source": [
        "Data e Horas - 'datetime'\n",
        "É usado para lidar com datas e horas. Ele possui várias classes úteis como date, time e timedelta."
      ],
      "metadata": {
        "id": "49dN0j00sKI4"
      }
    },
    {
      "cell_type": "code",
      "source": [
        "#from datetime import date, datetime, time"
      ],
      "metadata": {
        "id": "-OQb4zgTwjoT"
      },
      "execution_count": null,
      "outputs": []
    },
    {
      "cell_type": "code",
      "execution_count": null,
      "metadata": {
        "colab": {
          "base_uri": "https://localhost:8080/"
        },
        "id": "ZfqsNHPXrNyq",
        "outputId": "f053d8e3-8360-4918-a3b1-c14237fc5c30"
      },
      "outputs": [
        {
          "output_type": "stream",
          "name": "stdout",
          "text": [
            "2024-07-20\n"
          ]
        }
      ],
      "source": [
        "import datetime\n",
        "\n",
        "d = datetime.date(2024, 7, 20)\n",
        "\n",
        "print(d)"
      ]
    },
    {
      "cell_type": "code",
      "source": [
        "from datetime import date\n",
        "\n",
        "data = date(2024, 6, 15)\n",
        "\n",
        "print(data)"
      ],
      "metadata": {
        "colab": {
          "base_uri": "https://localhost:8080/"
        },
        "id": "RRN2AWJStBac",
        "outputId": "2ab20e05-d74d-4600-cd8c-dc2f942462e5"
      },
      "execution_count": null,
      "outputs": [
        {
          "output_type": "stream",
          "name": "stdout",
          "text": [
            "2024-06-15\n"
          ]
        }
      ]
    },
    {
      "cell_type": "code",
      "source": [
        "## today()\n",
        "\n",
        "print(date.today())   ## pegando a data atual"
      ],
      "metadata": {
        "colab": {
          "base_uri": "https://localhost:8080/"
        },
        "id": "3x784E_Wt-4L",
        "outputId": "b3426a44-1bda-43e5-9360-4c1ce1d78633"
      },
      "execution_count": null,
      "outputs": [
        {
          "output_type": "stream",
          "name": "stdout",
          "text": [
            "2024-10-23\n"
          ]
        }
      ]
    },
    {
      "cell_type": "code",
      "source": [
        "## datetime\n",
        "from datetime import datetime\n",
        "\n",
        "data_hora = datetime(2024, 6, 15, 10, 30, 20)\n",
        "print(data_hora)"
      ],
      "metadata": {
        "colab": {
          "base_uri": "https://localhost:8080/"
        },
        "id": "Os8y-sp7uFOl",
        "outputId": "b8995d09-64cc-450e-dc03-3a65edd1fe5b"
      },
      "execution_count": null,
      "outputs": [
        {
          "output_type": "stream",
          "name": "stdout",
          "text": [
            "2024-06-15 10:30:20\n"
          ]
        }
      ]
    },
    {
      "cell_type": "code",
      "source": [
        "## time\n",
        "from datetime import time\n",
        "\n",
        "hora = time(10, 20, 0)\n",
        "print(hora)"
      ],
      "metadata": {
        "colab": {
          "base_uri": "https://localhost:8080/"
        },
        "id": "k2GA59drwffE",
        "outputId": "68a736f6-e0e5-42bd-8263-4f9af5b7b652"
      },
      "execution_count": null,
      "outputs": [
        {
          "output_type": "stream",
          "name": "stdout",
          "text": [
            "10:20:00\n"
          ]
        }
      ]
    },
    {
      "cell_type": "markdown",
      "source": [
        "Manipulando datas com timedelta\n",
        "Podemos adicionar e subtrair datas, verificar a diferença entre datas e muito mais."
      ],
      "metadata": {
        "id": "8yuYd5uHvlXX"
      }
    },
    {
      "cell_type": "code",
      "source": [
        "from datetime import  date, datetime, timedelta, time\n",
        "\n",
        "# criando data e hora\n",
        "\n",
        "d = datetime(2024, 6, 20, 13, 45)\n",
        "print(d)"
      ],
      "metadata": {
        "colab": {
          "base_uri": "https://localhost:8080/"
        },
        "id": "2BvKzp62xEa2",
        "outputId": "984ecd30-75a4-4cd1-e502-f8880b3c51b2"
      },
      "execution_count": 45,
      "outputs": [
        {
          "output_type": "stream",
          "name": "stdout",
          "text": [
            "2024-06-20 13:45:00\n"
          ]
        }
      ]
    },
    {
      "cell_type": "code",
      "source": [
        "## timedelta\n",
        "\n",
        "## adicionando uma senama\n",
        "\n",
        "d = d + timedelta(weeks=1)\n",
        "print(d)"
      ],
      "metadata": {
        "colab": {
          "base_uri": "https://localhost:8080/"
        },
        "id": "Dy9cQ8NfxoXc",
        "outputId": "4e6fa338-d00a-4008-ea91-0035d4bae656"
      },
      "execution_count": null,
      "outputs": [
        {
          "output_type": "stream",
          "name": "stdout",
          "text": [
            "2024-07-04 13:45:00\n"
          ]
        }
      ]
    },
    {
      "cell_type": "code",
      "source": [
        "\n",
        "tipo_carro = 'M'\n",
        "tempo_pequeno = 30\n",
        "tempo_medio = 45\n",
        "tempo_grande = 60\n",
        "data_atual = datetime.now()    #utcnow() #now()  #today()\n",
        "\n",
        "if tipo_carro == 'P':\n",
        "  data_estimada = data_atual + timedelta(minutes=tempo_pequeno)\n",
        "  print(f'O carro chegou: {data_atual} e ficará pronto às {data_estimada}')\n",
        "elif tipo_carro == 'M':\n",
        "  data_estimada = data_atual + timedelta(minutes=tempo_medio)\n",
        "  print(f'O carro chegou: {data_atual} e ficará pronto às {data_estimada}')\n",
        "else:\n",
        "  data_estimada = data_atual + timedelta(minutes=tempo_grande)\n",
        "  print(f'O carro chegou: {data_atual} e ficará pronto às {data_estimada}')"
      ],
      "metadata": {
        "colab": {
          "base_uri": "https://localhost:8080/"
        },
        "id": "Gi5zSgMzx2OC",
        "outputId": "9c960123-856f-4630-e418-9b2cfb16d211"
      },
      "execution_count": null,
      "outputs": [
        {
          "output_type": "stream",
          "name": "stdout",
          "text": [
            "O carro chegou: 2024-10-23 19:36:46.866135 e ficará pronto às 2024-10-23 20:21:46.866135\n"
          ]
        }
      ]
    },
    {
      "cell_type": "code",
      "source": [
        "print(date.today() - timedelta(days=1))"
      ],
      "metadata": {
        "colab": {
          "base_uri": "https://localhost:8080/"
        },
        "id": "7ouFAc9i0E3h",
        "outputId": "f7de3148-9125-4e3b-d640-72f8303ff314"
      },
      "execution_count": null,
      "outputs": [
        {
          "output_type": "stream",
          "name": "stdout",
          "text": [
            "2024-10-22\n"
          ]
        }
      ]
    },
    {
      "cell_type": "code",
      "source": [
        "resultado = datetime(2024, 6, 20, 10, 19, 20) - timedelta (hours=1)\n",
        "print(resultado.time())"
      ],
      "metadata": {
        "colab": {
          "base_uri": "https://localhost:8080/"
        },
        "id": "mRouAWyT4nZH",
        "outputId": "6e3e4412-bc65-47dd-f2ae-99fb00f050a4"
      },
      "execution_count": null,
      "outputs": [
        {
          "output_type": "stream",
          "name": "stdout",
          "text": [
            "09:19:20\n"
          ]
        }
      ]
    },
    {
      "cell_type": "markdown",
      "source": [
        "Formatando e convertendo datas com strftime (string format time) e str strprime (string parse time)"
      ],
      "metadata": {
        "id": "sM9ksTynNgww"
      }
    },
    {
      "cell_type": "code",
      "source": [
        "from datetime import  date, datetime, timedelta, time\n",
        "\n",
        "d = datetime.now()\n",
        "\n",
        "# formatando data e hora\n",
        "print(d.strftime(\"%d/%m/%Y  %H:%M\"))"
      ],
      "metadata": {
        "colab": {
          "base_uri": "https://localhost:8080/"
        },
        "id": "5Qn9TuCLNrUU",
        "outputId": "3f886657-7fea-4522-9d9b-99b42d4c9b60"
      },
      "execution_count": null,
      "outputs": [
        {
          "output_type": "stream",
          "name": "stdout",
          "text": [
            "23/10/2024  21:26\n"
          ]
        }
      ]
    },
    {
      "cell_type": "code",
      "source": [
        "date_string = \"20/06/2024  16:30\"\n",
        "d = datetime.strptime(date_string, \"%d/%m/%Y  %H:%M\")\n",
        "print(d)"
      ],
      "metadata": {
        "colab": {
          "base_uri": "https://localhost:8080/"
        },
        "id": "NkcIo8yhPjH-",
        "outputId": "c6d366cb-7b5c-4fa9-9186-203e28216778"
      },
      "execution_count": null,
      "outputs": [
        {
          "output_type": "stream",
          "name": "stdout",
          "text": [
            "2024-06-20 16:30:00\n"
          ]
        }
      ]
    },
    {
      "cell_type": "code",
      "source": [
        "from datetime import datetime\n",
        "\n",
        "data_hora_atual = datetime.now()\n",
        "data_hora_str = \"2024-05-25 10:20\"\n",
        "mascara_ptbr = '%d/%m/%Y  %H:%M'\n",
        "\n",
        "print(data_hora_atual.strftime(mascara_ptbr))"
      ],
      "metadata": {
        "colab": {
          "base_uri": "https://localhost:8080/"
        },
        "id": "CvJvyGaBgu7r",
        "outputId": "0f6e0932-6a41-4702-9353-19a5beab6e8c"
      },
      "execution_count": 14,
      "outputs": [
        {
          "output_type": "stream",
          "name": "stdout",
          "text": [
            "24/10/2024  12:43\n"
          ]
        }
      ]
    },
    {
      "cell_type": "code",
      "source": [
        "## dias da semana %a\n",
        "\n",
        "\n",
        "data_hora_atual = datetime.now()\n",
        "data_hora_str = \"2024-05-25 10:20\"\n",
        "mascara_ptbr = '%d/%m/%Y  %a'\n",
        "mascara_en = '%Y-%m-%d  %H: %M'\n",
        "\n",
        "print(data_hora_atual.strftime(mascara_ptbr))"
      ],
      "metadata": {
        "colab": {
          "base_uri": "https://localhost:8080/"
        },
        "id": "9v4Z411jhVhn",
        "outputId": "6ddc7ad1-403c-4fc3-d372-37c335fd1111"
      },
      "execution_count": 8,
      "outputs": [
        {
          "output_type": "stream",
          "name": "stdout",
          "text": [
            "24/10/2024  Thu\n"
          ]
        }
      ]
    },
    {
      "cell_type": "code",
      "source": [
        "# converter para formato americano (en)\n",
        "\n",
        "data_hora_atual = datetime.now()\n",
        "data_hora_str = \"2024-05-25 10:20\"\n",
        "mascara_ptbr = '%d/%m/%Y  %a'\n",
        "mascara_en = '%Y-%m-%d  %H:%M'\n",
        "\n",
        "print(datetime.strptime(data_hora_str, mascara_en))"
      ],
      "metadata": {
        "colab": {
          "base_uri": "https://localhost:8080/"
        },
        "id": "rI11Ny9_ie3u",
        "outputId": "89821c27-9077-4448-c14e-4e88da293c4f"
      },
      "execution_count": 16,
      "outputs": [
        {
          "output_type": "stream",
          "name": "stdout",
          "text": [
            "2024-05-25 10:20:00\n"
          ]
        }
      ]
    },
    {
      "cell_type": "code",
      "source": [
        "data_convertida = datetime.strptime(data_hora_str, mascara_en)\n",
        "print(data_convertida)\n",
        "print(type(data_convertida))"
      ],
      "metadata": {
        "colab": {
          "base_uri": "https://localhost:8080/"
        },
        "id": "RCHlnlUaje43",
        "outputId": "68131ee8-d4c9-4d5c-b6ea-ea5dd9267659"
      },
      "execution_count": 18,
      "outputs": [
        {
          "output_type": "stream",
          "name": "stdout",
          "text": [
            "2024-05-25 10:20:00\n",
            "<class 'datetime.datetime'>\n"
          ]
        }
      ]
    },
    {
      "cell_type": "markdown",
      "source": [
        "Trabalhando com timezone - fuso horario - módulo 'pytz'"
      ],
      "metadata": {
        "id": "Yayo2RPIgROp"
      }
    },
    {
      "cell_type": "code",
      "source": [
        "## pip install putz\n",
        "\n",
        "from datetime import datetime\n",
        "import pytz  ##biblioteca que permmite trabalhar com timezone\n",
        "\n",
        "# criando datetime com timezone\n",
        "data = datetime.now(pytz.timezone(\"America/Sao_Paulo\"))\n",
        "print(data)"
      ],
      "metadata": {
        "colab": {
          "base_uri": "https://localhost:8080/"
        },
        "id": "htpmtukkkY97",
        "outputId": "b785a53f-9c8a-4786-a98b-ae233e106431"
      },
      "execution_count": 28,
      "outputs": [
        {
          "output_type": "stream",
          "name": "stdout",
          "text": [
            "2024-10-24 10:02:22.762572-03:00\n"
          ]
        }
      ]
    },
    {
      "cell_type": "code",
      "source": [
        "## com py padrão\n",
        "\n",
        "from datetime import datetime\n",
        "\n",
        "#criando datetime com timezone\n",
        "d = datetime.now(timezone(timedelta(hours=-3), 'BRT'))\n",
        "print(d)\n"
      ],
      "metadata": {
        "colab": {
          "base_uri": "https://localhost:8080/"
        },
        "id": "zJlHcjrVlrCg",
        "outputId": "c3485394-81c2-4ffa-ef11-de19357220e1"
      },
      "execution_count": 35,
      "outputs": [
        {
          "output_type": "stream",
          "name": "stdout",
          "text": [
            "2024-10-24 10:09:15.670617-03:00\n"
          ]
        }
      ]
    },
    {
      "cell_type": "code",
      "source": [
        "import datetime\n",
        "\n",
        "#criando datetime com timezone\n",
        "d = datetime.datetime.now(datetime.timezone(datetime.timedelta(hours=-3), 'BRT'))\n",
        "print(d)"
      ],
      "metadata": {
        "colab": {
          "base_uri": "https://localhost:8080/"
        },
        "id": "DCKbwhARpP2a",
        "outputId": "67989163-60c8-4d5e-9f3d-cad7432f7566"
      },
      "execution_count": 34,
      "outputs": [
        {
          "output_type": "stream",
          "name": "stdout",
          "text": [
            "2024-10-24 10:09:09.422892-03:00\n"
          ]
        }
      ]
    },
    {
      "cell_type": "code",
      "source": [
        "# convertendo para outro timezone\n",
        "import datetime\n",
        "\n",
        "d_utc = d.astimezone(datetime.timezone.utc)\n",
        "print(d_utc)"
      ],
      "metadata": {
        "colab": {
          "base_uri": "https://localhost:8080/"
        },
        "id": "eIWTmHtypWFC",
        "outputId": "2e09f2ba-fbf8-4521-919d-316708c6cafb"
      },
      "execution_count": 37,
      "outputs": [
        {
          "output_type": "stream",
          "name": "stdout",
          "text": [
            "2024-10-24 13:09:15.670617+00:00\n"
          ]
        }
      ]
    },
    {
      "cell_type": "markdown",
      "source": [
        "**Desafio!!!**"
      ],
      "metadata": {
        "id": "Lsfcyb2PqfgN"
      }
    },
    {
      "cell_type": "markdown",
      "source": [
        "Com os novos conhecimentos adquiridos sobre data e hora, você foi encarregado de implementar as seguintes funcionalidades no sistema:\n",
        "- Estabelecer um limite de 10 transações diárias para uma conta\n",
        "- Se o usuário tentar fazer uma transação após atingir o limite, deve ser informado que ele excedeu o número de transações permitidas para aquele dia.\n",
        "- Mostre no extrato, a data e hora de todas as transações."
      ],
      "metadata": {
        "id": "puF4Qgz9qlLh"
      }
    },
    {
      "cell_type": "code",
      "source": [
        "from datetime import datetime, timedelta\n",
        "\n",
        "d = datetime(2023, 1, 1)\n",
        "new_date = d + timedelta(days=10)\n",
        "print(new_date)"
      ],
      "metadata": {
        "colab": {
          "base_uri": "https://localhost:8080/"
        },
        "id": "07f4kp7SrGX7",
        "outputId": "c42c74ac-82f6-4b6c-d0a2-26be2b47795e"
      },
      "execution_count": 42,
      "outputs": [
        {
          "output_type": "stream",
          "name": "stdout",
          "text": [
            "2023-01-11 00:00:00\n"
          ]
        }
      ]
    },
    {
      "cell_type": "code",
      "source": [
        "from datetime import datetime\n",
        "\n",
        "date_string = \"2023-05-01\"\n",
        "date_obj = datetime.strptime(date_string, \"%Y-%d-%m\")\n",
        "\n",
        "print(date_obj)"
      ],
      "metadata": {
        "colab": {
          "base_uri": "https://localhost:8080/"
        },
        "id": "zkfK6GkNqhXS",
        "outputId": "0d9dfc01-4499-415a-90ef-038a72366db9"
      },
      "execution_count": 43,
      "outputs": [
        {
          "output_type": "stream",
          "name": "stdout",
          "text": [
            "2023-01-05 00:00:00\n"
          ]
        }
      ]
    }
  ]
}