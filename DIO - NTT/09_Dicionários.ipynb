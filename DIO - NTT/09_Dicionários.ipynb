{
  "nbformat": 4,
  "nbformat_minor": 0,
  "metadata": {
    "colab": {
      "provenance": []
    },
    "kernelspec": {
      "name": "python3",
      "display_name": "Python 3"
    },
    "language_info": {
      "name": "python"
    }
  },
  "cells": [
    {
      "cell_type": "markdown",
      "source": [
        "Dicionários - É um conjunto não-ordenado de pares chaves:valor, onde as chaves são únicas em uma dada instância do dicionário. Dicionários sao delimitados por chaves: {}, e contém uma lista de pares chave:valor separada por vírgulas.\n",
        "-- a chave tem que ser um valor imutavel -> str uma tupla"
      ],
      "metadata": {
        "id": "UQZwuOQYl23T"
      }
    },
    {
      "cell_type": "code",
      "execution_count": null,
      "metadata": {
        "colab": {
          "base_uri": "https://localhost:8080/"
        },
        "id": "mDmHOhSalypk",
        "outputId": "6199d132-dbf6-4287-e78b-e71550e75511"
      },
      "outputs": [
        {
          "output_type": "execute_result",
          "data": {
            "text/plain": [
              "{'nome': 'Guilherme', 'idade': 28}"
            ]
          },
          "metadata": {},
          "execution_count": 1
        }
      ],
      "source": [
        "## chave:valor\n",
        "\n",
        "pessoa = {\n",
        "    \"nome\": \"Guilherme\",\n",
        "    \"idade\": 28\n",
        "}\n",
        "\n",
        "pessoa"
      ]
    },
    {
      "cell_type": "code",
      "source": [
        "pessoa = dict(nome=\"guilherme\", idade=28)  #mutavel\n",
        "\n",
        "pessoa"
      ],
      "metadata": {
        "colab": {
          "base_uri": "https://localhost:8080/"
        },
        "id": "A-mavqyUnUeI",
        "outputId": "7e9c09eb-d6cc-42f1-a586-79c084abefa5"
      },
      "execution_count": null,
      "outputs": [
        {
          "output_type": "execute_result",
          "data": {
            "text/plain": [
              "{'nome': 'guilherme', 'idade': 28}"
            ]
          },
          "metadata": {},
          "execution_count": 2
        }
      ]
    },
    {
      "cell_type": "code",
      "source": [
        "pessoa[\"telefone\"] = \"3333-1254\"  ## adicionando uma nova chave\n",
        "\n",
        "pessoa"
      ],
      "metadata": {
        "colab": {
          "base_uri": "https://localhost:8080/"
        },
        "id": "4e_1DRs9nb8w",
        "outputId": "3ccb8b47-65e1-4793-cff8-9f5a7c80cff2"
      },
      "execution_count": null,
      "outputs": [
        {
          "output_type": "execute_result",
          "data": {
            "text/plain": [
              "{'nome': 'guilherme', 'idade': 28, 'telefone': '3333-1254'}"
            ]
          },
          "metadata": {},
          "execution_count": 4
        }
      ]
    },
    {
      "cell_type": "code",
      "source": [
        "## acessando os dados\n",
        "\n",
        "dados = {\n",
        "    \"nome\": \"Guilherme\",\n",
        "    \"idade\": 28,\n",
        "    \"telefone\": \"3333-1234\"\n",
        "}\n",
        "\n",
        "print(dados[\"nome\"])\n",
        "print(dados[\"idade\"])\n",
        "print(dados[\"telefone\"])"
      ],
      "metadata": {
        "colab": {
          "base_uri": "https://localhost:8080/"
        },
        "id": "3uUFglWcr1Ag",
        "outputId": "ab20fcd1-d460-4f30-db57-910d4ab4c938"
      },
      "execution_count": null,
      "outputs": [
        {
          "output_type": "stream",
          "name": "stdout",
          "text": [
            "Guilherme\n",
            "28\n",
            "3333-1234\n"
          ]
        }
      ]
    },
    {
      "cell_type": "code",
      "source": [
        "dados[\"nome\"] = \"Maria\"\n",
        "dados[\"idade\"] = 18\n",
        "dados[\"telefone\"] = \"9988-1781\"\n",
        "\n",
        "dados"
      ],
      "metadata": {
        "colab": {
          "base_uri": "https://localhost:8080/"
        },
        "id": "Fn6enth3sRnj",
        "outputId": "0299c1b2-8c95-4ca2-9e0c-07e2199432fd"
      },
      "execution_count": null,
      "outputs": [
        {
          "output_type": "execute_result",
          "data": {
            "text/plain": [
              "{'nome': 'Maria', 'idade': 18, 'telefone': '9988-1781'}"
            ]
          },
          "metadata": {},
          "execution_count": 7
        }
      ]
    },
    {
      "cell_type": "markdown",
      "source": [
        "Dicionários aninhados - podemos armazenar qualuqer tipo de objeto python como valor, desde que a chave para esse valor seja um objeto imutável como (strings e números)."
      ],
      "metadata": {
        "id": "eEnMAsSisuyw"
      }
    },
    {
      "cell_type": "code",
      "source": [
        "contatos={\n",
        "    \"guilherme@gmail.com\": {\"nome\": \"guilherme\", \"telefone\": \"3333-1234\"},\n",
        "    \"maria@gmail.com\": {\"nome\": \"maria\", \"telefone\": \"5555-1234\"},\n",
        "    \"jose@gmail.com\": {\"nome\": \"jose\", \"telefone\": \"6666-1234\"},\n",
        "    \"silva@gmail.com\": {\"nome\": \"silva\", \"telefone\": \"9999-1234\"},\n",
        "}\n",
        "\n",
        "contatos"
      ],
      "metadata": {
        "colab": {
          "base_uri": "https://localhost:8080/"
        },
        "id": "Sxg2EJzss6Ro",
        "outputId": "04051bfb-024c-489c-9884-c5f827192f3d"
      },
      "execution_count": null,
      "outputs": [
        {
          "output_type": "execute_result",
          "data": {
            "text/plain": [
              "{'guilherme@gmail.com': {'nome': 'guilherme', 'telefone': '3333-1234'},\n",
              " 'maria@gmail.com': {'nome': 'maria', 'telefone': '5555-1234'},\n",
              " 'jose@gmail.com': {'nome': 'jose', 'telefone': '6666-1234'},\n",
              " 'silva@gmail.com': {'nome': 'silva', 'telefone': '9999-1234'}}"
            ]
          },
          "metadata": {},
          "execution_count": 8
        }
      ]
    },
    {
      "cell_type": "code",
      "source": [
        "contatos[\"maria@gmail.com\"][\"telefone\"]   ## do email de maria traga o seu telefone"
      ],
      "metadata": {
        "colab": {
          "base_uri": "https://localhost:8080/",
          "height": 36
        },
        "id": "ELwLAwFrtd6R",
        "outputId": "64d2c26b-9a0d-4078-e6e6-2f2f8dd14725"
      },
      "execution_count": null,
      "outputs": [
        {
          "output_type": "execute_result",
          "data": {
            "text/plain": [
              "'5555-1234'"
            ],
            "application/vnd.google.colaboratory.intrinsic+json": {
              "type": "string"
            }
          },
          "metadata": {},
          "execution_count": 9
        }
      ]
    },
    {
      "cell_type": "code",
      "source": [
        "## iterar dicioários\n",
        "\n",
        "for chave in contatos:\n",
        "  print(chave, contatos[chave])\n"
      ],
      "metadata": {
        "colab": {
          "base_uri": "https://localhost:8080/"
        },
        "id": "CmzWjvYVvgVg",
        "outputId": "56a0efe6-a255-4d8d-cbc2-d40c630f2201"
      },
      "execution_count": null,
      "outputs": [
        {
          "output_type": "stream",
          "name": "stdout",
          "text": [
            "guilherme@gmail.com {'nome': 'guilherme', 'telefone': '3333-1234'}\n",
            "maria@gmail.com {'nome': 'maria', 'telefone': '5555-1234'}\n",
            "jose@gmail.com {'nome': 'jose', 'telefone': '6666-1234'}\n",
            "silva@gmail.com {'nome': 'silva', 'telefone': '9999-1234'}\n"
          ]
        }
      ]
    },
    {
      "cell_type": "code",
      "source": [
        "for chave, valor in contatos.items():\n",
        "  print(chave, valor)"
      ],
      "metadata": {
        "colab": {
          "base_uri": "https://localhost:8080/"
        },
        "id": "vJbPh4KBvqaa",
        "outputId": "321db596-0c0f-4250-cff5-9e7691869b4a"
      },
      "execution_count": null,
      "outputs": [
        {
          "output_type": "stream",
          "name": "stdout",
          "text": [
            "guilherme@gmail.com {'nome': 'guilherme', 'telefone': '3333-1234'}\n",
            "maria@gmail.com {'nome': 'maria', 'telefone': '5555-1234'}\n",
            "jose@gmail.com {'nome': 'jose', 'telefone': '6666-1234'}\n",
            "silva@gmail.com {'nome': 'silva', 'telefone': '9999-1234'}\n"
          ]
        }
      ]
    },
    {
      "cell_type": "markdown",
      "source": [
        "Métodos da class dict"
      ],
      "metadata": {
        "id": "dzQ7y2TZwmdT"
      }
    },
    {
      "cell_type": "code",
      "source": [
        "## {}.clear\n",
        "\n",
        "contatos={\n",
        "    \"guilherme@gmail.com\": {\"nome\": \"guilherme\", \"telefone\": \"3333-1234\"},\n",
        "    \"maria@gmail.com\": {\"nome\": \"maria\", \"telefone\": \"5555-1234\"},\n",
        "    \"jose@gmail.com\": {\"nome\": \"jose\", \"telefone\": \"6666-1234\"},\n",
        "    \"silva@gmail.com\": {\"nome\": \"silva\", \"telefone\": \"9999-1234\"},\n",
        "}\n",
        "\n",
        "contatos.clear()\n",
        "contatos"
      ],
      "metadata": {
        "colab": {
          "base_uri": "https://localhost:8080/"
        },
        "id": "xHt2UXgDwb5I",
        "outputId": "1c336f58-0bcb-415a-f814-2ae74b5ffada"
      },
      "execution_count": null,
      "outputs": [
        {
          "output_type": "execute_result",
          "data": {
            "text/plain": [
              "{}"
            ]
          },
          "metadata": {},
          "execution_count": 14
        }
      ]
    },
    {
      "cell_type": "code",
      "source": [
        "## {}.copy\n",
        "\n",
        "contatos={\n",
        "    \"guilherme@gmail.com\": {\"nome\": \"guilherme\", \"telefone\": \"3333-1234\"},\n",
        "}\n",
        "\n",
        "copia = contatos.copy()"
      ],
      "metadata": {
        "id": "_VwgT6MexvVJ"
      },
      "execution_count": null,
      "outputs": []
    },
    {
      "cell_type": "code",
      "source": [
        "copia[\"guilherme@gmail.com\"] = {\"nome\":\"Gui\"}"
      ],
      "metadata": {
        "id": "y-ww4eecyCT4"
      },
      "execution_count": null,
      "outputs": []
    },
    {
      "cell_type": "code",
      "source": [
        "print(contatos['guilherme@gmail.com'])\n",
        "\n",
        "print(copia['guilherme@gmail.com'])"
      ],
      "metadata": {
        "colab": {
          "base_uri": "https://localhost:8080/"
        },
        "id": "vm_3kmPGyDO_",
        "outputId": "a80e8407-41c7-46f8-ca06-867f0b5e665f"
      },
      "execution_count": null,
      "outputs": [
        {
          "output_type": "stream",
          "name": "stdout",
          "text": [
            "{'nome': 'guilherme', 'telefone': '3333-1234'}\n",
            "{'nome': 'Gui'}\n"
          ]
        }
      ]
    },
    {
      "cell_type": "code",
      "source": [
        "## {}.fromkeys - cria chaves\n",
        "\n",
        "dict.fromkeys([\"nome\", \"telefone\"])"
      ],
      "metadata": {
        "colab": {
          "base_uri": "https://localhost:8080/"
        },
        "id": "UUPvhXRNyIb4",
        "outputId": "eba24863-fb45-4ace-cf73-d6a30a0fe652"
      },
      "execution_count": null,
      "outputs": [
        {
          "output_type": "execute_result",
          "data": {
            "text/plain": [
              "{'nome': None, 'telefone': None}"
            ]
          },
          "metadata": {},
          "execution_count": 22
        }
      ]
    },
    {
      "cell_type": "code",
      "source": [
        "dict.fromkeys([\"nome\", \"telefone\"], \"vazio\") ## colocar valores de uma vez só"
      ],
      "metadata": {
        "colab": {
          "base_uri": "https://localhost:8080/"
        },
        "id": "MD_HzhygzGgC",
        "outputId": "c7f0677c-d0b6-4996-e754-4389d3546b8e"
      },
      "execution_count": null,
      "outputs": [
        {
          "output_type": "execute_result",
          "data": {
            "text/plain": [
              "{'nome': 'vazio', 'telefone': 'vazio'}"
            ]
          },
          "metadata": {},
          "execution_count": 24
        }
      ]
    },
    {
      "cell_type": "code",
      "source": [
        "## {}.get\n",
        "\n",
        "contatos={\n",
        "    \"guilherme@gmail.com\": {\"nome\": \"guilherme\", \"telefone\": \"3333-1234\"}\n",
        "}\n",
        "\n",
        "print(contatos.get(\"chave\"))  # procurar a chave que você está procuranto\n",
        "print(contatos.get(\"chave\", {}))\n",
        "print(contatos.get(\"guilherme@gmail.com\", {})) # se não achar a chave retorne o dicionario vazio {}"
      ],
      "metadata": {
        "colab": {
          "base_uri": "https://localhost:8080/"
        },
        "id": "FLKTX1lozkLD",
        "outputId": "b26213f9-8d5b-4d4f-9671-12e3c8f33995"
      },
      "execution_count": null,
      "outputs": [
        {
          "output_type": "stream",
          "name": "stdout",
          "text": [
            "None\n",
            "{}\n",
            "{'nome': 'guilherme', 'telefone': '3333-1234'}\n"
          ]
        }
      ]
    },
    {
      "cell_type": "code",
      "source": [
        "## {}.items -- retorna listas de tuplas\n",
        "\n",
        "contatos={\n",
        "    \"guilherme@gmail.com\": {\"nome\": \"guilherme\", \"telefone\": \"3333-1234\"}\n",
        "}\n",
        "\n",
        "contatos.items()"
      ],
      "metadata": {
        "colab": {
          "base_uri": "https://localhost:8080/"
        },
        "id": "fVD4clTUz8HI",
        "outputId": "a003d446-2313-4e99-da8c-d3245c4199db"
      },
      "execution_count": null,
      "outputs": [
        {
          "output_type": "execute_result",
          "data": {
            "text/plain": [
              "dict_items([('guilherme@gmail.com', {'nome': 'guilherme', 'telefone': '3333-1234'})])"
            ]
          },
          "metadata": {},
          "execution_count": 38
        }
      ]
    },
    {
      "cell_type": "code",
      "source": [
        "## {}.keys  - retorna só a chave primaria\n",
        "\n",
        "contatos={\n",
        "    \"guilherme@gmail.com\": {\"nome\": \"guilherme\", \"telefone\": \"3333-1234\"}\n",
        "}\n",
        "\n",
        "contatos.keys()\n"
      ],
      "metadata": {
        "colab": {
          "base_uri": "https://localhost:8080/"
        },
        "id": "ZdNHaTqC1G6h",
        "outputId": "67c3900a-89fa-49b1-9639-a417462e807b"
      },
      "execution_count": null,
      "outputs": [
        {
          "output_type": "execute_result",
          "data": {
            "text/plain": [
              "dict_keys(['guilherme@gmail.com'])"
            ]
          },
          "metadata": {},
          "execution_count": 39
        }
      ]
    },
    {
      "cell_type": "code",
      "source": [
        "novo_dicionario = {\"a\": 100, 1: \"teste\", \"b\": \"python\"}\n",
        "\n",
        "novo_dicionario.keys()"
      ],
      "metadata": {
        "colab": {
          "base_uri": "https://localhost:8080/"
        },
        "id": "E9CKO88r1XaJ",
        "outputId": "476dea07-1ef3-4b98-908d-b573b230e091"
      },
      "execution_count": null,
      "outputs": [
        {
          "output_type": "execute_result",
          "data": {
            "text/plain": [
              "dict_keys(['a', 1, 'b'])"
            ]
          },
          "metadata": {},
          "execution_count": 40
        }
      ]
    },
    {
      "cell_type": "code",
      "source": [
        "## {}.pop - remover uma chave do seu dicionario\n",
        "\n",
        "contatos={\n",
        "    \"guilherme@gmail.com\": {\"nome\": \"guilherme\", \"telefone\": \"3333-1234\"}\n",
        "}\n",
        "\n",
        "print(contatos.pop(\"guilherme@gmail.com\"))\n",
        "print(contatos.pop(\"guilherme@gmail.com\", {}))"
      ],
      "metadata": {
        "colab": {
          "base_uri": "https://localhost:8080/"
        },
        "id": "P02pyceU1moY",
        "outputId": "b1cd44ef-a49a-4a18-df5d-029ff8e62406"
      },
      "execution_count": null,
      "outputs": [
        {
          "output_type": "stream",
          "name": "stdout",
          "text": [
            "{'nome': 'guilherme', 'telefone': '3333-1234'}\n",
            "{}\n"
          ]
        }
      ]
    },
    {
      "cell_type": "code",
      "source": [
        "## {}.setdefault -- adicionar em uma chave que não existe\n",
        "\n",
        "contato={\n",
        "    \"nome\": \"guilherme\", \"telefone\": \"3333-1234\"\n",
        "}\n",
        "\n",
        "contato.setdefault(\"nome\", \"giovana\")\n",
        "contato"
      ],
      "metadata": {
        "colab": {
          "base_uri": "https://localhost:8080/"
        },
        "id": "fF1bG1dj3C5B",
        "outputId": "a1c1d4d9-447f-435f-a229-724a712cdcf7"
      },
      "execution_count": null,
      "outputs": [
        {
          "output_type": "execute_result",
          "data": {
            "text/plain": [
              "{'nome': 'guilherme', 'telefone': '3333-1234'}"
            ]
          },
          "metadata": {},
          "execution_count": 45
        }
      ]
    },
    {
      "cell_type": "code",
      "source": [
        "contato.setdefault(\"idade\", 28)\n",
        "\n",
        "contato"
      ],
      "metadata": {
        "colab": {
          "base_uri": "https://localhost:8080/"
        },
        "id": "pmQdkkkq3m3r",
        "outputId": "8afcfbf3-d259-47dd-f5bc-bde2d9859fb4"
      },
      "execution_count": null,
      "outputs": [
        {
          "output_type": "execute_result",
          "data": {
            "text/plain": [
              "{'nome': 'guilherme', 'telefone': '3333-1234', 'idade': 28}"
            ]
          },
          "metadata": {},
          "execution_count": 46
        }
      ]
    },
    {
      "cell_type": "code",
      "source": [
        "## {}.update - atualizar\n",
        "\n",
        "contatos={\n",
        "    \"guilherme@gmail.com\": {\"nome\": \"guilherme\", \"telefone\": \"3333-1234\"}\n",
        "}\n",
        "\n",
        "contatos.update({\"guilherme@gmail.com\": {\"nome\": \"Gui\"}})\n",
        "\n",
        "contatos\n"
      ],
      "metadata": {
        "colab": {
          "base_uri": "https://localhost:8080/"
        },
        "id": "vkHD7u8235-Q",
        "outputId": "a5515b6a-8f3f-4540-dcc4-8fabd97fa9f3"
      },
      "execution_count": null,
      "outputs": [
        {
          "output_type": "execute_result",
          "data": {
            "text/plain": [
              "{'guilherme@gmail.com': {'nome': 'Gui'}}"
            ]
          },
          "metadata": {},
          "execution_count": 48
        }
      ]
    },
    {
      "cell_type": "code",
      "source": [
        "contatos.update({\"giovana@gmail.com\": {\"nome\": \"giovana\", \"telefone\": \"3335-6254\"}})\n",
        "\n",
        "contatos"
      ],
      "metadata": {
        "colab": {
          "base_uri": "https://localhost:8080/"
        },
        "id": "ZpFXO-T24l_V",
        "outputId": "c128b68f-0af2-471c-9e13-e0ee12dbecf1"
      },
      "execution_count": null,
      "outputs": [
        {
          "output_type": "execute_result",
          "data": {
            "text/plain": [
              "{'guilherme@gmail.com': {'nome': 'Gui'},\n",
              " 'giovana@gmail.com': {'nome': 'giovana', 'telefone': '3335-6254'}}"
            ]
          },
          "metadata": {},
          "execution_count": 49
        }
      ]
    },
    {
      "cell_type": "code",
      "source": [
        "## {}.values - retorna só os valores sem as chaves\n",
        "\n",
        "contatos={\n",
        "    \"guilherme@gmail.com\": {\"nome\": \"guilherme\", \"telefone\": \"3333-1234\"},\n",
        "    \"maria@gmail.com\": {\"nome\": \"maria\", \"telefone\": \"5555-1234\"},\n",
        "    \"jose@gmail.com\": {\"nome\": \"jose\", \"telefone\": \"6666-1234\"},\n",
        "    \"silva@gmail.com\": {\"nome\": \"silva\", \"telefone\": \"9999-1234\"},\n",
        "}\n",
        "\n",
        "contatos.values()"
      ],
      "metadata": {
        "colab": {
          "base_uri": "https://localhost:8080/"
        },
        "id": "y_Vj9tm94ySQ",
        "outputId": "eb0c08f8-1126-4d63-a8eb-353d85e34650"
      },
      "execution_count": null,
      "outputs": [
        {
          "output_type": "execute_result",
          "data": {
            "text/plain": [
              "dict_values([{'nome': 'guilherme', 'telefone': '3333-1234'}, {'nome': 'maria', 'telefone': '5555-1234'}, {'nome': 'jose', 'telefone': '6666-1234'}, {'nome': 'silva', 'telefone': '9999-1234'}])"
            ]
          },
          "metadata": {},
          "execution_count": 50
        }
      ]
    },
    {
      "cell_type": "code",
      "source": [
        "## in\n",
        "\n",
        "contatos={\n",
        "    \"guilherme@gmail.com\": {\"nome\": \"guilherme\", \"telefone\": \"3333-1234\"},\n",
        "    \"maria@gmail.com\": {\"nome\": \"maria\", \"telefone\": \"5555-1234\"},\n",
        "    \"jose@gmail.com\": {\"nome\": \"jose\", \"telefone\": \"6666-1234\"},\n",
        "    \"silva@gmail.com\": {\"nome\": \"silva\", \"telefone\": \"9999-1234\"},\n",
        "}\n",
        "\n",
        "print(\"guilherme@gmail.com\" in contatos)\n",
        "print(\"giovana@gmail.com\" in contatos)\n",
        "print(\"idade\" in contatos[\"guilherme@gmail.com\"])\n",
        "print(\"telefone\" in contatos[\"guilherme@gmail.com\"])"
      ],
      "metadata": {
        "colab": {
          "base_uri": "https://localhost:8080/"
        },
        "id": "rtZXSjgs5JaM",
        "outputId": "127b6895-79d7-4710-e8de-287b2eb54c6c"
      },
      "execution_count": null,
      "outputs": [
        {
          "output_type": "stream",
          "name": "stdout",
          "text": [
            "True\n",
            "False\n",
            "False\n",
            "True\n"
          ]
        }
      ]
    },
    {
      "cell_type": "code",
      "source": [
        "## del - remover o valor\n",
        "\n",
        "contatos={\n",
        "    \"guilherme@gmail.com\": {\"nome\": \"guilherme\", \"telefone\": \"3333-1234\"},\n",
        "    \"maria@gmail.com\": {\"nome\": \"maria\", \"telefone\": \"5555-1234\"},\n",
        "    \"jose@gmail.com\": {\"nome\": \"jose\", \"telefone\": \"6666-1234\"},\n",
        "    \"silva@gmail.com\": {\"nome\": \"silva\", \"telefone\": \"9999-1234\"},\n",
        "}\n",
        "\n",
        "del contatos['guilherme@gmail.com'][\"telefone\"]\n",
        "del contatos['jose@gmail.com']\n",
        "\n",
        "contatos"
      ],
      "metadata": {
        "colab": {
          "base_uri": "https://localhost:8080/"
        },
        "id": "qNWCB7dk6R63",
        "outputId": "bb0d80ff-24ec-402c-b780-7664143c7fc6"
      },
      "execution_count": null,
      "outputs": [
        {
          "output_type": "execute_result",
          "data": {
            "text/plain": [
              "{'guilherme@gmail.com': {'nome': 'guilherme'},\n",
              " 'maria@gmail.com': {'nome': 'maria', 'telefone': '5555-1234'},\n",
              " 'silva@gmail.com': {'nome': 'silva', 'telefone': '9999-1234'}}"
            ]
          },
          "metadata": {},
          "execution_count": 58
        }
      ]
    },
    {
      "cell_type": "code",
      "source": [
        "carro = {\"marca\": \"Fiat\", \"modelo\": \"palio\", \"placa\": \"ABD-9826\"}\n",
        "\n",
        "carro.get(\"motor\")\n",
        "\n",
        "carro"
      ],
      "metadata": {
        "colab": {
          "base_uri": "https://localhost:8080/"
        },
        "id": "lN41FngN6_0F",
        "outputId": "038635a7-d278-4df8-83f3-dc9cd65a03ce"
      },
      "execution_count": null,
      "outputs": [
        {
          "output_type": "execute_result",
          "data": {
            "text/plain": [
              "{'marca': 'Fiat', 'modelo': 'palio', 'placa': 'ABD-9826'}"
            ]
          },
          "metadata": {},
          "execution_count": 60
        }
      ]
    }
  ]
}