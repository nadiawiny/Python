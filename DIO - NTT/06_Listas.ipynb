{
  "nbformat": 4,
  "nbformat_minor": 0,
  "metadata": {
    "colab": {
      "provenance": []
    },
    "kernelspec": {
      "name": "python3",
      "display_name": "Python 3"
    },
    "language_info": {
      "name": "python"
    }
  },
  "cells": [
    {
      "cell_type": "markdown",
      "source": [
        "Listas em Python podem armazenar de maneira sequencial qualquer tioo de objeto. Podemos criar listas utilizando o construtor list, a função range ou colocando valores separados por vírgula dentro de colchetes. Listas são objetos mutáveis, portanto podemos alterar seus valotes após a criação."
      ],
      "metadata": {
        "id": "IFe8lbc3D__M"
      }
    },
    {
      "cell_type": "code",
      "execution_count": null,
      "metadata": {
        "id": "qB1jKDv4VYqW"
      },
      "outputs": [],
      "source": [
        "frutas = [\"laranja\", \"maca\", \"uva\"]\n",
        "\n",
        "frut = [] # lista vazia\n",
        "\n",
        "letras = list(\"Python\") #lista com elementos do python\n",
        "\n",
        "numeros = list(range(10)) # gerar cada elemento na função range\n",
        "\n",
        "carro = [\"Ferrari\", \"F8\", 42000000, 2020, 2900, \"são paulo\", True] # diferentes tipos"
      ]
    },
    {
      "cell_type": "code",
      "source": [
        "print(frutas)\n",
        "\n",
        "print(letras)\n",
        "\n",
        "print(numeros)\n",
        "\n",
        "print(carro)"
      ],
      "metadata": {
        "colab": {
          "base_uri": "https://localhost:8080/"
        },
        "id": "1AQVITFCEtdq",
        "outputId": "9bdd7ccc-7fca-4cda-ce59-57687e4e0741"
      },
      "execution_count": null,
      "outputs": [
        {
          "output_type": "stream",
          "name": "stdout",
          "text": [
            "['laranja', 'maca', 'uva']\n",
            "['P', 'y', 't', 'h', 'o', 'n']\n",
            "[0, 1, 2, 3, 4, 5, 6, 7, 8, 9]\n",
            "['Ferrari', 'F8', 42000000, 2020, 2900, 'são paulo', True]\n"
          ]
        }
      ]
    },
    {
      "cell_type": "markdown",
      "source": [
        "A lista é uma sequência, portanto podemos acessar seus dados utilizando índices. Contamos o índice de determinada sequência a partir do zero."
      ],
      "metadata": {
        "id": "9RECKLIlHnB4"
      }
    },
    {
      "cell_type": "code",
      "source": [
        "frutas = [\"maca\", \"laranja\", \"uva\", \"pera\"]"
      ],
      "metadata": {
        "id": "Co7S3DC6HbO2"
      },
      "execution_count": null,
      "outputs": []
    },
    {
      "cell_type": "code",
      "source": [
        "frutas[0]"
      ],
      "metadata": {
        "colab": {
          "base_uri": "https://localhost:8080/",
          "height": 36
        },
        "id": "067QYHmJIDi4",
        "outputId": "7238331e-03f6-4411-94cb-46672b0573c8"
      },
      "execution_count": null,
      "outputs": [
        {
          "output_type": "execute_result",
          "data": {
            "text/plain": [
              "'maca'"
            ],
            "application/vnd.google.colaboratory.intrinsic+json": {
              "type": "string"
            }
          },
          "metadata": {},
          "execution_count": 23
        }
      ]
    },
    {
      "cell_type": "code",
      "source": [
        "frutas[2]"
      ],
      "metadata": {
        "colab": {
          "base_uri": "https://localhost:8080/",
          "height": 36
        },
        "id": "6WCMvUbTIGrY",
        "outputId": "b29fac36-9531-45cf-a33f-06f8a8e8a8d3"
      },
      "execution_count": null,
      "outputs": [
        {
          "output_type": "execute_result",
          "data": {
            "text/plain": [
              "'uva'"
            ],
            "application/vnd.google.colaboratory.intrinsic+json": {
              "type": "string"
            }
          },
          "metadata": {},
          "execution_count": 24
        }
      ]
    },
    {
      "cell_type": "code",
      "source": [
        "## indices negativos\n",
        "\n",
        "frutas[-1]"
      ],
      "metadata": {
        "colab": {
          "base_uri": "https://localhost:8080/",
          "height": 36
        },
        "id": "MwQg4rDVIQeY",
        "outputId": "156172f6-073c-47bb-e052-1dae0aff60e3"
      },
      "execution_count": null,
      "outputs": [
        {
          "output_type": "execute_result",
          "data": {
            "text/plain": [
              "'pera'"
            ],
            "application/vnd.google.colaboratory.intrinsic+json": {
              "type": "string"
            }
          },
          "metadata": {},
          "execution_count": 25
        }
      ]
    },
    {
      "cell_type": "code",
      "source": [
        "frutas[-3]"
      ],
      "metadata": {
        "colab": {
          "base_uri": "https://localhost:8080/",
          "height": 36
        },
        "id": "vdAV6HdTIV-Y",
        "outputId": "37f24925-129f-4240-8a56-f0eb993b8ff1"
      },
      "execution_count": null,
      "outputs": [
        {
          "output_type": "execute_result",
          "data": {
            "text/plain": [
              "'laranja'"
            ],
            "application/vnd.google.colaboratory.intrinsic+json": {
              "type": "string"
            }
          },
          "metadata": {},
          "execution_count": 26
        }
      ]
    },
    {
      "cell_type": "code",
      "source": [
        "## lista aninhadas - de forma dimencional\n",
        "\n",
        "matriz = [\n",
        "    [1, \"a\", 2],\n",
        "    [\"b\", 3, 4],\n",
        "    [6, 5, \"c\"]\n",
        "]"
      ],
      "metadata": {
        "id": "bRjsjhWQIYMQ"
      },
      "execution_count": null,
      "outputs": []
    },
    {
      "cell_type": "code",
      "source": [
        "matriz[0]"
      ],
      "metadata": {
        "colab": {
          "base_uri": "https://localhost:8080/"
        },
        "id": "XtW4XStYIsoI",
        "outputId": "cac84801-b0e3-4872-eedc-b35bebb95d06"
      },
      "execution_count": null,
      "outputs": [
        {
          "output_type": "execute_result",
          "data": {
            "text/plain": [
              "[1, 'a', 2]"
            ]
          },
          "metadata": {},
          "execution_count": 28
        }
      ]
    },
    {
      "cell_type": "code",
      "source": [
        "matriz[0][0] # da lista 0 da matriz pegue o elemento 0 de dentro dessa lista"
      ],
      "metadata": {
        "colab": {
          "base_uri": "https://localhost:8080/"
        },
        "id": "imOYd15zItWx",
        "outputId": "eaf67894-a612-4aca-c9b6-49af8f8c40ab"
      },
      "execution_count": null,
      "outputs": [
        {
          "output_type": "execute_result",
          "data": {
            "text/plain": [
              "1"
            ]
          },
          "metadata": {},
          "execution_count": 29
        }
      ]
    },
    {
      "cell_type": "code",
      "source": [
        "matriz[0][-1]"
      ],
      "metadata": {
        "colab": {
          "base_uri": "https://localhost:8080/"
        },
        "id": "L_Y_IQRSIzhv",
        "outputId": "411d4156-101f-4d82-f4b0-41a0a4146db8"
      },
      "execution_count": null,
      "outputs": [
        {
          "output_type": "execute_result",
          "data": {
            "text/plain": [
              "2"
            ]
          },
          "metadata": {},
          "execution_count": 30
        }
      ]
    },
    {
      "cell_type": "code",
      "source": [
        "matriz[-1][-1]"
      ],
      "metadata": {
        "colab": {
          "base_uri": "https://localhost:8080/",
          "height": 36
        },
        "id": "4boc0uTDJFuT",
        "outputId": "018f84f2-5883-4899-8f3b-eb008a5e80d1"
      },
      "execution_count": null,
      "outputs": [
        {
          "output_type": "execute_result",
          "data": {
            "text/plain": [
              "'c'"
            ],
            "application/vnd.google.colaboratory.intrinsic+json": {
              "type": "string"
            }
          },
          "metadata": {},
          "execution_count": 31
        }
      ]
    },
    {
      "cell_type": "code",
      "source": [
        "## Fatiamento [inicio:fim:stap]\n",
        "\n",
        "lista = [\"P\", \"y\", \"t\", \"h\", \"o\", \"n\"]"
      ],
      "metadata": {
        "id": "MmcDOPMlJYWp"
      },
      "execution_count": null,
      "outputs": []
    },
    {
      "cell_type": "code",
      "source": [
        "lista[2:]"
      ],
      "metadata": {
        "colab": {
          "base_uri": "https://localhost:8080/"
        },
        "id": "31TX6a7QJz_0",
        "outputId": "6d62ae9f-a1fa-4bb0-ef26-f3225e895722"
      },
      "execution_count": null,
      "outputs": [
        {
          "output_type": "execute_result",
          "data": {
            "text/plain": [
              "['t', 'h', 'o', 'n']"
            ]
          },
          "metadata": {},
          "execution_count": 33
        }
      ]
    },
    {
      "cell_type": "code",
      "source": [
        "lista[:2]"
      ],
      "metadata": {
        "colab": {
          "base_uri": "https://localhost:8080/"
        },
        "id": "G06HFFCiJ414",
        "outputId": "395510eb-c19e-43ab-d83e-a01c37320f72"
      },
      "execution_count": null,
      "outputs": [
        {
          "output_type": "execute_result",
          "data": {
            "text/plain": [
              "['P', 'y']"
            ]
          },
          "metadata": {},
          "execution_count": 35
        }
      ]
    },
    {
      "cell_type": "code",
      "source": [
        "lista[1:3]"
      ],
      "metadata": {
        "colab": {
          "base_uri": "https://localhost:8080/"
        },
        "id": "Rh19Tbi0J9P5",
        "outputId": "3f7908bd-6a47-486a-9c13-00e436da4e82"
      },
      "execution_count": null,
      "outputs": [
        {
          "output_type": "execute_result",
          "data": {
            "text/plain": [
              "['y', 't']"
            ]
          },
          "metadata": {},
          "execution_count": 36
        }
      ]
    },
    {
      "cell_type": "code",
      "source": [
        "lista[0:3:2]"
      ],
      "metadata": {
        "colab": {
          "base_uri": "https://localhost:8080/"
        },
        "id": "aTJ_Qjt-KE5n",
        "outputId": "cbbc51fe-ee1b-41bf-a408-bce64d346de2"
      },
      "execution_count": null,
      "outputs": [
        {
          "output_type": "execute_result",
          "data": {
            "text/plain": [
              "['P', 't']"
            ]
          },
          "metadata": {},
          "execution_count": 37
        }
      ]
    },
    {
      "cell_type": "code",
      "source": [
        "lista[::] ## retorna a copia"
      ],
      "metadata": {
        "colab": {
          "base_uri": "https://localhost:8080/"
        },
        "id": "pVZc-ZtjKOCx",
        "outputId": "d429adb8-f9ce-4a88-9ae7-1df45c556550"
      },
      "execution_count": null,
      "outputs": [
        {
          "output_type": "execute_result",
          "data": {
            "text/plain": [
              "['P', 'y', 't', 'h', 'o', 'n']"
            ]
          },
          "metadata": {},
          "execution_count": 38
        }
      ]
    },
    {
      "cell_type": "code",
      "source": [
        "lista[::-1] ## espelho da lista"
      ],
      "metadata": {
        "colab": {
          "base_uri": "https://localhost:8080/"
        },
        "id": "6uxOmC32KQPR",
        "outputId": "5f912ce9-eb44-4b90-8a9b-e863abd4bd2e"
      },
      "execution_count": null,
      "outputs": [
        {
          "output_type": "execute_result",
          "data": {
            "text/plain": [
              "['n', 'o', 'h', 't', 'y', 'P']"
            ]
          },
          "metadata": {},
          "execution_count": 39
        }
      ]
    },
    {
      "cell_type": "code",
      "source": [
        "## alterar lista\n",
        "\n",
        "carros = [\"gol\", \"celta\", \"palio\"]\n",
        "\n",
        "for carro in carros:\n",
        "  print(carro)"
      ],
      "metadata": {
        "colab": {
          "base_uri": "https://localhost:8080/"
        },
        "id": "2DdLYszuLf0v",
        "outputId": "17d37c76-ceb2-40a1-dc4f-c8e7bc6cc49f"
      },
      "execution_count": null,
      "outputs": [
        {
          "output_type": "stream",
          "name": "stdout",
          "text": [
            "gol\n",
            "celta\n",
            "palio\n"
          ]
        }
      ]
    },
    {
      "cell_type": "markdown",
      "source": [
        "função - enumerate: Às vezes é necessário saber qual o índice do objeto dentro do laço for. Para isso podemos usar a função enumerate."
      ],
      "metadata": {
        "id": "JWkO3ffPLyqS"
      }
    },
    {
      "cell_type": "code",
      "source": [
        "carros = [\"gol\", \"celta\", \"palio\"]\n",
        "\n",
        "for indice, carro in enumerate (carros):\n",
        "  print(f\"{indice}:{carro}\")"
      ],
      "metadata": {
        "colab": {
          "base_uri": "https://localhost:8080/"
        },
        "id": "0MSkYfkdL_qg",
        "outputId": "761479a7-226e-4ef1-880b-7d80c20a8ed7"
      },
      "execution_count": null,
      "outputs": [
        {
          "output_type": "stream",
          "name": "stdout",
          "text": [
            "0:gol\n",
            "1:celta\n",
            "2:palio\n"
          ]
        }
      ]
    },
    {
      "cell_type": "markdown",
      "source": [
        "Compreensão de listas - oferece uma sintaxe mais curta quando você deseja: criar uma nova lista com base nos valores de uma lista existente(filtro) ou gerar uma nova lista aplicando alguma modificação nos elementos de uma lista existente."
      ],
      "metadata": {
        "id": "Tn2shejwMV58"
      }
    },
    {
      "cell_type": "code",
      "source": [
        "numeros = [1, 30, 21, 2, 9, 65, 34]\n",
        "pares = []\n",
        "\n",
        "for numero in numeros:\n",
        "  if numero % 2 == 0:  # se numero for maior q 2 ele é == 0\n",
        "    pares.append(numero)\n",
        "\n",
        "print(numero)\n",
        "print(numeros)"
      ],
      "metadata": {
        "colab": {
          "base_uri": "https://localhost:8080/"
        },
        "id": "7Yo20pJ7MnKQ",
        "outputId": "df2b829a-2818-4d9e-de86-a1f465f74d06"
      },
      "execution_count": null,
      "outputs": [
        {
          "output_type": "stream",
          "name": "stdout",
          "text": [
            "34\n",
            "[1, 30, 21, 2, 9, 65, 34]\n"
          ]
        }
      ]
    },
    {
      "cell_type": "code",
      "source": [
        "## filtro v1\n",
        "\n",
        "numeros = [1, 30, 21, 2, 9, 65, 34]\n",
        "pares = [numero for numero in numeros if numero % 2 == 0]\n",
        "#       retorno   declarar o form         indtrução\n",
        "\n",
        "print(numero)"
      ],
      "metadata": {
        "colab": {
          "base_uri": "https://localhost:8080/"
        },
        "id": "AP2b12HqNgjg",
        "outputId": "cb6b714c-9f07-4e75-eef3-e55a76813a06"
      },
      "execution_count": null,
      "outputs": [
        {
          "output_type": "stream",
          "name": "stdout",
          "text": [
            "34\n"
          ]
        }
      ]
    },
    {
      "cell_type": "code",
      "source": [
        "## filtro v2\n",
        "\n",
        "numeros = [1, 30, 21, 2, 9, 65, 34]\n",
        "quadrado = []\n",
        "\n",
        "for numero in numeros:\n",
        "  quadrado.append(numero ** 2)\n",
        "\n",
        "print(numeros)"
      ],
      "metadata": {
        "colab": {
          "base_uri": "https://localhost:8080/"
        },
        "id": "Wmu_NADsOCGg",
        "outputId": "324da98c-fe74-4d9a-9668-3fa69e89f9e5"
      },
      "execution_count": null,
      "outputs": [
        {
          "output_type": "stream",
          "name": "stdout",
          "text": [
            "[1, 30, 21, 2, 9, 65, 34]\n"
          ]
        }
      ]
    },
    {
      "cell_type": "code",
      "source": [
        "numeros = [1, 30, 21, 2, 9, 65, 34]\n",
        "quadrado = [numero ** 2 for numero in numeros]"
      ],
      "metadata": {
        "id": "Oz-59RS0Od0h"
      },
      "execution_count": null,
      "outputs": []
    },
    {
      "cell_type": "code",
      "source": [
        "## [].append - adicionar um novo elemento em minha lista\n",
        "lista = []\n",
        "\n",
        "lista.append(1)\n",
        "lista.append(\"Python\")\n",
        "lista.append([40, 30, 20])\n"
      ],
      "metadata": {
        "id": "2EaQ59HS-0q5"
      },
      "execution_count": null,
      "outputs": []
    },
    {
      "cell_type": "code",
      "source": [
        "print(lista)"
      ],
      "metadata": {
        "colab": {
          "base_uri": "https://localhost:8080/"
        },
        "id": "hS7-JBwc_R0A",
        "outputId": "bdd087b0-7eab-4675-a638-212a0457429e"
      },
      "execution_count": null,
      "outputs": [
        {
          "output_type": "stream",
          "name": "stdout",
          "text": [
            "[1, 'Python', [40, 30, 20]]\n"
          ]
        }
      ]
    },
    {
      "cell_type": "code",
      "source": [
        "## [].clear - serve para limpar os valores da minha lista\n",
        "\n",
        "lista = [1, 'Python', [40, 30, 20]]\n",
        "\n",
        "print(lista)"
      ],
      "metadata": {
        "colab": {
          "base_uri": "https://localhost:8080/"
        },
        "id": "wOcA4bY5ATFO",
        "outputId": "ff10be11-701d-4b6f-98ac-cb34c632e615"
      },
      "execution_count": null,
      "outputs": [
        {
          "output_type": "stream",
          "name": "stdout",
          "text": [
            "[1, 'Python', [40, 30, 20]]\n"
          ]
        }
      ]
    },
    {
      "cell_type": "code",
      "source": [
        "lista.clear()  ## limpando tudo da lista"
      ],
      "metadata": {
        "id": "-04bx2LmAdxU"
      },
      "execution_count": null,
      "outputs": []
    },
    {
      "cell_type": "code",
      "source": [
        "print(lista)"
      ],
      "metadata": {
        "colab": {
          "base_uri": "https://localhost:8080/"
        },
        "id": "ZPcj532CAiM-",
        "outputId": "f9c3ef53-c420-48ee-ea54-2b7de5efe5b3"
      },
      "execution_count": null,
      "outputs": [
        {
          "output_type": "stream",
          "name": "stdout",
          "text": [
            "[]\n"
          ]
        }
      ]
    },
    {
      "cell_type": "code",
      "source": [
        "## [].copy - serve para copiar a lista\n",
        "lista = [1, 'Python', [40, 30, 20]]\n",
        "\n",
        "lista.copy()"
      ],
      "metadata": {
        "colab": {
          "base_uri": "https://localhost:8080/"
        },
        "id": "pX2HKq-nAoMu",
        "outputId": "ed3523c0-f4a1-452e-a095-4b2c1a1876d2"
      },
      "execution_count": null,
      "outputs": [
        {
          "output_type": "execute_result",
          "data": {
            "text/plain": [
              "[1, 'Python', [40, 30, 20]]"
            ]
          },
          "metadata": {},
          "execution_count": 9
        }
      ]
    },
    {
      "cell_type": "code",
      "source": [
        "print(lista)"
      ],
      "metadata": {
        "colab": {
          "base_uri": "https://localhost:8080/"
        },
        "id": "cOO4-r8vA2sw",
        "outputId": "80d6fe74-0052-45ee-9f72-25d40ff7e9fa"
      },
      "execution_count": null,
      "outputs": [
        {
          "output_type": "stream",
          "name": "stdout",
          "text": [
            "[1, 'Python', [40, 30, 20]]\n"
          ]
        }
      ]
    },
    {
      "cell_type": "code",
      "source": [
        "## [].count- serve para contar quantas vezes determinado objeto aparece em sua lista\n",
        "\n",
        "cores = [\"vermelho\", \"azul\", \"verde\", \"azul\"]\n",
        "\n",
        "cores.count(\"vermelho\")"
      ],
      "metadata": {
        "colab": {
          "base_uri": "https://localhost:8080/"
        },
        "id": "ScLLemzZBSlq",
        "outputId": "1d8a39b0-d8e6-45cc-e31b-077c3ab08edd"
      },
      "execution_count": null,
      "outputs": [
        {
          "output_type": "execute_result",
          "data": {
            "text/plain": [
              "1"
            ]
          },
          "metadata": {},
          "execution_count": 14
        }
      ]
    },
    {
      "cell_type": "code",
      "source": [
        "cores.count(\"azul\")"
      ],
      "metadata": {
        "colab": {
          "base_uri": "https://localhost:8080/"
        },
        "id": "1a_rKqNzBhaO",
        "outputId": "a19d95cf-b896-402f-a462-0f477b1d1c5a"
      },
      "execution_count": null,
      "outputs": [
        {
          "output_type": "execute_result",
          "data": {
            "text/plain": [
              "2"
            ]
          },
          "metadata": {},
          "execution_count": 15
        }
      ]
    },
    {
      "cell_type": "code",
      "source": [
        "cores.count(\"verde\")"
      ],
      "metadata": {
        "colab": {
          "base_uri": "https://localhost:8080/"
        },
        "id": "XtY4S1QuBmGO",
        "outputId": "51b7ba30-945d-48e0-a670-b6f488a4dad2"
      },
      "execution_count": null,
      "outputs": [
        {
          "output_type": "execute_result",
          "data": {
            "text/plain": [
              "1"
            ]
          },
          "metadata": {},
          "execution_count": 16
        }
      ]
    },
    {
      "cell_type": "code",
      "source": [
        "## [].extend - adicionar novos alementos juntando com outras listas\n",
        "\n",
        "linguagens = [\"python\", \"js\", \"c\"]\n",
        "print(linguagens)"
      ],
      "metadata": {
        "colab": {
          "base_uri": "https://localhost:8080/"
        },
        "id": "P5CGq5H3ByUC",
        "outputId": "2dfe20e3-6d2b-4541-d1bd-e38a9b4a949b"
      },
      "execution_count": null,
      "outputs": [
        {
          "output_type": "stream",
          "name": "stdout",
          "text": [
            "['python', 'js', 'c']\n"
          ]
        }
      ]
    },
    {
      "cell_type": "code",
      "source": [
        "linguagens.extend([\"java\", \"csharp\"])\n",
        "\n",
        "print(linguagens)"
      ],
      "metadata": {
        "colab": {
          "base_uri": "https://localhost:8080/"
        },
        "id": "KSJW6JIfB_fX",
        "outputId": "3014aead-3e1f-48c1-a304-63a6093f1cc9"
      },
      "execution_count": null,
      "outputs": [
        {
          "output_type": "stream",
          "name": "stdout",
          "text": [
            "['python', 'js', 'c', 'java', 'csharp']\n"
          ]
        }
      ]
    },
    {
      "cell_type": "code",
      "source": [
        "## [].index - localizar a posição de determinado objeto | ele traz aprimeira ocorrencia - o indice da primeira vez\n",
        "\n",
        "linguagens = ['python', 'js', 'c', 'java', 'csharp']\n",
        "\n",
        "linguagens.index(\"java\")"
      ],
      "metadata": {
        "colab": {
          "base_uri": "https://localhost:8080/"
        },
        "id": "OUCM6AJFCThL",
        "outputId": "1312d504-d40b-4f81-e669-a5647d2a1cbd"
      },
      "execution_count": null,
      "outputs": [
        {
          "output_type": "execute_result",
          "data": {
            "text/plain": [
              "3"
            ]
          },
          "metadata": {},
          "execution_count": 22
        }
      ]
    },
    {
      "cell_type": "code",
      "source": [
        "linguagens.index(\"python\")"
      ],
      "metadata": {
        "colab": {
          "base_uri": "https://localhost:8080/"
        },
        "id": "lsc6qJAiCwLm",
        "outputId": "e2a0bbc2-535c-4d50-cfc6-1b71ecfb6e6f"
      },
      "execution_count": null,
      "outputs": [
        {
          "output_type": "execute_result",
          "data": {
            "text/plain": [
              "0"
            ]
          },
          "metadata": {},
          "execution_count": 23
        }
      ]
    },
    {
      "cell_type": "code",
      "source": [
        "## [].pop - ele retiva o ultimo elemento que foi chamado - podendo passar o indice do objeto\n",
        "\n",
        "linguagens = ['python', 'js', 'c', 'java', 'csharp']\n",
        "\n",
        "linguagens.pop()"
      ],
      "metadata": {
        "colab": {
          "base_uri": "https://localhost:8080/",
          "height": 36
        },
        "id": "j9RdFs_FC1GA",
        "outputId": "3cc1481c-6d96-4fa7-b109-b3df1617802f"
      },
      "execution_count": null,
      "outputs": [
        {
          "output_type": "execute_result",
          "data": {
            "text/plain": [
              "'csharp'"
            ],
            "application/vnd.google.colaboratory.intrinsic+json": {
              "type": "string"
            }
          },
          "metadata": {},
          "execution_count": 24
        }
      ]
    },
    {
      "cell_type": "code",
      "source": [
        "linguagens.pop()"
      ],
      "metadata": {
        "colab": {
          "base_uri": "https://localhost:8080/",
          "height": 36
        },
        "id": "NqqtKFTtEWng",
        "outputId": "a857372d-e1da-4e72-a743-59dcd4cd9209"
      },
      "execution_count": null,
      "outputs": [
        {
          "output_type": "execute_result",
          "data": {
            "text/plain": [
              "'java'"
            ],
            "application/vnd.google.colaboratory.intrinsic+json": {
              "type": "string"
            }
          },
          "metadata": {},
          "execution_count": 25
        }
      ]
    },
    {
      "cell_type": "code",
      "source": [
        "print(linguagens)"
      ],
      "metadata": {
        "colab": {
          "base_uri": "https://localhost:8080/"
        },
        "id": "YQD_4SqBEajk",
        "outputId": "20817332-2409-468d-bd9d-31e1a8d42669"
      },
      "execution_count": null,
      "outputs": [
        {
          "output_type": "stream",
          "name": "stdout",
          "text": [
            "['python', 'js', 'c']\n"
          ]
        }
      ]
    },
    {
      "cell_type": "code",
      "source": [
        "linguagens.pop()"
      ],
      "metadata": {
        "colab": {
          "base_uri": "https://localhost:8080/",
          "height": 36
        },
        "id": "PSgFjVNKEdYW",
        "outputId": "392c1993-27af-4c9a-aaba-d3069271b6e7"
      },
      "execution_count": null,
      "outputs": [
        {
          "output_type": "execute_result",
          "data": {
            "text/plain": [
              "'c'"
            ],
            "application/vnd.google.colaboratory.intrinsic+json": {
              "type": "string"
            }
          },
          "metadata": {},
          "execution_count": 27
        }
      ]
    },
    {
      "cell_type": "code",
      "source": [
        "linguagens.pop(0)"
      ],
      "metadata": {
        "colab": {
          "base_uri": "https://localhost:8080/",
          "height": 36
        },
        "id": "FsLyjK6ZEijW",
        "outputId": "966fff84-d747-4454-931f-e1158012a312"
      },
      "execution_count": null,
      "outputs": [
        {
          "output_type": "execute_result",
          "data": {
            "text/plain": [
              "'python'"
            ],
            "application/vnd.google.colaboratory.intrinsic+json": {
              "type": "string"
            }
          },
          "metadata": {},
          "execution_count": 28
        }
      ]
    },
    {
      "cell_type": "code",
      "source": [
        "print(linguagens)"
      ],
      "metadata": {
        "colab": {
          "base_uri": "https://localhost:8080/"
        },
        "id": "900QuxlxEkhG",
        "outputId": "89594169-88f3-45dd-8ab5-4735dc75effd"
      },
      "execution_count": null,
      "outputs": [
        {
          "output_type": "stream",
          "name": "stdout",
          "text": [
            "['js']\n"
          ]
        }
      ]
    },
    {
      "cell_type": "code",
      "source": [
        "## [].remove - ser para retirar elemento de uma lista - você deve passar o objeto em sim\n",
        "\n",
        "linguagens = ['python', 'js', 'c', 'java', 'csharp']\n",
        "print(linguagens)"
      ],
      "metadata": {
        "colab": {
          "base_uri": "https://localhost:8080/"
        },
        "id": "ntERsD7DEo5I",
        "outputId": "91fc539e-945b-45c3-c21e-e539e9a23500"
      },
      "execution_count": null,
      "outputs": [
        {
          "output_type": "stream",
          "name": "stdout",
          "text": [
            "['python', 'js', 'c', 'java', 'csharp']\n"
          ]
        }
      ]
    },
    {
      "cell_type": "code",
      "source": [
        "linguagens.remove(\"c\")"
      ],
      "metadata": {
        "id": "DY5IPhYLE2kk"
      },
      "execution_count": null,
      "outputs": []
    },
    {
      "cell_type": "code",
      "source": [
        "print(linguagens)"
      ],
      "metadata": {
        "colab": {
          "base_uri": "https://localhost:8080/"
        },
        "id": "Cv-N5L4uE6QQ",
        "outputId": "2f8b0c0c-f170-4159-d445-6e7522baba82"
      },
      "execution_count": null,
      "outputs": [
        {
          "output_type": "stream",
          "name": "stdout",
          "text": [
            "['python', 'js', 'java', 'csharp']\n"
          ]
        }
      ]
    },
    {
      "cell_type": "code",
      "source": [
        "## [].sort - vai ordenar nossa lista\n",
        "\n",
        "linguagens = ['python', 'js', 'c', 'java', 'csharp']\n",
        "linguagens.sort()  # alfabeticamente\n",
        "\n",
        "print(linguagens)"
      ],
      "metadata": {
        "colab": {
          "base_uri": "https://localhost:8080/"
        },
        "id": "QL3EALLkFiSu",
        "outputId": "8d4657a3-8671-4a13-90b9-a2cb10b88eba"
      },
      "execution_count": null,
      "outputs": [
        {
          "output_type": "stream",
          "name": "stdout",
          "text": [
            "['c', 'csharp', 'java', 'js', 'python']\n"
          ]
        }
      ]
    },
    {
      "cell_type": "code",
      "source": [
        "linguagens = ['python', 'js', 'c', 'java', 'csharp']\n",
        "linguagens.sort(reverse=True) # trazer de forma ordenada de forma inversa\n",
        "\n",
        "print(linguagens)"
      ],
      "metadata": {
        "colab": {
          "base_uri": "https://localhost:8080/"
        },
        "id": "R4zDzCKZGC44",
        "outputId": "b3720171-bf38-4ca5-eeb9-3a7bf8a5c2ba"
      },
      "execution_count": null,
      "outputs": [
        {
          "output_type": "stream",
          "name": "stdout",
          "text": [
            "['python', 'js', 'java', 'csharp', 'c']\n"
          ]
        }
      ]
    },
    {
      "cell_type": "code",
      "source": [
        "linguagens = ['python', 'js', 'c', 'java', 'csharp']\n",
        "linguagens.sort(key=lambda x:len(x)) #em ordem crescente pelo tamanho das str\n",
        "\n",
        "print(linguagens)"
      ],
      "metadata": {
        "colab": {
          "base_uri": "https://localhost:8080/"
        },
        "id": "VttFxC60GVt8",
        "outputId": "87d6e701-d55b-4665-c7f1-8e5cad983cd9"
      },
      "execution_count": null,
      "outputs": [
        {
          "output_type": "stream",
          "name": "stdout",
          "text": [
            "['c', 'js', 'java', 'python', 'csharp']\n"
          ]
        }
      ]
    },
    {
      "cell_type": "code",
      "source": [
        "linguagens = ['python', 'js', 'c', 'java', 'csharp']\n",
        "linguagens.sort(key=lambda x:len(x), reverse=True) #em ordem crescente pelo tamanho das str de forma reversa\n",
        "\n",
        "print(linguagens)"
      ],
      "metadata": {
        "colab": {
          "base_uri": "https://localhost:8080/"
        },
        "id": "6_qHu_UqHW3E",
        "outputId": "9208a1df-10fe-4628-8675-956c66dbb008"
      },
      "execution_count": null,
      "outputs": [
        {
          "output_type": "stream",
          "name": "stdout",
          "text": [
            "['python', 'csharp', 'java', 'js', 'c']\n"
          ]
        }
      ]
    },
    {
      "cell_type": "code",
      "source": [
        "## len - mostra o tamanho da lista -> quantidade de elementos que tem na lista\n",
        "linguagens = ['python', 'js', 'c', 'java', 'csharp']\n",
        "\n",
        "len(linguagens)"
      ],
      "metadata": {
        "colab": {
          "base_uri": "https://localhost:8080/"
        },
        "id": "T04_jmisJgVJ",
        "outputId": "ab7aa465-6c33-4112-fb09-86d5ebc0bc0f"
      },
      "execution_count": null,
      "outputs": [
        {
          "output_type": "execute_result",
          "data": {
            "text/plain": [
              "5"
            ]
          },
          "metadata": {},
          "execution_count": 40
        }
      ]
    },
    {
      "cell_type": "code",
      "source": [
        "# sorted - uma função - serve para ordenar iteraris\n",
        "linguagens = ['python', 'js', 'c', 'java', 'csharp']\n",
        "\n",
        "sorted(linguagens, key=lambda x: len(x))"
      ],
      "metadata": {
        "colab": {
          "base_uri": "https://localhost:8080/"
        },
        "id": "7RUBZFdNJv5P",
        "outputId": "72d5fa5d-a2ac-4610-fa8c-64032d34915c"
      },
      "execution_count": null,
      "outputs": [
        {
          "output_type": "execute_result",
          "data": {
            "text/plain": [
              "['c', 'js', 'java', 'python', 'csharp']"
            ]
          },
          "metadata": {},
          "execution_count": 42
        }
      ]
    },
    {
      "cell_type": "code",
      "source": [
        "sorted(linguagens, key=lambda x: len(x), reverse=True)"
      ],
      "metadata": {
        "colab": {
          "base_uri": "https://localhost:8080/"
        },
        "id": "T_iIkeo3Kv9Z",
        "outputId": "85ec3945-dcc4-47db-d986-39e1f62ca8ae"
      },
      "execution_count": null,
      "outputs": [
        {
          "output_type": "execute_result",
          "data": {
            "text/plain": [
              "['python', 'csharp', 'java', 'js', 'c']"
            ]
          },
          "metadata": {},
          "execution_count": 43
        }
      ]
    },
    {
      "cell_type": "code",
      "source": [
        "print(sorted(linguagens))"
      ],
      "metadata": {
        "colab": {
          "base_uri": "https://localhost:8080/"
        },
        "id": "NOR2ftP6UiSW",
        "outputId": "c341ad67-7ab6-4d97-a9c7-0a12e9ace9c9"
      },
      "execution_count": null,
      "outputs": [
        {
          "output_type": "stream",
          "name": "stdout",
          "text": [
            "['c', 'csharp', 'java', 'js', 'python']\n"
          ]
        }
      ]
    }
  ]
}