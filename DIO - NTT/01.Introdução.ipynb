{
  "metadata": {
    "kernelspec": {
      "name": "python",
      "display_name": "Python (Pyodide)",
      "language": "python"
    },
    "language_info": {
      "codemirror_mode": {
        "name": "python",
        "version": 3
      },
      "file_extension": ".py",
      "mimetype": "text/x-python",
      "name": "python",
      "nbconvert_exporter": "python",
      "pygments_lexer": "ipython3",
      "version": "3.8"
    }
  },
  "nbformat_minor": 4,
  "nbformat": 4,
  "cells": [
    {
      "cell_type": "code",
      "source": "## DIO - NTT > 01",
      "metadata": {
        "trusted": true
      },
      "outputs": [],
      "execution_count": null
    },
    {
      "cell_type": "code",
      "source": "print(\"Hello Word!\")",
      "metadata": {
        "trusted": true
      },
      "outputs": [
        {
          "name": "stdout",
          "text": "Hello Word!\n",
          "output_type": "stream"
        }
      ],
      "execution_count": 1
    },
    {
      "cell_type": "code",
      "source": "## Vaiáveis e Constantes",
      "metadata": {
        "trusted": true
      },
      "outputs": [],
      "execution_count": null
    },
    {
      "cell_type": "code",
      "source": "nome = \"Nádia\"\nidade = 24\n\nnome = \"Winy\"\nprint(nome, idade)",
      "metadata": {
        "trusted": true
      },
      "outputs": [
        {
          "name": "stdout",
          "text": "Winy 24\n",
          "output_type": "stream"
        }
      ],
      "execution_count": 8
    },
    {
      "cell_type": "code",
      "source": "nome, idade = \"Nádia Winy\", 24\nprint(nome, idade)",
      "metadata": {
        "trusted": true
      },
      "outputs": [
        {
          "name": "stdout",
          "text": "Nádia Winy 24\n",
          "output_type": "stream"
        }
      ],
      "execution_count": 12
    },
    {
      "cell_type": "code",
      "source": "limite_saque_diario = 1000  ## padrão snale case\nlimiteSaqueDiario = 1000  ## em outras linguagens\n\nprint(limite_saque_diario)",
      "metadata": {
        "trusted": true
      },
      "outputs": [
        {
          "name": "stdout",
          "text": "1000\n",
          "output_type": "stream"
        }
      ],
      "execution_count": 13
    },
    {
      "cell_type": "code",
      "source": "## Constantes\n\nSTATE = [\n    'SP',\n    'RJ',\n    'MG'\n]\n\nprint(STATE)",
      "metadata": {
        "trusted": true
      },
      "outputs": [
        {
          "name": "stdout",
          "text": "['SP', 'RJ', 'MG']\n",
          "output_type": "stream"
        }
      ],
      "execution_count": 10
    },
    {
      "cell_type": "raw",
      "source": "Convertendo tipos",
      "metadata": {}
    },
    {
      "cell_type": "markdown",
      "source": "### Inteiro para float",
      "metadata": {}
    },
    {
      "cell_type": "code",
      "source": "preco = 10\nprint(preco)",
      "metadata": {
        "trusted": true
      },
      "outputs": [
        {
          "name": "stdout",
          "text": "10\n",
          "output_type": "stream"
        }
      ],
      "execution_count": 16
    },
    {
      "cell_type": "code",
      "source": "preco = float(preco)\nprint(preco)",
      "metadata": {
        "trusted": true
      },
      "outputs": [
        {
          "name": "stdout",
          "text": "10.0\n",
          "output_type": "stream"
        }
      ],
      "execution_count": 17
    },
    {
      "cell_type": "code",
      "source": "preco = 10/2\nprint(preco)",
      "metadata": {
        "trusted": true
      },
      "outputs": [
        {
          "name": "stdout",
          "text": "5.0\n",
          "output_type": "stream"
        }
      ],
      "execution_count": 18
    },
    {
      "cell_type": "markdown",
      "source": "### Float para Inteiro",
      "metadata": {}
    },
    {
      "cell_type": "code",
      "source": "preco = 10.30\nprint(preco)",
      "metadata": {
        "trusted": true
      },
      "outputs": [
        {
          "name": "stdout",
          "text": "10.3\n",
          "output_type": "stream"
        }
      ],
      "execution_count": 4
    },
    {
      "cell_type": "code",
      "source": "preco = int(preco)\nprint(preco)",
      "metadata": {
        "trusted": true
      },
      "outputs": [
        {
          "name": "stdout",
          "text": "10\n",
          "output_type": "stream"
        }
      ],
      "execution_count": 5
    },
    {
      "cell_type": "markdown",
      "source": "### Conversão por divisão",
      "metadata": {}
    },
    {
      "cell_type": "code",
      "source": "preco = 10\nprint(preco)",
      "metadata": {
        "trusted": true
      },
      "outputs": [
        {
          "name": "stdout",
          "text": "10\n",
          "output_type": "stream"
        }
      ],
      "execution_count": 6
    },
    {
      "cell_type": "code",
      "source": "print(preco/2)",
      "metadata": {
        "trusted": true
      },
      "outputs": [
        {
          "name": "stdout",
          "text": "5.0\n",
          "output_type": "stream"
        }
      ],
      "execution_count": 7
    },
    {
      "cell_type": "code",
      "source": "print(preco//2)",
      "metadata": {
        "trusted": true
      },
      "outputs": [
        {
          "name": "stdout",
          "text": "5\n",
          "output_type": "stream"
        }
      ],
      "execution_count": 8
    },
    {
      "cell_type": "markdown",
      "source": "### Numéro para strig ",
      "metadata": {}
    },
    {
      "cell_type": "code",
      "source": "preco = 10.50\nidade = 28\n\nprint(str(preco))",
      "metadata": {
        "trusted": true
      },
      "outputs": [
        {
          "name": "stdout",
          "text": "10.5\n",
          "output_type": "stream"
        }
      ],
      "execution_count": 12
    },
    {
      "cell_type": "code",
      "source": "print(str(idade))",
      "metadata": {
        "trusted": true
      },
      "outputs": [
        {
          "name": "stdout",
          "text": "28\n",
          "output_type": "stream"
        }
      ],
      "execution_count": 11
    },
    {
      "cell_type": "code",
      "source": "texto = f\"idade {idade} preco {preco}\"\nprint(texto)",
      "metadata": {
        "trusted": true
      },
      "outputs": [
        {
          "name": "stdout",
          "text": "idade 28 preco 10.5\n",
          "output_type": "stream"
        }
      ],
      "execution_count": 13
    },
    {
      "cell_type": "markdown",
      "source": "### strig para número",
      "metadata": {}
    },
    {
      "cell_type": "code",
      "source": "preco = \"10.50\"\nidade = \"28\"\n\nprint(float(preco))",
      "metadata": {
        "trusted": true
      },
      "outputs": [
        {
          "name": "stdout",
          "text": "10.5\n",
          "output_type": "stream"
        }
      ],
      "execution_count": 14
    },
    {
      "cell_type": "code",
      "source": "print(int(idade))",
      "metadata": {
        "trusted": true
      },
      "outputs": [
        {
          "name": "stdout",
          "text": "28\n",
          "output_type": "stream"
        }
      ],
      "execution_count": 15
    },
    {
      "cell_type": "markdown",
      "source": "### Função Input",
      "metadata": {}
    },
    {
      "cell_type": "code",
      "source": "nome = input(\"informe seu nome: \")",
      "metadata": {
        "trusted": true
      },
      "outputs": [
        {
          "output_type": "stream",
          "name": "stdin",
          "text": "informe seu nome:  náida\n"
        }
      ],
      "execution_count": 30
    },
    {
      "cell_type": "code",
      "source": "nome = \"guilherme\"\nsobrenome = \"Carvalho\"\n\nprint(nome, sobrenome)\nprint(nome, sobrenome, end=\"...\\n\")\nprint(nome, sobrenome, sep=\"#\")",
      "metadata": {
        "trusted": true
      },
      "outputs": [
        {
          "name": "stdout",
          "text": "guilherme Carvalho\nguilherme Carvalho...\nguilherme#Carvalho\n",
          "output_type": "stream"
        }
      ],
      "execution_count": 25
    },
    {
      "cell_type": "raw",
      "source": "Tipos de Operadores",
      "metadata": {}
    },
    {
      "cell_type": "raw",
      "source": "### Operadores aritmeticos\n \n+ -> adição\n- -> subtração\n* -> multiplicação\n/ -> divisão\n// -> divisão inteira\n% -> módulo - resto de divisão\n** -> exponenciação",
      "metadata": {}
    },
    {
      "cell_type": "code",
      "source": "## Adição\nprint(\"adição\", 1+1)\n\n## Subtração \nprint(\"subtração\", 10-2)\n\n## multiplicação \nprint(\"multiplicação\", 4*3) \n\n## divisão\nprint(\"divisão\", 12/3)\n\n## divisão inteira\nprint(\"divisão inteira\", 12//3)\n\n## módulo -- resto da divisão\nprint(\"módulo\", 10%3)\n\n## exponenciação\nprint(\"exponenciação\", 2 ** 3)",
      "metadata": {
        "trusted": true
      },
      "outputs": [
        {
          "name": "stdout",
          "text": "adição 2\nsubtração 8\nmultiplicação 12\ndivisão 4.0\ndivisão inteira 4\nmódulo 1\nexponenciação 8\n",
          "output_type": "stream"
        }
      ],
      "execution_count": 64
    },
    {
      "cell_type": "code",
      "source": "produto_1 = 20\nproduto_2 = 10\n\nprint(produto_1 + produto_2)\nprint(produto_1 - produto_2)\nprint(produto_1 * produto_2)\nprint(produto_1 / produto_2)\nprint(produto_1 // produto_2)\nprint(produto_1 % produto_2)\nprint(produto_1 ** produto_2)",
      "metadata": {
        "trusted": true
      },
      "outputs": [
        {
          "name": "stdout",
          "text": "30\n10\n200\n2.0\n2\n0\n10240000000000\n",
          "output_type": "stream"
        }
      ],
      "execution_count": 14
    },
    {
      "cell_type": "code",
      "source": "x = 10 + 5 * 4\nprint(x)",
      "metadata": {
        "trusted": true
      },
      "outputs": [
        {
          "name": "stdout",
          "text": "30\n",
          "output_type": "stream"
        }
      ],
      "execution_count": 16
    },
    {
      "cell_type": "code",
      "source": "x = (10 + 5) * 4\nprint(x)",
      "metadata": {
        "trusted": true
      },
      "outputs": [
        {
          "name": "stdout",
          "text": "60\n",
          "output_type": "stream"
        }
      ],
      "execution_count": 17
    },
    {
      "cell_type": "code",
      "source": "x = (10 + 5) * 4\ny = (10 / 2) + (25 * 2) - (2 ** 2)\nprint(x)\nprint(y)",
      "metadata": {
        "trusted": true
      },
      "outputs": [
        {
          "name": "stdout",
          "text": "60\n51.0\n",
          "output_type": "stream"
        }
      ],
      "execution_count": 21
    },
    {
      "cell_type": "raw",
      "source": "### Operadores de comparação\n\n== -> igualdade \n!= -> diferente \n> -> maior que\n< -> menor que \n>= -> maior ou igual\n<= -> menor ou igual",
      "metadata": {}
    },
    {
      "cell_type": "code",
      "source": "saldo = 450\nsaque = 200\n\nprint(saldo == saque)\nprint(saldo != saque)\nprint(saldo > saque)\nprint(saldo < saque)\nprint(saldo >= saque)\nprint(saldo <= saque)",
      "metadata": {
        "trusted": true
      },
      "outputs": [
        {
          "name": "stdout",
          "text": "False\nTrue\nTrue\nFalse\nTrue\nFalse\n",
          "output_type": "stream"
        }
      ],
      "execution_count": 24
    },
    {
      "cell_type": "code",
      "source": "saldo = 200\nsaque = 200\n\nprint(saldo == saque)\nprint(saldo != saque)\nprint(saldo > saque)\nprint(saldo < saque)\nprint(saldo >= saque)\nprint(saldo <= saque)",
      "metadata": {
        "trusted": true
      },
      "outputs": [
        {
          "name": "stdout",
          "text": "True\nFalse\nFalse\nFalse\nTrue\nTrue\n",
          "output_type": "stream"
        }
      ],
      "execution_count": 25
    },
    {
      "cell_type": "raw",
      "source": "### Operadores de atribuição: são utilizados para definir o valor inicial ou sobrescrever o valor de uma variável",
      "metadata": {}
    },
    {
      "cell_type": "code",
      "source": "## atribuição simples\nsaldo = 500\n\nprint(\"atribuição simples\", saldo)\n\n## atribuição com adição \nsaldo = 500\nsaldo += 200 #saldo adicionar o valor 200\n\nprint(\"atribuição com adição\", saldo)\n\n## atribuição com subtração\nsaldo = 500\nsaldo -= 100 \n\nprint(\"atribuição com subtração\", saldo)\n\n## atribuição com multiplicação\nsaldo = 500\nsaldo *= 2 \n\nprint(\"atribuição com multiplicação\", saldo)\n\n## atribuição com divisão\nsaldo = 500\nsaldo /= 5 \n\nprint(\"atribuição com divisão\", saldo)\n\n## atribuição com dividão inteira\nsaldo = 500\nsaldo //= 5 \n\nprint(\"atribuição com divisão inteira\", saldo)\n\n## atribuição com módulo\nsaldo = 500\nsaldo %= 480 \n\nprint(\"atribuição com módulo\", saldo)\n\n## atribuição com exponeciação\nsaldo = 80\nsaldo **= 2 \n\nprint(\"atribuição com exponeciação\", saldo)",
      "metadata": {
        "trusted": true
      },
      "outputs": [
        {
          "name": "stdout",
          "text": "atribuição simples 500\natribuição com adição 700\natribuição com subtração 400\natribuição com multiplicação 1000\natribuição com divisão 100.0\natribuição com divisão inteira 100\natribuição com módulo 20\natribuição com exponeciação 6400\n",
          "output_type": "stream"
        }
      ],
      "execution_count": 77
    },
    {
      "cell_type": "raw",
      "source": "### Operadores lógicos: são operadores utilizado em conjunto com os operadores de comparação, para mostrar uma expressão lógica. --> booleano\n\nTrue\nFalse\nand \nor\nnot",
      "metadata": {}
    },
    {
      "cell_type": "code",
      "source": "## Tabelinha\n# and = para ser True tudo tem que ser True \n# or = para ser True apenas um tem que ser True\n\nprint(True and True)\nprint(True and False)\nprint(False and False)\nprint(True or True)\nprint(True or False)\nprint(False or False)",
      "metadata": {
        "trusted": true
      },
      "outputs": [
        {
          "name": "stdout",
          "text": "True\nFalse\nFalse\nTrue\nTrue\nFalse\n",
          "output_type": "stream"
        }
      ],
      "execution_count": 76
    },
    {
      "cell_type": "code",
      "source": "saldo = 1000\nsaque = 200\nlimite = 100\n\nprint(saldo >= saque) ## saldo é maior ou igual a saque?\nprint(saldo <= saque)\n\n#operador E -> and -- para True as duas condições devem ser True | para ser False apenas um precisa ser False\nprint(saldo >= saque and saldo <= limite) ## saldo é maior/igual que saque e saldo é menor/igual que limite?\n\n#operador ou -> or -- para True apenais uma condição preicisa ser True | pra ser False todos devem ser False\nprint(saldo >= saque or saque <= limite) ## saldo é maior/igual que saque ou saque é menor/igual que limite?,\n\n#operador negação -> not -> [] >>lista  \ncontador_emergencia = []\n\nprint(\"negação\", not 100 > 1500)\nprint(not contador_emergencia)\nprint(not \"saque 1500\")\nprint(not \"\") ## uma sequência vazia em Python é falso",
      "metadata": {
        "trusted": true
      },
      "outputs": [
        {
          "name": "stdout",
          "text": "True\nFalse\nFalse\nTrue\nnegação True\nTrue\nFalse\nTrue\n",
          "output_type": "stream"
        }
      ],
      "execution_count": 75
    },
    {
      "cell_type": "code",
      "source": "# parênteses\n\nsaldo = 1000\nsaque = 250\nlimite = 200\nconta_especial = True\n\nprint(saldo >= saque and saque <= limite or conta_especial and saldo >= saque)\nprint((saldo >= saque and saque <= limite) or (conta_especial and saldo >= saque))",
      "metadata": {
        "trusted": true
      },
      "outputs": [
        {
          "name": "stdout",
          "text": "True\nTrue\n",
          "output_type": "stream"
        }
      ],
      "execution_count": 66
    },
    {
      "cell_type": "raw",
      "source": "### Operadores de identidade: são operadores utilizados para comparar se os dois objetos testados ocupam a mesma posição na memória\n\nis -> identidade",
      "metadata": {}
    },
    {
      "cell_type": "code",
      "source": "curso = \"Curso de Python\"\nnome_curso = curso\nsaldo, limite = 200, 200\n\nex1 = curso is nome_curso\nex2 = curso is not nome_curso\nex3 = saldo is limite\n\nprint(ex1)\nprint(ex2)\nprint(ex3)",
      "metadata": {
        "trusted": true
      },
      "outputs": [
        {
          "name": "stdout",
          "text": "True\nFalse\nTrue\n",
          "output_type": "stream"
        }
      ],
      "execution_count": 83
    },
    {
      "cell_type": "code",
      "source": "saldo = 1000\nlimite = 500\n\nprint(saldo is limite)\nprint(saldo is not limite)",
      "metadata": {
        "trusted": true
      },
      "outputs": [
        {
          "name": "stdout",
          "text": "False\nTrue\n",
          "output_type": "stream"
        }
      ],
      "execution_count": 85
    },
    {
      "cell_type": "raw",
      "source": "### Operadores de associação: são operadores utilizados para verificar se um objeto está presente em uma sequência\n\nin  -> associação",
      "metadata": {}
    },
    {
      "cell_type": "code",
      "source": "curso = \"Curso de Python\"  ## str\nfrutas = [\"laranja\", \"uva\", \"limão\"] # list str\nsaques = [1500, 100] #list int\n\nprint(\"python\" in curso)\nprint(\"maçã\" not in frutas)\nprint(200 in saques)",
      "metadata": {
        "trusted": true
      },
      "outputs": [
        {
          "name": "stdout",
          "text": "False\nTrue\nFalse\n",
          "output_type": "stream"
        }
      ],
      "execution_count": 93
    }
  ]
}