{
  "nbformat": 4,
  "nbformat_minor": 0,
  "metadata": {
    "colab": {
      "provenance": []
    },
    "kernelspec": {
      "name": "python3",
      "display_name": "Python 3"
    },
    "language_info": {
      "name": "python"
    }
  },
  "cells": [
    {
      "cell_type": "markdown",
      "source": [
        "Criando sets - Um set é uma coleção que não possui objetos repetidos, usamos sets para representar conjuntos matemáticos ou eliminar itens duplicados de um iterável."
      ],
      "metadata": {
        "id": "WkY9x1UWxdjE"
      }
    },
    {
      "cell_type": "code",
      "execution_count": null,
      "metadata": {
        "colab": {
          "base_uri": "https://localhost:8080/"
        },
        "id": "zbvoAqFVme_-",
        "outputId": "be6155e2-9256-44c1-c49f-87acf66e583d"
      },
      "outputs": [
        {
          "output_type": "execute_result",
          "data": {
            "text/plain": [
              "{1, 2, 3, 4}"
            ]
          },
          "metadata": {},
          "execution_count": 2
        }
      ],
      "source": [
        "set([1, 2, 3, 1, 3, 4]) #elimina o duplicado"
      ]
    },
    {
      "cell_type": "code",
      "source": [
        "set(\"abacaxi\")   #-- nem sempre traz na ordem logica"
      ],
      "metadata": {
        "colab": {
          "base_uri": "https://localhost:8080/"
        },
        "id": "fWui3_uZyFbq",
        "outputId": "ba35ff3a-a098-4c2f-c869-c9b445969ba8"
      },
      "execution_count": null,
      "outputs": [
        {
          "output_type": "execute_result",
          "data": {
            "text/plain": [
              "{'a', 'b', 'c', 'i', 'x'}"
            ]
          },
          "metadata": {},
          "execution_count": 3
        }
      ]
    },
    {
      "cell_type": "code",
      "source": [
        "set((\"palio\", \"gol\", \"celta\", \"palio\"))"
      ],
      "metadata": {
        "colab": {
          "base_uri": "https://localhost:8080/"
        },
        "id": "_EMjHDwZyOqa",
        "outputId": "6a95e01d-9e55-4575-c8e6-dfe2e6a200cc"
      },
      "execution_count": null,
      "outputs": [
        {
          "output_type": "execute_result",
          "data": {
            "text/plain": [
              "{'celta', 'gol', 'palio'}"
            ]
          },
          "metadata": {},
          "execution_count": 4
        }
      ]
    },
    {
      "cell_type": "code",
      "source": [
        "linguagens = {\"python\", \"java\", \"python\"}\n",
        "\n",
        "print(linguagens)"
      ],
      "metadata": {
        "colab": {
          "base_uri": "https://localhost:8080/"
        },
        "id": "phlPA9FIytSj",
        "outputId": "621b6ed8-2435-492e-f2bd-5998fbd93890"
      },
      "execution_count": null,
      "outputs": [
        {
          "output_type": "stream",
          "name": "stdout",
          "text": [
            "{'python', 'java'}\n"
          ]
        }
      ]
    },
    {
      "cell_type": "markdown",
      "source": [
        "Acessando os dados - conjuntos em Python não suportam indexação e nem fatiamento, caso queira acessar os seus valores é necessário converter o conjunto para lista."
      ],
      "metadata": {
        "id": "ALRPXvLjzQm7"
      }
    },
    {
      "cell_type": "code",
      "source": [
        "numeros = {1, 2, 3, 2} #set"
      ],
      "metadata": {
        "id": "iWJiZLWZzJkz"
      },
      "execution_count": null,
      "outputs": []
    },
    {
      "cell_type": "code",
      "source": [
        "numeros = list(numeros) #convertendo\n",
        "\n",
        "print(numeros[2])"
      ],
      "metadata": {
        "colab": {
          "base_uri": "https://localhost:8080/"
        },
        "id": "jKFYqnWOztbk",
        "outputId": "e8e5cd4b-51dc-4724-bedc-fb429638493f"
      },
      "execution_count": null,
      "outputs": [
        {
          "output_type": "stream",
          "name": "stdout",
          "text": [
            "3\n"
          ]
        }
      ]
    },
    {
      "cell_type": "code",
      "source": [
        "carros = {\"gol\", \"celta\", \"palio\"}\n",
        "\n",
        "for carro in carros:\n",
        "  print(carro)"
      ],
      "metadata": {
        "colab": {
          "base_uri": "https://localhost:8080/"
        },
        "id": "BNpXjwtJz1kr",
        "outputId": "f45b4bca-0bc4-4dc3-ca6e-f31f66243a11"
      },
      "execution_count": null,
      "outputs": [
        {
          "output_type": "stream",
          "name": "stdout",
          "text": [
            "celta\n",
            "palio\n",
            "gol\n"
          ]
        }
      ]
    },
    {
      "cell_type": "markdown",
      "source": [
        "Função enumerate - ÀS vezes é necessário saber qual o índice do objeto dentro do laço for. Para isso podemos usar a função enumerate."
      ],
      "metadata": {
        "id": "y0LhxjIG0EGx"
      }
    },
    {
      "cell_type": "code",
      "source": [
        "carros = {\"gol\", \"celta\", \"palio\"}\n",
        "\n",
        "for indice, carro in enumerate(carros):\n",
        "  print(f\"{indice}: {carro}\")"
      ],
      "metadata": {
        "colab": {
          "base_uri": "https://localhost:8080/"
        },
        "id": "dO356YC5z0Sr",
        "outputId": "d0d6e4f0-bfd9-42e2-cdee-cf6823035bdb"
      },
      "execution_count": null,
      "outputs": [
        {
          "output_type": "stream",
          "name": "stdout",
          "text": [
            "0: celta\n",
            "1: palio\n",
            "2: gol\n"
          ]
        }
      ]
    },
    {
      "cell_type": "markdown",
      "source": [
        "Métodos da classe set"
      ],
      "metadata": {
        "id": "Hp44AcCe0n4e"
      }
    },
    {
      "cell_type": "code",
      "source": [
        "## {}.union - unir\n",
        "\n",
        "conjunto_a = {1, 2}\n",
        "conjunto_b = {3, 4}\n",
        "\n",
        "conjunto_a.union(conjunto_b)"
      ],
      "metadata": {
        "colab": {
          "base_uri": "https://localhost:8080/"
        },
        "id": "0y6LIOxo0p2z",
        "outputId": "b555bdef-cceb-4565-bd2c-065b7c9e6566"
      },
      "execution_count": null,
      "outputs": [
        {
          "output_type": "execute_result",
          "data": {
            "text/plain": [
              "{1, 2, 3, 4}"
            ]
          },
          "metadata": {},
          "execution_count": 14
        }
      ]
    },
    {
      "cell_type": "code",
      "source": [
        "## {}.intersection - inner - o conjunto em que os dois são inguais\n",
        "\n",
        "conjunto_a = {1, 2, 3}\n",
        "conjunto_b = {2, 3, 4}\n",
        "\n",
        "conjunto_a.intersection(conjunto_b)"
      ],
      "metadata": {
        "colab": {
          "base_uri": "https://localhost:8080/"
        },
        "id": "Z1K9Frkq065h",
        "outputId": "4f19d70d-04a2-4c8f-a1f0-97e0a331006b"
      },
      "execution_count": null,
      "outputs": [
        {
          "output_type": "execute_result",
          "data": {
            "text/plain": [
              "{2, 3}"
            ]
          },
          "metadata": {},
          "execution_count": 16
        }
      ]
    },
    {
      "cell_type": "code",
      "source": [
        "## {}.difference -  right join ouu left join -\n",
        "\n",
        "conjunto_a = {1, 2, 3}\n",
        "conjunto_b = {2, 3, 4}\n",
        "\n",
        "print(conjunto_a.difference(conjunto_b)) # right\n",
        "print(conjunto_b.difference(conjunto_a)) #left"
      ],
      "metadata": {
        "colab": {
          "base_uri": "https://localhost:8080/"
        },
        "id": "ZSrcsMlq1V98",
        "outputId": "5b810725-7363-406d-b801-8894b5143919"
      },
      "execution_count": null,
      "outputs": [
        {
          "output_type": "stream",
          "name": "stdout",
          "text": [
            "{1}\n",
            "{4}\n"
          ]
        }
      ]
    },
    {
      "cell_type": "code",
      "source": [
        "## {}.symmetric_difference - diferencia cimetrica - o que ha de diferenre dos dois conjuntos\n",
        "\n",
        "conjunto_a = {1, 2, 3}\n",
        "conjunto_b = {2, 3, 4}\n",
        "\n",
        "conjunto_a.symmetric_difference(conjunto_b)"
      ],
      "metadata": {
        "colab": {
          "base_uri": "https://localhost:8080/"
        },
        "id": "7K5e1von2thg",
        "outputId": "d57b3f0b-5e56-4b1f-fa0b-03db6930647d"
      },
      "execution_count": null,
      "outputs": [
        {
          "output_type": "stream",
          "name": "stdout",
          "text": [
            "{1, 4}\n"
          ]
        }
      ]
    },
    {
      "cell_type": "code",
      "source": [
        "## {}.issubset - pertence a - um conjunto dento do ouro conjunto\n",
        "\n",
        "conjunto_a = {1, 2, 3}\n",
        "conjunto_b = {4, 1, 2, 5, 6, 3}\n",
        "\n",
        "print(conjunto_a.issubset(conjunto_b)) # todos os elementos de 'a' pertencem a 'b'\n",
        "print(conjunto_b.issubset(conjunto_a)) # todos os elementos de 'b' não pertencem a 'a'\n"
      ],
      "metadata": {
        "colab": {
          "base_uri": "https://localhost:8080/"
        },
        "id": "7Mx5atgk2-Xc",
        "outputId": "6eff2b2f-3d59-4ba5-8e9d-35cd10b0d39b"
      },
      "execution_count": null,
      "outputs": [
        {
          "output_type": "stream",
          "name": "stdout",
          "text": [
            "True\n",
            "False\n"
          ]
        }
      ]
    },
    {
      "cell_type": "code",
      "source": [
        "## {}.issuperset - pertence a - um conjunto dento do ouro conjunto\n",
        "\n",
        "conjunto_a = {1, 2, 3}\n",
        "conjunto_b = {4, 1, 2, 5, 6, 3}\n",
        "\n",
        "print(conjunto_a.issuperset(conjunto_b))\n",
        "print(conjunto_b.issuperset(conjunto_a))\n"
      ],
      "metadata": {
        "colab": {
          "base_uri": "https://localhost:8080/"
        },
        "id": "TDNAOUNo33Vs",
        "outputId": "07cbd31e-c777-4b8d-c865-d4cad00eb1fd"
      },
      "execution_count": null,
      "outputs": [
        {
          "output_type": "stream",
          "name": "stdout",
          "text": [
            "False\n",
            "True\n"
          ]
        }
      ]
    },
    {
      "cell_type": "code",
      "source": [
        "## {}.isdisjoint - não existe intersecção\n",
        "conjunto_a = {1, 2, 3, 4, 5}\n",
        "conjunto_b = {6, 7, 8, 9}\n",
        "conjunto_c = {1, 0}\n",
        "\n",
        "print(conjunto_a.isdisjoint(conjunto_b))\n",
        "print(conjunto_a.isdisjoint(conjunto_c))\n"
      ],
      "metadata": {
        "colab": {
          "base_uri": "https://localhost:8080/"
        },
        "id": "T3UIef7y4m7k",
        "outputId": "38f60f02-e659-4cd1-f4b1-8d79155dc88e"
      },
      "execution_count": null,
      "outputs": [
        {
          "output_type": "stream",
          "name": "stdout",
          "text": [
            "True\n",
            "False\n"
          ]
        }
      ]
    },
    {
      "cell_type": "code",
      "source": [
        "## {}.add\n",
        "\n",
        "sorteio = {1, 23}\n",
        "\n",
        "sorteio.add(25)\n",
        "\n",
        "sorteio"
      ],
      "metadata": {
        "colab": {
          "base_uri": "https://localhost:8080/"
        },
        "id": "sG2nIsES5SQA",
        "outputId": "6b1d888e-7cdf-4fff-dbad-8af2f0c79f45"
      },
      "execution_count": null,
      "outputs": [
        {
          "output_type": "execute_result",
          "data": {
            "text/plain": [
              "{1, 23, 25}"
            ]
          },
          "metadata": {},
          "execution_count": 29
        }
      ]
    },
    {
      "cell_type": "code",
      "source": [
        "sorteio.add(45)\n",
        "\n",
        "sorteio"
      ],
      "metadata": {
        "colab": {
          "base_uri": "https://localhost:8080/"
        },
        "id": "ACJBVW_O5rHB",
        "outputId": "a64d0647-70bd-4e3c-cf40-482c83c6bb58"
      },
      "execution_count": null,
      "outputs": [
        {
          "output_type": "execute_result",
          "data": {
            "text/plain": [
              "{1, 23, 25, 45}"
            ]
          },
          "metadata": {},
          "execution_count": 30
        }
      ]
    },
    {
      "cell_type": "code",
      "source": [
        "\n",
        "sorteio.add(25)\n",
        "\n",
        "sorteio"
      ],
      "metadata": {
        "colab": {
          "base_uri": "https://localhost:8080/"
        },
        "id": "fJaQETeV5uek",
        "outputId": "34a8fa1c-cc56-421e-dbeb-3a8cab8b8c6a"
      },
      "execution_count": null,
      "outputs": [
        {
          "output_type": "execute_result",
          "data": {
            "text/plain": [
              "{1, 23, 25, 45}"
            ]
          },
          "metadata": {},
          "execution_count": 31
        }
      ]
    },
    {
      "cell_type": "code",
      "source": [
        "## {}.clear - limpar\n",
        "\n",
        "sorteio = {1, 23}\n",
        "\n",
        "sorteio"
      ],
      "metadata": {
        "colab": {
          "base_uri": "https://localhost:8080/"
        },
        "id": "DRGa9zE7561C",
        "outputId": "6e6cc9c1-66a3-4780-c1c1-54f22279f0fa"
      },
      "execution_count": null,
      "outputs": [
        {
          "output_type": "execute_result",
          "data": {
            "text/plain": [
              "{1, 23}"
            ]
          },
          "metadata": {},
          "execution_count": 32
        }
      ]
    },
    {
      "cell_type": "code",
      "source": [
        "sorteio.clear()\n",
        "\n",
        "sorteio"
      ],
      "metadata": {
        "colab": {
          "base_uri": "https://localhost:8080/"
        },
        "id": "vKyOoRHH5_jE",
        "outputId": "92c90997-417a-4fda-b3ab-4630a61e5e75"
      },
      "execution_count": null,
      "outputs": [
        {
          "output_type": "execute_result",
          "data": {
            "text/plain": [
              "set()"
            ]
          },
          "metadata": {},
          "execution_count": 33
        }
      ]
    },
    {
      "cell_type": "code",
      "source": [
        "## {}.copy - copiar\n",
        "\n",
        "sorteio = {1, 23}\n",
        "\n",
        "sorteio\n"
      ],
      "metadata": {
        "colab": {
          "base_uri": "https://localhost:8080/"
        },
        "id": "RNGiEwbW6Ifk",
        "outputId": "b3a1f229-fdf4-45eb-9ea1-0bb267aaf280"
      },
      "execution_count": null,
      "outputs": [
        {
          "output_type": "execute_result",
          "data": {
            "text/plain": [
              "{1, 23}"
            ]
          },
          "metadata": {},
          "execution_count": 34
        }
      ]
    },
    {
      "cell_type": "code",
      "source": [
        "sorteio.copy()\n",
        "\n",
        "sorteio"
      ],
      "metadata": {
        "colab": {
          "base_uri": "https://localhost:8080/"
        },
        "id": "UHpvTYNB6MzT",
        "outputId": "32eec4ca-f952-4309-91d0-145cbc9c3584"
      },
      "execution_count": null,
      "outputs": [
        {
          "output_type": "execute_result",
          "data": {
            "text/plain": [
              "{1, 23}"
            ]
          },
          "metadata": {},
          "execution_count": 35
        }
      ]
    },
    {
      "cell_type": "code",
      "source": [
        "## {}.discart -- diacartar um valor\n",
        "\n",
        "numeros = {1, 2, 3, 1, 2, 4, 5, 5, 6, 7, 8, 9, 0}\n",
        "\n",
        "numeros"
      ],
      "metadata": {
        "colab": {
          "base_uri": "https://localhost:8080/"
        },
        "id": "BeAIUWcb6R3M",
        "outputId": "6d3f4d98-4273-4ec3-eb5f-6536397e678b"
      },
      "execution_count": null,
      "outputs": [
        {
          "output_type": "execute_result",
          "data": {
            "text/plain": [
              "{0, 1, 2, 3, 4, 5, 6, 7, 8, 9}"
            ]
          },
          "metadata": {},
          "execution_count": 36
        }
      ]
    },
    {
      "cell_type": "code",
      "source": [
        "numeros.discard(1)\n",
        "\n",
        "numeros"
      ],
      "metadata": {
        "colab": {
          "base_uri": "https://localhost:8080/"
        },
        "id": "-bKaTpRN6ha1",
        "outputId": "97c450a7-a06f-41bc-9b15-aba758936c59"
      },
      "execution_count": null,
      "outputs": [
        {
          "output_type": "execute_result",
          "data": {
            "text/plain": [
              "{0, 2, 3, 4, 5, 6, 7, 8, 9}"
            ]
          },
          "metadata": {},
          "execution_count": 37
        }
      ]
    },
    {
      "cell_type": "code",
      "source": [
        "numeros.discard(45)\n",
        "\n",
        "numeros"
      ],
      "metadata": {
        "colab": {
          "base_uri": "https://localhost:8080/"
        },
        "id": "_ZPWEgqu6ldk",
        "outputId": "7230c5ad-aae0-49a8-e8d2-0af83379f641"
      },
      "execution_count": null,
      "outputs": [
        {
          "output_type": "execute_result",
          "data": {
            "text/plain": [
              "{0, 2, 3, 4, 5, 6, 7, 8, 9}"
            ]
          },
          "metadata": {},
          "execution_count": 38
        }
      ]
    },
    {
      "cell_type": "code",
      "source": [
        "## {}.pop - retira os elementos em ordem\n",
        "\n",
        "numeros = {1, 2, 3, 1, 2, 4, 5, 5, 6, 7, 8, 9, 0}\n",
        "\n",
        "numeros"
      ],
      "metadata": {
        "colab": {
          "base_uri": "https://localhost:8080/"
        },
        "id": "sOkeNYrL6yQe",
        "outputId": "48235635-48ee-4bc4-9071-85d082d15a78"
      },
      "execution_count": null,
      "outputs": [
        {
          "output_type": "execute_result",
          "data": {
            "text/plain": [
              "{0, 1, 2, 3, 4, 5, 6, 7, 8, 9}"
            ]
          },
          "metadata": {},
          "execution_count": 45
        }
      ]
    },
    {
      "cell_type": "code",
      "source": [
        "print(numeros.pop())\n",
        "print(numeros.pop())\n",
        "print(numeros.pop())\n",
        "print(numeros.pop())\n",
        "\n",
        "numeros"
      ],
      "metadata": {
        "colab": {
          "base_uri": "https://localhost:8080/"
        },
        "id": "yqBX-YMX62jt",
        "outputId": "dcc8c9f9-0826-4ee6-cf3f-55bfaad89a55"
      },
      "execution_count": null,
      "outputs": [
        {
          "output_type": "stream",
          "name": "stdout",
          "text": [
            "0\n",
            "1\n",
            "2\n",
            "3\n"
          ]
        },
        {
          "output_type": "execute_result",
          "data": {
            "text/plain": [
              "{4, 5, 6, 7, 8, 9}"
            ]
          },
          "metadata": {},
          "execution_count": 46
        }
      ]
    },
    {
      "cell_type": "code",
      "source": [
        "## {}.remove - remover -- quando o elemento não existe ele da um erro diferente do discart\n",
        "\n",
        "numeros = {1, 2, 3, 1, 2, 4, 5, 5, 6, 7, 8, 9, 0}\n",
        "\n",
        "numeros\n"
      ],
      "metadata": {
        "colab": {
          "base_uri": "https://localhost:8080/"
        },
        "id": "pmNoBfNw7TS0",
        "outputId": "16bf373e-40c7-4673-e758-c5caf36d41db"
      },
      "execution_count": null,
      "outputs": [
        {
          "output_type": "execute_result",
          "data": {
            "text/plain": [
              "{0, 1, 2, 3, 4, 5, 6, 7, 8, 9}"
            ]
          },
          "metadata": {},
          "execution_count": 47
        }
      ]
    },
    {
      "cell_type": "code",
      "source": [
        "numeros.remove(0)\n",
        "\n",
        "numeros"
      ],
      "metadata": {
        "colab": {
          "base_uri": "https://localhost:8080/"
        },
        "id": "Bm7hLahC7ZVE",
        "outputId": "961c1758-3b79-44ed-a6b5-a2a58c93ae89"
      },
      "execution_count": null,
      "outputs": [
        {
          "output_type": "execute_result",
          "data": {
            "text/plain": [
              "{1, 2, 3, 4, 5, 6, 7, 8, 9}"
            ]
          },
          "metadata": {},
          "execution_count": 48
        }
      ]
    },
    {
      "cell_type": "code",
      "source": [
        "## len - serve para tirar o tamanho do set\n",
        "\n",
        "numeros = {1, 2, 3, 1, 2, 4, 5, 5, 6, 7, 8, 9, 0}\n",
        "\n",
        "len(numeros)"
      ],
      "metadata": {
        "colab": {
          "base_uri": "https://localhost:8080/"
        },
        "id": "XPm9rdNa7cxu",
        "outputId": "651142e4-0c5c-4ce1-b4e5-b5a8fb5a5309"
      },
      "execution_count": null,
      "outputs": [
        {
          "output_type": "execute_result",
          "data": {
            "text/plain": [
              "10"
            ]
          },
          "metadata": {},
          "execution_count": 49
        }
      ]
    },
    {
      "cell_type": "code",
      "source": [
        "## in - verificar de está dentro do meu conjunto\n",
        "\n",
        "numeros = {1, 2, 3, 1, 2, 4, 5, 5, 6, 7, 8, 9, 0}\n",
        "\n",
        "1 in numeros"
      ],
      "metadata": {
        "colab": {
          "base_uri": "https://localhost:8080/"
        },
        "id": "fxj42jun789R",
        "outputId": "f972ed0c-3023-471b-db04-d0e31349b3ce"
      },
      "execution_count": null,
      "outputs": [
        {
          "output_type": "execute_result",
          "data": {
            "text/plain": [
              "True"
            ]
          },
          "metadata": {},
          "execution_count": 50
        }
      ]
    },
    {
      "cell_type": "code",
      "source": [
        "10 in numeros"
      ],
      "metadata": {
        "colab": {
          "base_uri": "https://localhost:8080/"
        },
        "id": "TJvvLb2B8GNT",
        "outputId": "898f206b-38dd-42ef-af83-52e8bab4b035"
      },
      "execution_count": null,
      "outputs": [
        {
          "output_type": "execute_result",
          "data": {
            "text/plain": [
              "False"
            ]
          },
          "metadata": {},
          "execution_count": 51
        }
      ]
    }
  ]
}