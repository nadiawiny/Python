{
  "nbformat": 4,
  "nbformat_minor": 0,
  "metadata": {
    "colab": {
      "provenance": []
    },
    "kernelspec": {
      "name": "python3",
      "display_name": "Python 3"
    },
    "language_info": {
      "name": "python"
    }
  },
  "cells": [
    {
      "cell_type": "markdown",
      "source": [
        "**`Conhecendo métodos úteis da classe string`**"
      ],
      "metadata": {
        "id": "efUevt97RIsP"
      }
    },
    {
      "cell_type": "code",
      "source": [
        "curso = \"pYtHon\"\n",
        "\n",
        "print(curso.upper())  ## converte tudo em maiúscula\n",
        "print(curso.lower())  ## converte tudo em  minúscula\n",
        "print(curso.title())  ## retorna titulo"
      ],
      "metadata": {
        "id": "mWo3JBWzRJFF",
        "colab": {
          "base_uri": "https://localhost:8080/"
        },
        "outputId": "542f48d6-d29a-403f-e510-a06e5e84ec2d"
      },
      "execution_count": null,
      "outputs": [
        {
          "output_type": "stream",
          "name": "stdout",
          "text": [
            "PYTHON\n",
            "python\n",
            "Python\n"
          ]
        }
      ]
    },
    {
      "cell_type": "code",
      "source": [
        "## Eliminando espaços em branco\n",
        "\n",
        "curso = \"   Python  \"\n",
        "\n",
        "print(curso.strip()+ \".\")  #remove os espaços em branco da esquerda e da direita\n",
        "print(curso.lstrip()+ \".\") # remove só o espaço da esquerda\n",
        "print(curso.rstrip()+\".\") # remove só espaços da direira"
      ],
      "metadata": {
        "colab": {
          "base_uri": "https://localhost:8080/"
        },
        "id": "AM3HULWuzz-y",
        "outputId": "6fb2d66e-cf86-4d03-e8f3-bd858797bc5c"
      },
      "execution_count": null,
      "outputs": [
        {
          "output_type": "stream",
          "name": "stdout",
          "text": [
            "Python.\n",
            "Python  .\n",
            "   Python.\n"
          ]
        }
      ]
    },
    {
      "cell_type": "code",
      "source": [
        "## junção e centralização\n",
        "\n",
        "curso = \"Python\"\n",
        "\n",
        "print(\"---\"+ curso + \"---\")\n",
        "print(curso.center(10, \"#\")) # (passa o número de caracter que ele vai ocupar, \" \") - centralizar\n",
        "print(\".\".join(curso)) # junção - passa o tipo de interavél"
      ],
      "metadata": {
        "colab": {
          "base_uri": "https://localhost:8080/"
        },
        "id": "Tmm9QSSJ0hMS",
        "outputId": "8efdc086-299f-4753-f43f-175f8f0a6fec"
      },
      "execution_count": null,
      "outputs": [
        {
          "output_type": "stream",
          "name": "stdout",
          "text": [
            "---Python---\n",
            "##Python##\n",
            "P.y.t.h.o.n\n"
          ]
        }
      ]
    },
    {
      "cell_type": "markdown",
      "source": [
        "**`Interpolação de Variável`**\n",
        "```\n",
        "- usando o sinal % -- raro e não muito recomendada\n",
        "- utilizando o método `format`\n",
        "- utilizando f strings\n",
        "```\n",
        "\n"
      ],
      "metadata": {
        "id": "7l9dMmNe2ACl"
      }
    },
    {
      "cell_type": "code",
      "source": [
        "# old style %\n",
        "\n",
        "nome = \"Maria\"\n",
        "idade = 25\n",
        "profissao = \"Programadora\"\n",
        "linguagem = \"Python\"\n",
        "\n",
        "print(\"Olá, me chamo %s. Eu tenho %d anos de idade, tranalho como %s e estou matriculada no curso de %s\"\n",
        "      %(nome, idade, profissao, linguagem))"
      ],
      "metadata": {
        "colab": {
          "base_uri": "https://localhost:8080/"
        },
        "id": "D5ETxFPl11SS",
        "outputId": "c311abd8-9dbf-449d-d419-825bbcbfd112"
      },
      "execution_count": null,
      "outputs": [
        {
          "output_type": "stream",
          "name": "stdout",
          "text": [
            "Olá, me chamo Maria. Eu tenho 25 anos de idade, tranalho como Programadora e estou matriculada no curso de Python\n"
          ]
        }
      ]
    },
    {
      "cell_type": "code",
      "source": [
        "# format\n",
        "\n",
        "nome = \"Maria\"\n",
        "idade = 25\n",
        "profissao = \"Programadora\"\n",
        "linguagem = \"Python\"\n",
        "\n",
        "print(\"Olá, me chamo {}. Eu tenho {} anos de idade, tranalho como {} e estou matriculada no curso de {}.\"\n",
        "    .format(nome, idade, profissao, linguagem))\n",
        "\n",
        "print(\"Olá, me chamo {3}. Eu tenho {2} anos de idade, tranalho como {1} e estou matriculada no curso de {0}.\"\n",
        "    .format(linguagem, profissao, idade, nome))\n",
        "\n",
        "print(\"Olá, me chamo {nome}. Eu tenho {idade} anos de idade, tranalho como {profissao} e estou matriculada no curso de {linguagem}.\"\n",
        "    .format(nome=nome, idade=idade, profissao=profissao, linguagem=linguagem))\n",
        "##print(\"Olá, me chamo {nome}. Eu tenho {idade} anos de idade, tranalho como {profissao} e estou matriculada no curso de {linguagem}.\"\n",
        "##    .format(**pessoa))# formato de dicionario."
      ],
      "metadata": {
        "colab": {
          "base_uri": "https://localhost:8080/"
        },
        "id": "yrEj6KSC4np8",
        "outputId": "95bcc0bb-170c-4d98-c251-d99550a7c3f0"
      },
      "execution_count": null,
      "outputs": [
        {
          "output_type": "stream",
          "name": "stdout",
          "text": [
            "Olá, me chamo Maria. Eu tenho 25 anos de idade, tranalho como Programadora e estou matriculada no curso de Python.\n",
            "Olá, me chamo Maria. Eu tenho 25 anos de idade, tranalho como Programadora e estou matriculada no curso de Python.\n",
            "Olá, me chamo Maria. Eu tenho 25 anos de idade, tranalho como Programadora e estou matriculada no curso de Python.\n"
          ]
        }
      ]
    },
    {
      "cell_type": "code",
      "source": [
        "# f-string\n",
        "\n",
        "nome = \"Maria\"\n",
        "idade = 25\n",
        "profissao = \"Programadora\"\n",
        "linguagem = \"Python\"\n",
        "\n",
        "print(f\"Olá, me chamo {nome}. Eu tenho {idade} anos de idade, tranalho como {profissao} e estou matriculada no curso de {linguagem}.\")"
      ],
      "metadata": {
        "colab": {
          "base_uri": "https://localhost:8080/"
        },
        "id": "66thybJyzTog",
        "outputId": "a60b7dda-5cf2-4a44-9e12-a8d00ce5e18d"
      },
      "execution_count": null,
      "outputs": [
        {
          "output_type": "stream",
          "name": "stdout",
          "text": [
            "Olá, me chamo Maria. Eu tenho 25 anos de idade, tranalho como Programadora e estou matriculada no curso de Python.\n"
          ]
        }
      ]
    },
    {
      "cell_type": "code",
      "source": [
        "## formatar strings com f-string\n",
        "\n",
        "PI = 3.14159\n",
        "\n",
        "print(f\"Valor de PI:{PI:.2f}\")\n",
        "\n",
        "print(f\"Valor de PI:{PI:10.2f}\")"
      ],
      "metadata": {
        "id": "e8I575LF5-YY",
        "colab": {
          "base_uri": "https://localhost:8080/"
        },
        "outputId": "6eed6a74-10e9-403d-e10d-7dd85373c23a"
      },
      "execution_count": null,
      "outputs": [
        {
          "output_type": "stream",
          "name": "stdout",
          "text": [
            "Valor de PI:3.14\n",
            "Valor de PI:      3.14\n"
          ]
        }
      ]
    },
    {
      "cell_type": "markdown",
      "source": [
        "\n",
        "```\n",
        "Fatiamento de strings - Técnica para retornar substrings, informando inicio (start), fim (stop) e passo (step):\n",
        "[start:stop,[,setp]]\n",
        "```\n",
        "\n"
      ],
      "metadata": {
        "id": "Fgb36a4O6Qrq"
      }
    },
    {
      "cell_type": "code",
      "source": [
        "nome = \"Maria Rosa Maia\"\n",
        "\n",
        "nome"
      ],
      "metadata": {
        "colab": {
          "base_uri": "https://localhost:8080/",
          "height": 36
        },
        "id": "oLnxUvil0vCD",
        "outputId": "817a4719-cb2b-4fda-8424-5614edbad820"
      },
      "execution_count": null,
      "outputs": [
        {
          "output_type": "execute_result",
          "data": {
            "text/plain": [
              "'Maria Rosa Maia'"
            ],
            "application/vnd.google.colaboratory.intrinsic+json": {
              "type": "string"
            }
          },
          "metadata": {},
          "execution_count": 9
        }
      ]
    },
    {
      "cell_type": "code",
      "source": [
        "print(nome[0])\n",
        "print(nome[:9]) # desda posição 0 até a 9\n",
        "print(nome[8:]) # apartir do 8 até o final da str\n",
        "print(nome[11:15]) #apartir do 11 até o 15 - pedaço - substring\n",
        "print(nome[11:15:2]) #step -- pegar de 2 em 2\n",
        "print(nome[:]) # retorna a copida da str\n",
        "print(nome[::-1]) # espelhamento da string\n",
        "print(nome[-1]) # pega o ultimo valor da str"
      ],
      "metadata": {
        "colab": {
          "base_uri": "https://localhost:8080/"
        },
        "id": "RFHf8BTT4E-Z",
        "outputId": "9fc4834e-40ee-4606-acc5-45e7f93e486f"
      },
      "execution_count": null,
      "outputs": [
        {
          "output_type": "stream",
          "name": "stdout",
          "text": [
            "M\n",
            "Maria Ros\n",
            "sa Maia\n",
            "Maia\n",
            "Mi\n",
            "Maria Rosa Maia\n",
            "aiaM asoR airaM\n",
            "a\n"
          ]
        }
      ]
    },
    {
      "cell_type": "markdown",
      "source": [
        "**`String múltiplas linhas - strg triplas`**"
      ],
      "metadata": {
        "id": "G16nbryU0o_s"
      }
    },
    {
      "cell_type": "code",
      "source": [
        "## string triplas\n",
        "\n",
        "nome = \"Maria\"\n",
        "\n",
        "mensagem = f\"\"\"\n",
        "  Olá meu nome é {nome},\n",
        "  Eu trabalho com Python \"\"\"\n",
        "\n",
        "print(mensagem)"
      ],
      "metadata": {
        "colab": {
          "base_uri": "https://localhost:8080/"
        },
        "id": "-YOdhdQ337n8",
        "outputId": "10e42fd8-6b34-4e70-fccc-7de91a867e5a"
      },
      "execution_count": null,
      "outputs": [
        {
          "output_type": "stream",
          "name": "stdout",
          "text": [
            "\n",
            "  Olá meu nome é Maria,\n",
            "  Eu trabalho com Python \n"
          ]
        }
      ]
    },
    {
      "cell_type": "code",
      "source": [
        "nome = \"Maria\"\n",
        "\n",
        "mensagem = f'''\n",
        "  Olá meu nome é {nome},\n",
        "Eu trabalho\n",
        "        com Python '''\n",
        "\n",
        "print(mensagem)"
      ],
      "metadata": {
        "colab": {
          "base_uri": "https://localhost:8080/"
        },
        "id": "-QqU5cWm5tO3",
        "outputId": "9850f444-61b5-49e6-d07a-0a80d63c6e0a"
      },
      "execution_count": null,
      "outputs": [
        {
          "output_type": "stream",
          "name": "stdout",
          "text": [
            "\n",
            "  Olá meu nome é Maria,\n",
            "Eu trabalho \n",
            "        com Python \n"
          ]
        }
      ]
    }
  ]
}