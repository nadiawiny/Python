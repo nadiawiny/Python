{
  "cells": [
    {
      "cell_type": "markdown",
      "metadata": {},
      "source": [
        "Tipos de Operadores"
      ]
    },
    {
      "cell_type": "markdown",
      "metadata": {},
      "source": [
        "### Operadores aritmeticos\n",
        " \n",
        "+ -> adição\n",
        "- -> subtração\n",
        "* -> multiplicação\n",
        "/ -> divisão\n",
        "// -> divisão inteira\n",
        "% -> módulo - resto de divisão\n",
        "** -> exponenciação"
      ]
    },
    {
      "cell_type": "code",
      "execution_count": 1,
      "metadata": {
        "trusted": true
      },
      "outputs": [
        {
          "name": "stdout",
          "output_type": "stream",
          "text": [
            "adição 2\n",
            "subtração 8\n",
            "multiplicação 12\n",
            "divisão 4.0\n",
            "divisão inteira 4\n",
            "módulo 1\n",
            "exponenciação 8\n"
          ]
        }
      ],
      "source": [
        "## Adição\n",
        "print(\"adição\", 1+1)\n",
        "\n",
        "## Subtração \n",
        "print(\"subtração\", 10-2)\n",
        "\n",
        "## multiplicação \n",
        "print(\"multiplicação\", 4*3) \n",
        "\n",
        "## divisão\n",
        "print(\"divisão\", 12/3)\n",
        "\n",
        "## divisão inteira\n",
        "print(\"divisão inteira\", 12//3)\n",
        "\n",
        "## módulo -- resto da divisão\n",
        "print(\"módulo\", 10%3)\n",
        "\n",
        "## exponenciação\n",
        "print(\"exponenciação\", 2 ** 3)"
      ]
    },
    {
      "cell_type": "code",
      "execution_count": 2,
      "metadata": {
        "trusted": true
      },
      "outputs": [
        {
          "name": "stdout",
          "output_type": "stream",
          "text": [
            "30\n",
            "10\n",
            "200\n",
            "2.0\n",
            "2\n",
            "0\n",
            "10240000000000\n"
          ]
        }
      ],
      "source": [
        "produto_1 = 20\n",
        "produto_2 = 10\n",
        "\n",
        "print(produto_1 + produto_2)\n",
        "print(produto_1 - produto_2)\n",
        "print(produto_1 * produto_2)\n",
        "print(produto_1 / produto_2)\n",
        "print(produto_1 // produto_2)\n",
        "print(produto_1 % produto_2)\n",
        "print(produto_1 ** produto_2)"
      ]
    },
    {
      "cell_type": "code",
      "execution_count": 3,
      "metadata": {
        "trusted": true
      },
      "outputs": [
        {
          "name": "stdout",
          "output_type": "stream",
          "text": [
            "30\n"
          ]
        }
      ],
      "source": [
        "x = 10 + 5 * 4\n",
        "print(x)"
      ]
    },
    {
      "cell_type": "code",
      "execution_count": 4,
      "metadata": {
        "trusted": true
      },
      "outputs": [
        {
          "name": "stdout",
          "output_type": "stream",
          "text": [
            "60\n"
          ]
        }
      ],
      "source": [
        "x = (10 + 5) * 4\n",
        "print(x)"
      ]
    },
    {
      "cell_type": "code",
      "execution_count": 5,
      "metadata": {
        "trusted": true
      },
      "outputs": [
        {
          "name": "stdout",
          "output_type": "stream",
          "text": [
            "60\n",
            "51.0\n"
          ]
        }
      ],
      "source": [
        "x = (10 + 5) * 4\n",
        "y = (10 / 2) + (25 * 2) - (2 ** 2)\n",
        "print(x)\n",
        "print(y)"
      ]
    },
    {
      "cell_type": "markdown",
      "metadata": {},
      "source": [
        "### Operadores de comparação\n",
        "\n",
        "== -> igualdade \n",
        "!= -> diferente \n",
        "> -> maior que\n",
        "< -> menor que \n",
        ">= -> maior ou igual\n",
        "<= -> menor ou igual"
      ]
    },
    {
      "cell_type": "code",
      "execution_count": 9,
      "metadata": {
        "trusted": true
      },
      "outputs": [
        {
          "name": "stdout",
          "output_type": "stream",
          "text": [
            "False\n",
            "True\n",
            "True\n",
            "False\n",
            "True\n",
            "False\n"
          ]
        }
      ],
      "source": [
        "saldo = 450\n",
        "saque = 200\n",
        "\n",
        "print(saldo == saque)\n",
        "print(saldo != saque)\n",
        "print(saldo > saque)\n",
        "print(saldo < saque)\n",
        "print(saldo >= saque)\n",
        "print(saldo <= saque)"
      ]
    },
    {
      "cell_type": "markdown",
      "metadata": {},
      "source": [
        "Operadores de atribuição: são utilizados para definir o valor inicial ou sobrescrever o valor de uma variável"
      ]
    },
    {
      "cell_type": "code",
      "execution_count": 10,
      "metadata": {
        "trusted": true
      },
      "outputs": [
        {
          "name": "stdout",
          "output_type": "stream",
          "text": [
            "atribuição simples 500\n",
            "atribuição com adição 700\n",
            "atribuição com subtração 400\n",
            "atribuição com multiplicação 1000\n",
            "atribuição com divisão 100.0\n",
            "atribuição com divisão inteira 100\n",
            "atribuição com módulo 20\n",
            "atribuição com exponeciação 6400\n"
          ]
        }
      ],
      "source": [
        "## atribuição simples\n",
        "saldo = 500\n",
        "\n",
        "print(\"atribuição simples\", saldo)\n",
        "\n",
        "## atribuição com adição \n",
        "saldo = 500\n",
        "saldo += 200 #saldo adicionar o valor 200\n",
        "\n",
        "print(\"atribuição com adição\", saldo)\n",
        "\n",
        "## atribuição com subtração\n",
        "saldo = 500\n",
        "saldo -= 100 \n",
        "\n",
        "print(\"atribuição com subtração\", saldo)\n",
        "\n",
        "## atribuição com multiplicação\n",
        "saldo = 500\n",
        "saldo *= 2 \n",
        "\n",
        "print(\"atribuição com multiplicação\", saldo)\n",
        "\n",
        "## atribuição com divisão\n",
        "saldo = 500\n",
        "saldo /= 5 \n",
        "\n",
        "print(\"atribuição com divisão\", saldo)\n",
        "\n",
        "## atribuição com dividão inteira\n",
        "saldo = 500\n",
        "saldo //= 5 \n",
        "\n",
        "print(\"atribuição com divisão inteira\", saldo)\n",
        "\n",
        "## atribuição com módulo\n",
        "saldo = 500\n",
        "saldo %= 480 \n",
        "\n",
        "print(\"atribuição com módulo\", saldo)\n",
        "\n",
        "## atribuição com exponeciação\n",
        "saldo = 80\n",
        "saldo **= 2 \n",
        "\n",
        "print(\"atribuição com exponeciação\", saldo)"
      ]
    },
    {
      "cell_type": "markdown",
      "metadata": {},
      "source": [
        "### Operadores lógicos: são operadores utilizado em conjunto com os operadores de comparação, para mostrar uma expressão lógica. --> booleano\n",
        "\n",
        "True\n",
        "False\n",
        "and \n",
        "or\n",
        "not"
      ]
    },
    {
      "cell_type": "code",
      "execution_count": 11,
      "metadata": {
        "trusted": true
      },
      "outputs": [
        {
          "name": "stdout",
          "output_type": "stream",
          "text": [
            "True\n",
            "False\n",
            "False\n",
            "True\n",
            "True\n",
            "False\n"
          ]
        }
      ],
      "source": [
        "## Tabelinha\n",
        "# and = para ser True tudo tem que ser True \n",
        "# or = para ser True apenas um tem que ser True\n",
        "\n",
        "print(True and True)\n",
        "print(True and False)\n",
        "print(False and False)\n",
        "print(True or True)\n",
        "print(True or False)\n",
        "print(False or False)"
      ]
    },
    {
      "cell_type": "code",
      "execution_count": 12,
      "metadata": {
        "trusted": true
      },
      "outputs": [
        {
          "name": "stdout",
          "output_type": "stream",
          "text": [
            "True\n",
            "False\n",
            "False\n",
            "True\n",
            "negação True\n",
            "True\n",
            "False\n",
            "True\n"
          ]
        }
      ],
      "source": [
        "saldo = 1000\n",
        "saque = 200\n",
        "limite = 100\n",
        "\n",
        "print(saldo >= saque) ## saldo é maior ou igual a saque?\n",
        "print(saldo <= saque)\n",
        "\n",
        "#operador E -> and -- para True as duas condições devem ser True | para ser False apenas um precisa ser False\n",
        "print(saldo >= saque and saldo <= limite) ## saldo é maior/igual que saque e saldo é menor/igual que limite?\n",
        "\n",
        "#operador ou -> or -- para True apenais uma condição preicisa ser True | pra ser False todos devem ser False\n",
        "print(saldo >= saque or saque <= limite) ## saldo é maior/igual que saque ou saque é menor/igual que limite?,\n",
        "\n",
        "#operador negação -> not -> [] >>lista  \n",
        "contador_emergencia = []\n",
        "\n",
        "print(\"negação\", not 100 > 1500)\n",
        "print(not contador_emergencia)\n",
        "print(not \"saque 1500\")\n",
        "print(not \"\") ## uma sequência vazia em Python é falso"
      ]
    },
    {
      "cell_type": "code",
      "execution_count": 13,
      "metadata": {
        "trusted": true
      },
      "outputs": [
        {
          "name": "stdout",
          "output_type": "stream",
          "text": [
            "True\n",
            "True\n"
          ]
        }
      ],
      "source": [
        "# parênteses\n",
        "\n",
        "saldo = 1000\n",
        "saque = 250\n",
        "limite = 200\n",
        "conta_especial = True\n",
        "\n",
        "print(saldo >= saque and saque <= limite or conta_especial and saldo >= saque)\n",
        "print((saldo >= saque and saque <= limite) or (conta_especial and saldo >= saque))"
      ]
    },
    {
      "cell_type": "markdown",
      "metadata": {},
      "source": [
        "### Operadores de identidade: são operadores utilizados para comparar se os dois objetos testados ocupam a mesma posição na memória\n",
        "\n",
        "is -> identidade"
      ]
    },
    {
      "cell_type": "code",
      "execution_count": 14,
      "metadata": {
        "trusted": true
      },
      "outputs": [
        {
          "name": "stdout",
          "output_type": "stream",
          "text": [
            "True\n",
            "False\n",
            "True\n"
          ]
        }
      ],
      "source": [
        "curso = \"Curso de Python\"\n",
        "nome_curso = curso\n",
        "saldo, limite = 200, 200\n",
        "\n",
        "ex1 = curso is nome_curso\n",
        "ex2 = curso is not nome_curso\n",
        "ex3 = saldo is limite\n",
        "\n",
        "print(ex1)\n",
        "print(ex2)\n",
        "print(ex3)"
      ]
    },
    {
      "cell_type": "code",
      "execution_count": 15,
      "metadata": {
        "trusted": true
      },
      "outputs": [
        {
          "name": "stdout",
          "output_type": "stream",
          "text": [
            "False\n",
            "True\n"
          ]
        }
      ],
      "source": [
        "saldo = 1000\n",
        "limite = 500\n",
        "\n",
        "print(saldo is limite)\n",
        "print(saldo is not limite)"
      ]
    },
    {
      "cell_type": "markdown",
      "metadata": {},
      "source": [
        "### Operadores de associação: são operadores utilizados para verificar se um objeto está presente em uma sequência\n",
        "\n",
        "in  -> associação"
      ]
    },
    {
      "cell_type": "code",
      "execution_count": 16,
      "metadata": {
        "trusted": true
      },
      "outputs": [
        {
          "name": "stdout",
          "output_type": "stream",
          "text": [
            "False\n",
            "True\n",
            "False\n"
          ]
        }
      ],
      "source": [
        "curso = \"Curso de Python\"  ## str\n",
        "frutas = [\"laranja\", \"uva\", \"limão\"] # list str\n",
        "saques = [1500, 100] #list int\n",
        "\n",
        "print(\"python\" in curso)\n",
        "print(\"maçã\" not in frutas)\n",
        "print(200 in saques)"
      ]
    }
  ],
  "metadata": {
    "kernelspec": {
      "display_name": "Python (Pyodide)",
      "language": "python",
      "name": "python"
    },
    "language_info": {
      "codemirror_mode": {
        "name": "python",
        "version": 3
      },
      "file_extension": ".py",
      "mimetype": "text/x-python",
      "name": "python",
      "nbconvert_exporter": "python",
      "pygments_lexer": "ipython3",
      "version": "3.8"
    }
  },
  "nbformat": 4,
  "nbformat_minor": 4
}
