{
  "nbformat": 4,
  "nbformat_minor": 0,
  "metadata": {
    "colab": {
      "provenance": []
    },
    "kernelspec": {
      "name": "python3",
      "display_name": "Python 3"
    },
    "language_info": {
      "name": "python"
    }
  },
  "cells": [
    {
      "cell_type": "markdown",
      "source": [
        "Aula de Python -- YOUTUBE"
      ],
      "metadata": {
        "id": "gvlqOXHDatDv"
      }
    },
    {
      "cell_type": "markdown",
      "source": [
        "**Declaração de Variável**"
      ],
      "metadata": {
        "id": "4feKmEoXZS33"
      }
    },
    {
      "cell_type": "code",
      "execution_count": null,
      "metadata": {
        "id": "ViZVatNOVLqX"
      },
      "outputs": [],
      "source": [
        "nome_da_variavel = 'valor'"
      ]
    },
    {
      "cell_type": "code",
      "source": [
        "nome_da_variavel"
      ],
      "metadata": {
        "colab": {
          "base_uri": "https://localhost:8080/",
          "height": 35
        },
        "id": "FJ6iFIZMZgHo",
        "outputId": "92a3ade3-b581-4689-a5c8-44910335b85a"
      },
      "execution_count": null,
      "outputs": [
        {
          "output_type": "execute_result",
          "data": {
            "text/plain": [
              "'valor'"
            ],
            "application/vnd.google.colaboratory.intrinsic+json": {
              "type": "string"
            }
          },
          "metadata": {},
          "execution_count": 2
        }
      ]
    },
    {
      "cell_type": "markdown",
      "source": [
        "--> Variaveis não precisam ser decladadas com nenhum tipo especifico e podem ser mudados os tipos apois terem sido declarados."
      ],
      "metadata": {
        "id": "gOlEkGAZaYdd"
      }
    },
    {
      "cell_type": "code",
      "source": [
        "x = 100  ## x é tipo int\n",
        "print(x)"
      ],
      "metadata": {
        "colab": {
          "base_uri": "https://localhost:8080/"
        },
        "id": "L9KFfbPIalLL",
        "outputId": "9d865583-016d-4467-a10b-bdfc61bf65c9"
      },
      "execution_count": null,
      "outputs": [
        {
          "output_type": "stream",
          "name": "stdout",
          "text": [
            "100\n"
          ]
        }
      ]
    },
    {
      "cell_type": "code",
      "source": [
        "type(x)  ## 'type' pergunta qual é o tipo da variavel declarada"
      ],
      "metadata": {
        "colab": {
          "base_uri": "https://localhost:8080/"
        },
        "id": "6JlSJktdavjw",
        "outputId": "f5fd9412-3b31-4df4-c46c-1af9f3291dac"
      },
      "execution_count": null,
      "outputs": [
        {
          "output_type": "execute_result",
          "data": {
            "text/plain": [
              "int"
            ]
          },
          "metadata": {},
          "execution_count": 4
        }
      ]
    },
    {
      "cell_type": "code",
      "source": [
        "x = 'algém'  ## x é do tipo string or str\n",
        "print(x)"
      ],
      "metadata": {
        "colab": {
          "base_uri": "https://localhost:8080/"
        },
        "id": "UUDky-T2a51x",
        "outputId": "0acf093d-64f8-474f-b8cf-26d02d7d2365"
      },
      "execution_count": null,
      "outputs": [
        {
          "output_type": "stream",
          "name": "stdout",
          "text": [
            "algém\n"
          ]
        }
      ]
    },
    {
      "cell_type": "code",
      "source": [
        "type(x)"
      ],
      "metadata": {
        "colab": {
          "base_uri": "https://localhost:8080/"
        },
        "id": "5OagxAHtbE_n",
        "outputId": "4e25e0cb-7cbd-4f02-ff3f-1ecb129caacd"
      },
      "execution_count": null,
      "outputs": [
        {
          "output_type": "execute_result",
          "data": {
            "text/plain": [
              "str"
            ]
          },
          "metadata": {},
          "execution_count": 6
        }
      ]
    },
    {
      "cell_type": "markdown",
      "source": [
        "--> Veriaveis de Strings podem ser decladas com aspas ' ' ou \" \""
      ],
      "metadata": {
        "id": "jco9r6mqbZML"
      }
    },
    {
      "cell_type": "markdown",
      "source": [
        " Nomes de Variáveis:\n",
        "- Deve começar com uma letra ou caratere sublinhado\n",
        "** Não pode começar com número**\n",
        "- Pode conter apenas caracateres alfanumericos e sublinhados\n",
        "- Diferenciam maiúculas de minusculas"
      ],
      "metadata": {
        "id": "QX8OkUtCbmkW"
      }
    },
    {
      "cell_type": "code",
      "source": [
        "%who  ## mostra todas as variaveis que você criou até agr"
      ],
      "metadata": {
        "colab": {
          "base_uri": "https://localhost:8080/"
        },
        "id": "cdxiaJsbcWXn",
        "outputId": "d6c52c04-069f-45a3-a09c-eb5fa8c08553"
      },
      "execution_count": null,
      "outputs": [
        {
          "output_type": "stream",
          "name": "stdout",
          "text": [
            "No variables match your requested type.\n"
          ]
        }
      ]
    },
    {
      "cell_type": "markdown",
      "source": [
        "**Atribuição de valor**\n",
        "- Python permite atribuição de valores e várias variáveis em uma linha"
      ],
      "metadata": {
        "id": "VkORTYrVe07I"
      }
    },
    {
      "cell_type": "code",
      "source": [
        "regiaoN, regiaoS, regiaoCO = 'Norte', 'Sul', 'Centro-oeste'\n",
        "\n",
        "print(regiaoN, regiaoS, regiaoCO)\n",
        "# or\n",
        "print(regiaoN)\n",
        "print(regiaoS)\n",
        "print(regiaoCO)"
      ],
      "metadata": {
        "colab": {
          "base_uri": "https://localhost:8080/"
        },
        "id": "s65azZU0fDy_",
        "outputId": "e05b914f-521e-45fe-a4b1-25be8b15dee6"
      },
      "execution_count": null,
      "outputs": [
        {
          "output_type": "stream",
          "name": "stdout",
          "text": [
            "Norte Sul Centro-oeste\n",
            "Norte\n",
            "Sul\n",
            "Centro-oeste\n"
          ]
        }
      ]
    },
    {
      "cell_type": "code",
      "source": [
        "def lista3regioes():    ## função def para retornar uma lista com 3 regioes\n",
        "  return 'Norte1', 'Sul1', 'Centro-Oeste1'"
      ],
      "metadata": {
        "id": "Ja_A497ni5Aa"
      },
      "execution_count": null,
      "outputs": []
    },
    {
      "cell_type": "code",
      "source": [
        "regiaoN, regiaoS, regiaoCO = lista3regioes()"
      ],
      "metadata": {
        "id": "FEekvnpyjIW4"
      },
      "execution_count": null,
      "outputs": []
    },
    {
      "cell_type": "code",
      "source": [
        "print(regiaoN, regiaoS, regiaoCO)"
      ],
      "metadata": {
        "colab": {
          "base_uri": "https://localhost:8080/"
        },
        "id": "f4I3BW-Ojf9s",
        "outputId": "414ca670-e664-4392-e715-036c21b2b7c6"
      },
      "execution_count": null,
      "outputs": [
        {
          "output_type": "stream",
          "name": "stdout",
          "text": [
            "Norte1 Sul1 Centro-Oeste1\n"
          ]
        }
      ]
    },
    {
      "cell_type": "markdown",
      "source": [
        "**Tipo de dados Python**\n",
        "\n",
        "- Texto > str\n",
        "- Numericos > int, float, complex\n",
        "- Sequência > list, tuple, range\n",
        "- Mapeamento > dict\n",
        "- Conjuntos > set, frozenset\n",
        "- Booleano > bool\n",
        "- Binários > bytes, bytearray, mamoryview"
      ],
      "metadata": {
        "id": "6N1mXLoNjziR"
      }
    },
    {
      "cell_type": "code",
      "source": [
        "var = 'Centro-Oeste' ## str\n",
        "print(type(var))"
      ],
      "metadata": {
        "colab": {
          "base_uri": "https://localhost:8080/"
        },
        "id": "a6lP328koCZE",
        "outputId": "0623e401-209b-4cf6-9d56-ff1d4853bf2c"
      },
      "execution_count": null,
      "outputs": [
        {
          "output_type": "stream",
          "name": "stdout",
          "text": [
            "<class 'str'>\n"
          ]
        }
      ]
    },
    {
      "cell_type": "code",
      "source": [
        "var = 652       ## int\n",
        "print(type(var))"
      ],
      "metadata": {
        "colab": {
          "base_uri": "https://localhost:8080/"
        },
        "id": "ei-AqDfIoo9n",
        "outputId": "24d4e800-48fe-42f0-bfd0-2e56d6cc135c"
      },
      "execution_count": null,
      "outputs": [
        {
          "output_type": "stream",
          "name": "stdout",
          "text": [
            "<class 'int'>\n"
          ]
        }
      ]
    },
    {
      "cell_type": "code",
      "source": [
        "var = 640.4    ## float\n",
        "print(type(var))"
      ],
      "metadata": {
        "colab": {
          "base_uri": "https://localhost:8080/"
        },
        "id": "7jmbd2Q4osOp",
        "outputId": "069133ff-74a8-4ec1-8781-dedea9de6fab"
      },
      "execution_count": null,
      "outputs": [
        {
          "output_type": "stream",
          "name": "stdout",
          "text": [
            "<class 'float'>\n"
          ]
        }
      ]
    },
    {
      "cell_type": "code",
      "source": [
        "var = 5j       ## complex\n",
        "print(type(var))"
      ],
      "metadata": {
        "colab": {
          "base_uri": "https://localhost:8080/"
        },
        "id": "YREK9ZNzoyNo",
        "outputId": "ea22f976-d682-4521-d3b1-eaa142d54ed9"
      },
      "execution_count": null,
      "outputs": [
        {
          "output_type": "stream",
          "name": "stdout",
          "text": [
            "<class 'complex'>\n"
          ]
        }
      ]
    },
    {
      "cell_type": "code",
      "source": [
        "var = [ 'Norte', 'Sul', 'Centro-Oeste']  ## os [ ] -> list\n",
        "print(type(var))"
      ],
      "metadata": {
        "colab": {
          "base_uri": "https://localhost:8080/"
        },
        "id": "yY4SzBBno649",
        "outputId": "2bc8b0aa-c8f6-4600-9431-133fac8abc59"
      },
      "execution_count": null,
      "outputs": [
        {
          "output_type": "stream",
          "name": "stdout",
          "text": [
            "<class 'list'>\n"
          ]
        }
      ]
    },
    {
      "cell_type": "code",
      "source": [
        "var = ('Norte', 'Sul', 'Centro-Oeste')  ## ( ) -> tuple\n",
        "print(type(var))"
      ],
      "metadata": {
        "colab": {
          "base_uri": "https://localhost:8080/"
        },
        "id": "OpU6aqz-pJ7A",
        "outputId": "ee48aa96-9690-44cc-d15f-ec0ee3afd478"
      },
      "execution_count": null,
      "outputs": [
        {
          "output_type": "stream",
          "name": "stdout",
          "text": [
            "<class 'tuple'>\n"
          ]
        }
      ]
    },
    {
      "cell_type": "code",
      "source": [
        "var = range(50)  ## usado quando vamos fazer lups\n",
        "print(type(var))"
      ],
      "metadata": {
        "colab": {
          "base_uri": "https://localhost:8080/"
        },
        "id": "rQr9Xf3QpYEK",
        "outputId": "b283c4cc-fc75-424f-9952-62bc2006472e"
      },
      "execution_count": null,
      "outputs": [
        {
          "output_type": "stream",
          "name": "stdout",
          "text": [
            "<class 'range'>\n"
          ]
        }
      ]
    },
    {
      "cell_type": "code",
      "source": [
        "var = {'nome' : 'Nordeste', 'sigla': 'N'}  ## {:} -> dict -> dicionario -- um nome | chave | valor -- uma estrutura de dados\n",
        "print(type(var))"
      ],
      "metadata": {
        "colab": {
          "base_uri": "https://localhost:8080/"
        },
        "id": "Yf1ombzxpwI8",
        "outputId": "329bd75c-4a40-4b03-e03f-f7e0acbb5bca"
      },
      "execution_count": null,
      "outputs": [
        {
          "output_type": "stream",
          "name": "stdout",
          "text": [
            "<class 'dict'>\n"
          ]
        }
      ]
    },
    {
      "cell_type": "code",
      "source": [
        "var = {'Norte', 'Sul', 'Centro-Oeste'}  ## { } -> set (1) para saida logica -> um conjunto | não tem a função de rest (0) para saida\n",
        "print(type(var))"
      ],
      "metadata": {
        "colab": {
          "base_uri": "https://localhost:8080/"
        },
        "id": "n8gZWl_tpSRU",
        "outputId": "93bd9f35-edd0-4b86-d307-2371b6251c9f"
      },
      "execution_count": null,
      "outputs": [
        {
          "output_type": "stream",
          "name": "stdout",
          "text": [
            "<class 'set'>\n"
          ]
        }
      ]
    },
    {
      "cell_type": "code",
      "source": [
        "var = frozenset ({'Norte', 'Sul', 'Nardeste', 'Sudeste', 'Centro-Oeste'})  ##  ({ }) -> cria um resxe - pode usar ele para uma identidade, um objeto para uma chave, um dicionario\n",
        "print(type(var))"
      ],
      "metadata": {
        "colab": {
          "base_uri": "https://localhost:8080/"
        },
        "id": "HSzfxi8eq722",
        "outputId": "2fc7fc06-3331-4f10-dc53-1e7030f77c38"
      },
      "execution_count": null,
      "outputs": [
        {
          "output_type": "stream",
          "name": "stdout",
          "text": [
            "<class 'frozenset'>\n"
          ]
        }
      ]
    },
    {
      "cell_type": "code",
      "source": [
        "var = True    ## verdadeiro\n",
        "print(type(var))"
      ],
      "metadata": {
        "colab": {
          "base_uri": "https://localhost:8080/"
        },
        "id": "CkK2kZJnuIgp",
        "outputId": "4ce034a5-7044-45ec-b800-1b31d69686de"
      },
      "execution_count": null,
      "outputs": [
        {
          "output_type": "stream",
          "name": "stdout",
          "text": [
            "<class 'bool'>\n"
          ]
        }
      ]
    },
    {
      "cell_type": "code",
      "source": [
        "var = b'Jose da Silva'  ## armazenar em formato binario\n",
        "print(type(var))"
      ],
      "metadata": {
        "colab": {
          "base_uri": "https://localhost:8080/"
        },
        "id": "_DrTQbKLuUMR",
        "outputId": "56c48fdb-2f13-4ed9-857c-153a8d49b5fc"
      },
      "execution_count": null,
      "outputs": [
        {
          "output_type": "stream",
          "name": "stdout",
          "text": [
            "<class 'bytes'>\n"
          ]
        }
      ]
    },
    {
      "cell_type": "code",
      "source": [
        "var = bytearray(5)\n",
        "print(type(var))"
      ],
      "metadata": {
        "colab": {
          "base_uri": "https://localhost:8080/"
        },
        "id": "_OFRIrXXup_K",
        "outputId": "a86af033-6df1-4d06-a299-f683cc2d2578"
      },
      "execution_count": null,
      "outputs": [
        {
          "output_type": "stream",
          "name": "stdout",
          "text": [
            "<class 'bytearray'>\n"
          ]
        }
      ]
    },
    {
      "cell_type": "markdown",
      "source": [
        "**Informando para o Python o tipo da variável na sua declaração: configurando o tipo de dado específico**\n",
        "\n",
        "Se você deseja especificar o tipo de dados, pode usar as seguintes funções de construtor:"
      ],
      "metadata": {
        "id": "4G20LLSuvDmw"
      }
    },
    {
      "cell_type": "code",
      "source": [
        "var = str('Centro-Oeste')     ## Ex.:\n",
        "print(type(var))"
      ],
      "metadata": {
        "colab": {
          "base_uri": "https://localhost:8080/"
        },
        "id": "3_t28XGUvCRt",
        "outputId": "79912dfd-402c-4695-bea5-451e678355e5"
      },
      "execution_count": null,
      "outputs": [
        {
          "output_type": "stream",
          "name": "stdout",
          "text": [
            "<class 'str'>\n"
          ]
        }
      ]
    },
    {
      "cell_type": "markdown",
      "source": [
        "**Srings são Arrays de Caracteres**\n",
        "\n",
        "Como no Python não tem um tipo de dados de caracteres, um caractere é na verdade uma strig com tamanho 1"
      ],
      "metadata": {
        "id": "O4kMgRVMuf3k"
      }
    },
    {
      "cell_type": "code",
      "source": [
        "letra = 'a'"
      ],
      "metadata": {
        "id": "VkacxdJou0hJ"
      },
      "execution_count": null,
      "outputs": []
    },
    {
      "cell_type": "code",
      "source": [
        "nome = 'Jose'\n",
        "nome [0]"
      ],
      "metadata": {
        "colab": {
          "base_uri": "https://localhost:8080/",
          "height": 35
        },
        "id": "lirW5xVEve-D",
        "outputId": "c8d748f2-6be2-4b80-f995-67fb66ad2637"
      },
      "execution_count": null,
      "outputs": [
        {
          "output_type": "execute_result",
          "data": {
            "text/plain": [
              "'J'"
            ],
            "application/vnd.google.colaboratory.intrinsic+json": {
              "type": "string"
            }
          },
          "metadata": {},
          "execution_count": 2
        }
      ]
    },
    {
      "cell_type": "code",
      "source": [
        "lista = 'oi como você vai maroa? vou bem =, e você jose?'\n",
        "print(lista[2:7])\n",
        "## recortar uma lista"
      ],
      "metadata": {
        "colab": {
          "base_uri": "https://localhost:8080/"
        },
        "id": "WnnhBCCRv9GD",
        "outputId": "8c225cc2-8c9b-44e0-948f-c7ac1c98569d"
      },
      "execution_count": null,
      "outputs": [
        {
          "output_type": "stream",
          "name": "stdout",
          "text": [
            " como\n"
          ]
        }
      ]
    },
    {
      "cell_type": "markdown",
      "source": [
        "números positivos ex.: [12:19]você ta partindo do 0 pra frente.\n",
        "números negativos ex.: [-10: -5] ele vai pegar o tamanho da sting e vai ler ela de trais pra frente"
      ],
      "metadata": {
        "id": "ussjgQPqvZrm"
      }
    },
    {
      "cell_type": "code",
      "source": [
        "lista = 'oi como você vai maria? vou bem, e você jose?'\n",
        "print(lista[-10:-1])"
      ],
      "metadata": {
        "colab": {
          "base_uri": "https://localhost:8080/"
        },
        "id": "Cd-IKHAuxcHH",
        "outputId": "6ca18d7b-5d9f-438e-8049-d3c3b1e90edd"
      },
      "execution_count": null,
      "outputs": [
        {
          "output_type": "stream",
          "name": "stdout",
          "text": [
            "você jose\n"
          ]
        }
      ]
    },
    {
      "cell_type": "markdown",
      "source": [
        "de um ponto pra frente -"
      ],
      "metadata": {
        "id": "ko1-2_OSxzFY"
      }
    },
    {
      "cell_type": "code",
      "source": [
        "data = '2023-30-08'"
      ],
      "metadata": {
        "id": "3VA4Oxxcx2ad"
      },
      "execution_count": null,
      "outputs": []
    },
    {
      "cell_type": "code",
      "source": [
        "print(data[8:10])"
      ],
      "metadata": {
        "colab": {
          "base_uri": "https://localhost:8080/"
        },
        "id": "uv-p6ZJZxyw7",
        "outputId": "13317866-d80c-42f3-dda4-1107534e77e8"
      },
      "execution_count": null,
      "outputs": [
        {
          "output_type": "stream",
          "name": "stdout",
          "text": [
            "08\n"
          ]
        }
      ]
    },
    {
      "cell_type": "code",
      "source": [
        "print(data[-2:])"
      ],
      "metadata": {
        "colab": {
          "base_uri": "https://localhost:8080/"
        },
        "id": "sY3RSMGxyOcc",
        "outputId": "50d18b82-8722-49f5-e470-b566fac25156"
      },
      "execution_count": null,
      "outputs": [
        {
          "output_type": "stream",
          "name": "stdout",
          "text": [
            "08\n"
          ]
        }
      ]
    },
    {
      "cell_type": "code",
      "source": [
        "print(data[8:])"
      ],
      "metadata": {
        "colab": {
          "base_uri": "https://localhost:8080/"
        },
        "id": "HwO3_8aNyK8N",
        "outputId": "0f6507fc-7de4-43f6-a9b6-f6d564ae66c3"
      },
      "execution_count": null,
      "outputs": [
        {
          "output_type": "stream",
          "name": "stdout",
          "text": [
            "08\n"
          ]
        }
      ]
    },
    {
      "cell_type": "markdown",
      "source": [
        "**Como saber a comprimeto da Sting**\n",
        "\n",
        "use a função len()"
      ],
      "metadata": {
        "id": "OLCZGfrAyc3N"
      }
    },
    {
      "cell_type": "code",
      "source": [
        "len(lista)"
      ],
      "metadata": {
        "colab": {
          "base_uri": "https://localhost:8080/"
        },
        "id": "jqydnSu4ypKD",
        "outputId": "9bc8cc74-5ab3-4545-8b17-88392f358951"
      },
      "execution_count": null,
      "outputs": [
        {
          "output_type": "execute_result",
          "data": {
            "text/plain": [
              "47"
            ]
          },
          "metadata": {},
          "execution_count": 14
        }
      ]
    },
    {
      "cell_type": "markdown",
      "source": [
        "**Quais são os métodos / operações de uma Sting**\n",
        "\n",
        "Python tem várias métodos disponíveis para o uso com strings"
      ],
      "metadata": {
        "id": "AdPDJGEpz2Q3"
      }
    },
    {
      "cell_type": "markdown",
      "source": [
        "Metodos de alinhamento"
      ],
      "metadata": {
        "id": "M4vwMnTD1eak"
      }
    },
    {
      "cell_type": "code",
      "source": [
        "var = 'e agora jose?'\n",
        "var.center(50)  ## oouuu"
      ],
      "metadata": {
        "colab": {
          "base_uri": "https://localhost:8080/",
          "height": 35
        },
        "id": "qCMcNBs_12XH",
        "outputId": "d596105b-0b71-469f-9ceb-2fd170a1cd75"
      },
      "execution_count": null,
      "outputs": [
        {
          "output_type": "execute_result",
          "data": {
            "text/plain": [
              "'                  e agora jose?                   '"
            ],
            "application/vnd.google.colaboratory.intrinsic+json": {
              "type": "string"
            }
          },
          "metadata": {},
          "execution_count": 19
        }
      ]
    },
    {
      "cell_type": "code",
      "source": [
        "'e agora jose?'.center(50)  ## concatena no centro"
      ],
      "metadata": {
        "colab": {
          "base_uri": "https://localhost:8080/",
          "height": 35
        },
        "id": "cNiK0HN_0EYJ",
        "outputId": "165f0d4b-7c20-4349-89b1-d7b9b9934c67"
      },
      "execution_count": null,
      "outputs": [
        {
          "output_type": "execute_result",
          "data": {
            "text/plain": [
              "'                  e agora jose?                   '"
            ],
            "application/vnd.google.colaboratory.intrinsic+json": {
              "type": "string"
            }
          },
          "metadata": {},
          "execution_count": 15
        }
      ]
    },
    {
      "cell_type": "code",
      "source": [
        "'e agora jose?'.ljust(50) ## alinha a esquerda"
      ],
      "metadata": {
        "colab": {
          "base_uri": "https://localhost:8080/",
          "height": 35
        },
        "id": "LA3xjDaK1pOp",
        "outputId": "28b3ce6b-0940-47ac-efdc-407111935dce"
      },
      "execution_count": null,
      "outputs": [
        {
          "output_type": "execute_result",
          "data": {
            "text/plain": [
              "'e agora jose?                                     '"
            ],
            "application/vnd.google.colaboratory.intrinsic+json": {
              "type": "string"
            }
          },
          "metadata": {},
          "execution_count": 21
        }
      ]
    },
    {
      "cell_type": "code",
      "source": [
        "'e agora jose?'.rjust(50)  ## alinhar a direita"
      ],
      "metadata": {
        "colab": {
          "base_uri": "https://localhost:8080/",
          "height": 35
        },
        "id": "PCqt5_GI1uEc",
        "outputId": "0fc5aab0-2d77-4896-bd79-3769d872517f"
      },
      "execution_count": null,
      "outputs": [
        {
          "output_type": "execute_result",
          "data": {
            "text/plain": [
              "'                                     e agora jose?'"
            ],
            "application/vnd.google.colaboratory.intrinsic+json": {
              "type": "string"
            }
          },
          "metadata": {},
          "execution_count": 17
        }
      ]
    },
    {
      "cell_type": "code",
      "source": [
        "'e agora jose?'.zfill(40)  ## preencher com 0"
      ],
      "metadata": {
        "colab": {
          "base_uri": "https://localhost:8080/",
          "height": 35
        },
        "id": "hqSBMPZC2BgN",
        "outputId": "2ce48c12-431f-4f32-c3e2-30b6a7703671"
      },
      "execution_count": null,
      "outputs": [
        {
          "output_type": "execute_result",
          "data": {
            "text/plain": [
              "'000000000000000000000000000e agora jose?'"
            ],
            "application/vnd.google.colaboratory.intrinsic+json": {
              "type": "string"
            }
          },
          "metadata": {},
          "execution_count": 22
        }
      ]
    },
    {
      "cell_type": "code",
      "source": [
        "'254'.zfill(5)"
      ],
      "metadata": {
        "colab": {
          "base_uri": "https://localhost:8080/",
          "height": 35
        },
        "id": "c3TOzxoo2cnD",
        "outputId": "d11fef57-b61d-4fa6-c072-531639798384"
      },
      "execution_count": null,
      "outputs": [
        {
          "output_type": "execute_result",
          "data": {
            "text/plain": [
              "'00254'"
            ],
            "application/vnd.google.colaboratory.intrinsic+json": {
              "type": "string"
            }
          },
          "metadata": {},
          "execution_count": 24
        }
      ]
    },
    {
      "cell_type": "markdown",
      "source": [
        "**Método de checagem e alteração de caixa**"
      ],
      "metadata": {
        "id": "gs9StgUG2kAs"
      }
    },
    {
      "cell_type": "code",
      "source": [
        "'e agora jose?'.capitalize()  ## por a primeira letra em maiusculo"
      ],
      "metadata": {
        "colab": {
          "base_uri": "https://localhost:8080/",
          "height": 35
        },
        "id": "5R5qwaei2q4z",
        "outputId": "40ce07b6-f9c2-4388-c129-f794233fb3ca"
      },
      "execution_count": null,
      "outputs": [
        {
          "output_type": "execute_result",
          "data": {
            "text/plain": [
              "'E agora jose?'"
            ],
            "application/vnd.google.colaboratory.intrinsic+json": {
              "type": "string"
            }
          },
          "metadata": {},
          "execution_count": 26
        }
      ]
    },
    {
      "cell_type": "code",
      "source": [
        "'E AGORA JOSE?'.casefold() ## tranformar tudo em minusculo"
      ],
      "metadata": {
        "colab": {
          "base_uri": "https://localhost:8080/",
          "height": 35
        },
        "id": "b42HSycJ22PT",
        "outputId": "ede003a9-ed53-4a02-cd93-d610b1f70225"
      },
      "execution_count": null,
      "outputs": [
        {
          "output_type": "execute_result",
          "data": {
            "text/plain": [
              "'e agora jose?'"
            ],
            "application/vnd.google.colaboratory.intrinsic+json": {
              "type": "string"
            }
          },
          "metadata": {},
          "execution_count": 27
        }
      ]
    },
    {
      "cell_type": "code",
      "source": [
        "'e agora\\t jose?'.expandtabs(10) ## dar espaçamento que você declarar"
      ],
      "metadata": {
        "colab": {
          "base_uri": "https://localhost:8080/",
          "height": 35
        },
        "id": "_6famwXh281p",
        "outputId": "4b58a557-2bcd-471f-eb61-04a9f5f89ed9"
      },
      "execution_count": null,
      "outputs": [
        {
          "output_type": "execute_result",
          "data": {
            "text/plain": [
              "'e agora    jose?'"
            ],
            "application/vnd.google.colaboratory.intrinsic+json": {
              "type": "string"
            }
          },
          "metadata": {},
          "execution_count": 29
        }
      ]
    },
    {
      "cell_type": "code",
      "source": [
        "'e agora jose?'.islower() ## checar se ta tudo minsucilo"
      ],
      "metadata": {
        "colab": {
          "base_uri": "https://localhost:8080/"
        },
        "id": "aLcSHNk43HPP",
        "outputId": "fe45f828-e120-460a-9b44-80e6d28608ea"
      },
      "execution_count": null,
      "outputs": [
        {
          "output_type": "execute_result",
          "data": {
            "text/plain": [
              "True"
            ]
          },
          "metadata": {},
          "execution_count": 31
        }
      ]
    },
    {
      "cell_type": "code",
      "source": [
        "'E agora jose?'.islower() ## checar se ta tudo maisculo"
      ],
      "metadata": {
        "colab": {
          "base_uri": "https://localhost:8080/"
        },
        "id": "BOo2dmh53Sdv",
        "outputId": "cb66a030-ea53-4e51-b05d-86f63d676ff4"
      },
      "execution_count": null,
      "outputs": [
        {
          "output_type": "execute_result",
          "data": {
            "text/plain": [
              "False"
            ]
          },
          "metadata": {},
          "execution_count": 32
        }
      ]
    },
    {
      "cell_type": "code",
      "source": [
        "'e agora jose?'.istitle() # se é um titulo - se aprimeira letra de cada palavra está maiuscula"
      ],
      "metadata": {
        "colab": {
          "base_uri": "https://localhost:8080/"
        },
        "id": "-oJ8oBNm3XEh",
        "outputId": "a9032a16-ddfd-4f87-d316-4e82f3b33088"
      },
      "execution_count": null,
      "outputs": [
        {
          "output_type": "execute_result",
          "data": {
            "text/plain": [
              "False"
            ]
          },
          "metadata": {},
          "execution_count": 33
        }
      ]
    },
    {
      "cell_type": "code",
      "source": [
        "'E Agora Jose?'.istitle()"
      ],
      "metadata": {
        "colab": {
          "base_uri": "https://localhost:8080/"
        },
        "id": "34zmSvdg3dVs",
        "outputId": "bfa18174-87dc-45e9-cae8-e0c4ee29946f"
      },
      "execution_count": null,
      "outputs": [
        {
          "output_type": "execute_result",
          "data": {
            "text/plain": [
              "True"
            ]
          },
          "metadata": {},
          "execution_count": 34
        }
      ]
    },
    {
      "cell_type": "code",
      "source": [
        "'e agora jose?'.swapcase() ## ele vai inverter se a letra estiver minuscula ele vai tranformar em maiuscula"
      ],
      "metadata": {
        "colab": {
          "base_uri": "https://localhost:8080/",
          "height": 35
        },
        "id": "V-MiAoki4j6H",
        "outputId": "89b73f2f-a1fc-4bce-badd-2d05cc924eae"
      },
      "execution_count": null,
      "outputs": [
        {
          "output_type": "execute_result",
          "data": {
            "text/plain": [
              "'E AGORA JOSE?'"
            ],
            "application/vnd.google.colaboratory.intrinsic+json": {
              "type": "string"
            }
          },
          "metadata": {},
          "execution_count": 35
        }
      ]
    },
    {
      "cell_type": "code",
      "source": [
        "'e agora jose?'.title()"
      ],
      "metadata": {
        "colab": {
          "base_uri": "https://localhost:8080/",
          "height": 35
        },
        "id": "BepCsvmb431h",
        "outputId": "116263f3-1f0a-498d-e7fc-e7152f2c18cc"
      },
      "execution_count": null,
      "outputs": [
        {
          "output_type": "execute_result",
          "data": {
            "text/plain": [
              "'E Agora Jose?'"
            ],
            "application/vnd.google.colaboratory.intrinsic+json": {
              "type": "string"
            }
          },
          "metadata": {},
          "execution_count": 37
        }
      ]
    },
    {
      "cell_type": "code",
      "source": [
        "'e agora jose?'.upper() #retornar tudo maiusculo"
      ],
      "metadata": {
        "colab": {
          "base_uri": "https://localhost:8080/",
          "height": 35
        },
        "id": "IR_6jJrJ45m1",
        "outputId": "bcb9c36a-518c-4adb-c1e4-92107efd11fd"
      },
      "execution_count": null,
      "outputs": [
        {
          "output_type": "execute_result",
          "data": {
            "text/plain": [
              "'E AGORA JOSE?'"
            ],
            "application/vnd.google.colaboratory.intrinsic+json": {
              "type": "string"
            }
          },
          "metadata": {},
          "execution_count": 38
        }
      ]
    },
    {
      "cell_type": "code",
      "source": [
        "'E AGORA JOSE?'.lower() #retornar tudo minusculo"
      ],
      "metadata": {
        "colab": {
          "base_uri": "https://localhost:8080/",
          "height": 36
        },
        "id": "6YDmcUzEXThp",
        "outputId": "99f03f9c-1443-4ff0-f5b3-f4f757c31799"
      },
      "execution_count": 2,
      "outputs": [
        {
          "output_type": "execute_result",
          "data": {
            "text/plain": [
              "'e agora jose?'"
            ],
            "application/vnd.google.colaboratory.intrinsic+json": {
              "type": "string"
            }
          },
          "metadata": {},
          "execution_count": 2
        }
      ]
    },
    {
      "cell_type": "code",
      "source": [
        "'e agora josé?'.encode()"
      ],
      "metadata": {
        "colab": {
          "base_uri": "https://localhost:8080/"
        },
        "id": "YIPlaQds4_Yt",
        "outputId": "381edb70-615a-4b5f-b614-2962f6c7b0e8"
      },
      "execution_count": null,
      "outputs": [
        {
          "output_type": "execute_result",
          "data": {
            "text/plain": [
              "b'e agora jos\\xc3\\xa9?'"
            ]
          },
          "metadata": {},
          "execution_count": 39
        }
      ]
    },
    {
      "cell_type": "markdown",
      "source": [
        "**Método de limpeza de string**"
      ],
      "metadata": {
        "id": "jY389xvY5JBU"
      }
    },
    {
      "cell_type": "code",
      "source": [
        "'    e agora jose?    '.lstrip() #limpar no que está no inicio"
      ],
      "metadata": {
        "colab": {
          "base_uri": "https://localhost:8080/",
          "height": 35
        },
        "id": "6jyBFb3z5Nqt",
        "outputId": "b1cc3bf6-4626-4eda-a16c-c910c5b94325"
      },
      "execution_count": null,
      "outputs": [
        {
          "output_type": "execute_result",
          "data": {
            "text/plain": [
              "'e agora jose?    '"
            ],
            "application/vnd.google.colaboratory.intrinsic+json": {
              "type": "string"
            }
          },
          "metadata": {},
          "execution_count": 40
        }
      ]
    },
    {
      "cell_type": "code",
      "source": [
        "'     e agora jose?   '.rstrip() #limpar no que está no final"
      ],
      "metadata": {
        "colab": {
          "base_uri": "https://localhost:8080/",
          "height": 35
        },
        "id": "N7D61-Nt5dVt",
        "outputId": "b7dcd1a1-f9b7-4304-f13a-60002de933c6"
      },
      "execution_count": null,
      "outputs": [
        {
          "output_type": "execute_result",
          "data": {
            "text/plain": [
              "'     e agora jose?'"
            ],
            "application/vnd.google.colaboratory.intrinsic+json": {
              "type": "string"
            }
          },
          "metadata": {},
          "execution_count": 41
        }
      ]
    },
    {
      "cell_type": "code",
      "source": [
        "'     e agora jose?   '.strip() #limpar tudo"
      ],
      "metadata": {
        "colab": {
          "base_uri": "https://localhost:8080/",
          "height": 35
        },
        "id": "Lyo4rqn15jFQ",
        "outputId": "a7ca25f6-45f2-4324-d615-73dc4401f04d"
      },
      "execution_count": null,
      "outputs": [
        {
          "output_type": "execute_result",
          "data": {
            "text/plain": [
              "'e agora jose?'"
            ],
            "application/vnd.google.colaboratory.intrinsic+json": {
              "type": "string"
            }
          },
          "metadata": {},
          "execution_count": 42
        }
      ]
    },
    {
      "cell_type": "markdown",
      "source": [
        "**Métodos de substituição de partes da sting**"
      ],
      "metadata": {
        "id": "ULVGozDe63yr"
      }
    },
    {
      "cell_type": "code",
      "source": [
        "'e agora jose?'.replace('jose', 'João') ## torcar pares"
      ],
      "metadata": {
        "colab": {
          "base_uri": "https://localhost:8080/",
          "height": 35
        },
        "id": "-1Tv7PVQ5qN5",
        "outputId": "809078c9-ebeb-4a5e-e7b8-cf492085b966"
      },
      "execution_count": null,
      "outputs": [
        {
          "output_type": "execute_result",
          "data": {
            "text/plain": [
              "'e agora João?'"
            ],
            "application/vnd.google.colaboratory.intrinsic+json": {
              "type": "string"
            }
          },
          "metadata": {},
          "execution_count": 43
        }
      ]
    },
    {
      "cell_type": "code",
      "source": [
        "'e ;.,..; jose'.replace(';.,..;', '') #pode ser usado para limpa no meio da stinq e"
      ],
      "metadata": {
        "colab": {
          "base_uri": "https://localhost:8080/",
          "height": 35
        },
        "id": "QL6kJ2FO8Kq9",
        "outputId": "8059c395-be57-46b0-d04c-a791650fab2a"
      },
      "execution_count": null,
      "outputs": [
        {
          "output_type": "execute_result",
          "data": {
            "text/plain": [
              "'e  jose'"
            ],
            "application/vnd.google.colaboratory.intrinsic+json": {
              "type": "string"
            }
          },
          "metadata": {},
          "execution_count": 45
        }
      ]
    },
    {
      "cell_type": "code",
      "source": [
        "trantab = 'e agora jose?'.maketrans('aeiou', '12345') # substituição por traducção\n",
        "print(trantab)\n",
        "\n",
        "'e agora jose?'.translate(trantab)"
      ],
      "metadata": {
        "colab": {
          "base_uri": "https://localhost:8080/",
          "height": 53
        },
        "id": "TH8FHCG38jZV",
        "outputId": "ec87db02-37c5-495a-c309-7fb614542853"
      },
      "execution_count": null,
      "outputs": [
        {
          "output_type": "stream",
          "name": "stdout",
          "text": [
            "{97: 49, 101: 50, 105: 51, 111: 52, 117: 53}\n"
          ]
        },
        {
          "output_type": "execute_result",
          "data": {
            "text/plain": [
              "'2 1g4r1 j4s2?'"
            ],
            "application/vnd.google.colaboratory.intrinsic+json": {
              "type": "string"
            }
          },
          "metadata": {},
          "execution_count": 50
        }
      ]
    },
    {
      "cell_type": "markdown",
      "source": [
        "**Métodos de fariamento de strings**"
      ],
      "metadata": {
        "id": "IDG4xGZ6BWjW"
      }
    },
    {
      "cell_type": "code",
      "source": [
        "'e agora jose? e agora jose?'.split()"
      ],
      "metadata": {
        "colab": {
          "base_uri": "https://localhost:8080/"
        },
        "id": "WyX_UfemBbTF",
        "outputId": "a61e9209-f6bb-410c-a1d4-c73b1c138a75"
      },
      "execution_count": null,
      "outputs": [
        {
          "output_type": "execute_result",
          "data": {
            "text/plain": [
              "['e', 'agora', 'jose?', 'e', 'agora', 'jose?']"
            ]
          },
          "metadata": {},
          "execution_count": 51
        }
      ]
    },
    {
      "cell_type": "code",
      "source": [
        "'10,52,41,265,242'.split(',')"
      ],
      "metadata": {
        "colab": {
          "base_uri": "https://localhost:8080/"
        },
        "id": "UvuzadsgBksr",
        "outputId": "04b392bd-7271-478b-b894-fe99ca04eebf"
      },
      "execution_count": null,
      "outputs": [
        {
          "output_type": "execute_result",
          "data": {
            "text/plain": [
              "['10', '52', '41', '265', '242']"
            ]
          },
          "metadata": {},
          "execution_count": 53
        }
      ]
    },
    {
      "cell_type": "code",
      "source": [
        "'e agora jose? e agora jose?'.split(' ', 3)"
      ],
      "metadata": {
        "colab": {
          "base_uri": "https://localhost:8080/"
        },
        "id": "zBSxpceTBxCx",
        "outputId": "100382ec-707a-4cd2-e0cd-d9e9ab2fd29f"
      },
      "execution_count": null,
      "outputs": [
        {
          "output_type": "execute_result",
          "data": {
            "text/plain": [
              "['e', 'agora', 'jose?', 'e agora jose?']"
            ]
          },
          "metadata": {},
          "execution_count": 56
        }
      ]
    },
    {
      "cell_type": "code",
      "source": [
        "'e agora jose? e agora jose?'.rsplit()"
      ],
      "metadata": {
        "colab": {
          "base_uri": "https://localhost:8080/"
        },
        "id": "S-rdxYCoB2LL",
        "outputId": "421f2933-7fa2-4d63-bad5-c1c0fe376fed"
      },
      "execution_count": null,
      "outputs": [
        {
          "output_type": "execute_result",
          "data": {
            "text/plain": [
              "['e', 'agora', 'jose?', 'e', 'agora', 'jose?']"
            ]
          },
          "metadata": {},
          "execution_count": 58
        }
      ]
    },
    {
      "cell_type": "code",
      "source": [
        "'e agora jose? e agora jose?'.partition('agora')"
      ],
      "metadata": {
        "colab": {
          "base_uri": "https://localhost:8080/"
        },
        "id": "S4Qxj9ENCSn1",
        "outputId": "6c25ad4e-c1c8-438c-f987-9548146fe9fc"
      },
      "execution_count": null,
      "outputs": [
        {
          "output_type": "execute_result",
          "data": {
            "text/plain": [
              "('e ', 'agora', ' jose? e agora jose?')"
            ]
          },
          "metadata": {},
          "execution_count": 65
        }
      ]
    },
    {
      "cell_type": "code",
      "source": [
        "data = '2023-08-30'\n",
        "data.split('-')[0]"
      ],
      "metadata": {
        "colab": {
          "base_uri": "https://localhost:8080/",
          "height": 35
        },
        "id": "N3aDH74-Cbt3",
        "outputId": "be2739ef-4838-434e-9f22-16135b8966f0"
      },
      "execution_count": null,
      "outputs": [
        {
          "output_type": "execute_result",
          "data": {
            "text/plain": [
              "'2023'"
            ],
            "application/vnd.google.colaboratory.intrinsic+json": {
              "type": "string"
            }
          },
          "metadata": {},
          "execution_count": 62
        }
      ]
    },
    {
      "cell_type": "code",
      "source": [
        "'e agora jose? e agora jose?'.rpartition('agora') ## ler a variavel no sentido inverso"
      ],
      "metadata": {
        "colab": {
          "base_uri": "https://localhost:8080/"
        },
        "id": "Av9lF8iZCtiL",
        "outputId": "e727ab7b-f061-4447-9121-16bbbb06b415"
      },
      "execution_count": null,
      "outputs": [
        {
          "output_type": "execute_result",
          "data": {
            "text/plain": [
              "('e agora jose? e ', 'agora', ' jose?')"
            ]
          },
          "metadata": {},
          "execution_count": 64
        }
      ]
    },
    {
      "cell_type": "code",
      "source": [
        "''' Decidi me entregar\n",
        "Com toda alma e coração\n",
        "E aceitar, que essa relação\n",
        "Já tomara um caminho diferente\n",
        "Mas o tempo passa e a nos enganamos.\n",
        "Esperamos...\n",
        "Como um beijo pode mudar toda a situação?\n",
        "Palavras em vão,\n",
        "Vazias,\n",
        "mas cheias o suficiente pra ferir,\n",
        "A vida passa '''.splitlines()[5]"
      ],
      "metadata": {
        "colab": {
          "base_uri": "https://localhost:8080/",
          "height": 35
        },
        "id": "RY_iEsJeDqqT",
        "outputId": "2a27313b-1567-43c1-fd81-80bdc9ba7f05"
      },
      "execution_count": null,
      "outputs": [
        {
          "output_type": "execute_result",
          "data": {
            "text/plain": [
              "'Esperamos...'"
            ],
            "application/vnd.google.colaboratory.intrinsic+json": {
              "type": "string"
            }
          },
          "metadata": {},
          "execution_count": 67
        }
      ]
    },
    {
      "cell_type": "markdown",
      "source": [
        "**Método de formação de stings**"
      ],
      "metadata": {
        "id": "01n3j3_uD7AC"
      }
    },
    {
      "cell_type": "code",
      "source": [],
      "metadata": {
        "id": "6VcqNslTD3h6"
      },
      "execution_count": null,
      "outputs": []
    }
  ]
}