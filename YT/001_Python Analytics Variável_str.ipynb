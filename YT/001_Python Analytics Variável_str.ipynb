{
  "nbformat": 4,
  "nbformat_minor": 0,
  "metadata": {
    "colab": {
      "provenance": []
    },
    "kernelspec": {
      "name": "python3",
      "display_name": "Python 3"
    },
    "language_info": {
      "name": "python"
    }
  },
  "cells": [
    {
      "cell_type": "markdown",
      "source": [
        "Aula de Python -- YOUTUBE\n",
        "\n",
        "**strings**"
      ],
      "metadata": {
        "id": "gvlqOXHDatDv"
      }
    },
    {
      "cell_type": "markdown",
      "source": [
        "**Declaração de Variável**"
      ],
      "metadata": {
        "id": "4feKmEoXZS33"
      }
    },
    {
      "cell_type": "code",
      "execution_count": 1,
      "metadata": {
        "id": "ViZVatNOVLqX"
      },
      "outputs": [],
      "source": [
        "nome_da_variavel = 'valor'"
      ]
    },
    {
      "cell_type": "code",
      "source": [
        "nome_da_variavel"
      ],
      "metadata": {
        "colab": {
          "base_uri": "https://localhost:8080/",
          "height": 35
        },
        "id": "FJ6iFIZMZgHo",
        "outputId": "7b2be991-0d2e-42de-e90c-f0d7a6b33de3"
      },
      "execution_count": 2,
      "outputs": [
        {
          "output_type": "execute_result",
          "data": {
            "text/plain": [
              "'valor'"
            ],
            "application/vnd.google.colaboratory.intrinsic+json": {
              "type": "string"
            }
          },
          "metadata": {},
          "execution_count": 2
        }
      ]
    },
    {
      "cell_type": "markdown",
      "source": [
        "--> Variaveis não precisam ser decladadas com nenhum tipo especifico e podem ser mudados os tipos apois terem sido declarados."
      ],
      "metadata": {
        "id": "gOlEkGAZaYdd"
      }
    },
    {
      "cell_type": "code",
      "source": [
        "x = 100  ## x é tipo int\n",
        "print(x)"
      ],
      "metadata": {
        "colab": {
          "base_uri": "https://localhost:8080/"
        },
        "id": "L9KFfbPIalLL",
        "outputId": "9664f7f1-5657-459d-83dc-a84387f09d22"
      },
      "execution_count": 3,
      "outputs": [
        {
          "output_type": "stream",
          "name": "stdout",
          "text": [
            "100\n"
          ]
        }
      ]
    },
    {
      "cell_type": "code",
      "source": [
        "type(x)  ## 'type' pergunta qual é o tipo da variavel declarada"
      ],
      "metadata": {
        "colab": {
          "base_uri": "https://localhost:8080/"
        },
        "id": "6JlSJktdavjw",
        "outputId": "9454ce59-1885-4289-80ee-c24750a9a24a"
      },
      "execution_count": 4,
      "outputs": [
        {
          "output_type": "execute_result",
          "data": {
            "text/plain": [
              "int"
            ]
          },
          "metadata": {},
          "execution_count": 4
        }
      ]
    },
    {
      "cell_type": "code",
      "source": [
        "x = 'algém'  ## x é do tipo string or str\n",
        "print(x)"
      ],
      "metadata": {
        "colab": {
          "base_uri": "https://localhost:8080/"
        },
        "id": "UUDky-T2a51x",
        "outputId": "c646ef96-4b91-41df-8623-5b968a2505ca"
      },
      "execution_count": 5,
      "outputs": [
        {
          "output_type": "stream",
          "name": "stdout",
          "text": [
            "algém\n"
          ]
        }
      ]
    },
    {
      "cell_type": "code",
      "source": [
        "type(x)"
      ],
      "metadata": {
        "colab": {
          "base_uri": "https://localhost:8080/"
        },
        "id": "5OagxAHtbE_n",
        "outputId": "43f60911-7195-4c87-f4fc-e010055f87cc"
      },
      "execution_count": 6,
      "outputs": [
        {
          "output_type": "execute_result",
          "data": {
            "text/plain": [
              "str"
            ]
          },
          "metadata": {},
          "execution_count": 6
        }
      ]
    },
    {
      "cell_type": "markdown",
      "source": [
        "--> Veriaveis de Strings podem ser decladas com aspas ' ' ou \" \""
      ],
      "metadata": {
        "id": "jco9r6mqbZML"
      }
    },
    {
      "cell_type": "markdown",
      "source": [
        " Nomes de Variáveis:\n",
        "- Deve começar com uma letra ou caratere sublinhado\n",
        "** Não pode começar com número**\n",
        "- Pode conter apenas caracateres alfanumericos e sublinhados\n",
        "- Diferenciam maiúculas de minusculas"
      ],
      "metadata": {
        "id": "QX8OkUtCbmkW"
      }
    },
    {
      "cell_type": "code",
      "source": [
        "%who  ## mostra todas as variaveis que você criou até agr"
      ],
      "metadata": {
        "colab": {
          "base_uri": "https://localhost:8080/"
        },
        "id": "cdxiaJsbcWXn",
        "outputId": "b4a33d8c-754e-4843-ab47-08a6dd208048"
      },
      "execution_count": 7,
      "outputs": [
        {
          "output_type": "stream",
          "name": "stdout",
          "text": [
            "No variables match your requested type.\n"
          ]
        }
      ]
    },
    {
      "cell_type": "markdown",
      "source": [
        "**Atribuição de valor**\n",
        "- Python permite atribuição de valores e várias variáveis em uma linha"
      ],
      "metadata": {
        "id": "VkORTYrVe07I"
      }
    },
    {
      "cell_type": "code",
      "source": [
        "regiaoN, regiaoS, regiaoCO = 'Norte', 'Sul', 'Centro-oeste'\n",
        "\n",
        "print(regiaoN, regiaoS, regiaoCO)\n",
        "# or\n",
        "print(regiaoN)\n",
        "print(regiaoS)\n",
        "print(regiaoCO)"
      ],
      "metadata": {
        "colab": {
          "base_uri": "https://localhost:8080/"
        },
        "id": "s65azZU0fDy_",
        "outputId": "32163471-2270-4838-d438-2a8eeca99faf"
      },
      "execution_count": 8,
      "outputs": [
        {
          "output_type": "stream",
          "name": "stdout",
          "text": [
            "Norte Sul Centro-oeste\n",
            "Norte\n",
            "Sul\n",
            "Centro-oeste\n"
          ]
        }
      ]
    },
    {
      "cell_type": "code",
      "source": [
        "def lista3regioes():    ## função def para retornar uma lista com 3 regioes\n",
        "  return 'Norte1', 'Sul1', 'Centro-Oeste1'"
      ],
      "metadata": {
        "id": "Ja_A497ni5Aa"
      },
      "execution_count": 9,
      "outputs": []
    },
    {
      "cell_type": "code",
      "source": [
        "regiaoN, regiaoS, regiaoCO = lista3regioes()"
      ],
      "metadata": {
        "id": "FEekvnpyjIW4"
      },
      "execution_count": 10,
      "outputs": []
    },
    {
      "cell_type": "code",
      "source": [
        "print(regiaoN, regiaoS, regiaoCO)"
      ],
      "metadata": {
        "colab": {
          "base_uri": "https://localhost:8080/"
        },
        "id": "f4I3BW-Ojf9s",
        "outputId": "85454e28-7e40-4dff-8c6a-88b23b443e09"
      },
      "execution_count": 11,
      "outputs": [
        {
          "output_type": "stream",
          "name": "stdout",
          "text": [
            "Norte1 Sul1 Centro-Oeste1\n"
          ]
        }
      ]
    },
    {
      "cell_type": "markdown",
      "source": [
        "**Tipo de dados Python**\n",
        "\n",
        "- Texto > str\n",
        "- Numericos > int, float, complex\n",
        "- Sequência > list, tuple, range\n",
        "- Mapeamento > dict\n",
        "- Conjuntos > set, frozenset\n",
        "- Booleano > bool\n",
        "- Binários > bytes, bytearray, mamoryview"
      ],
      "metadata": {
        "id": "6N1mXLoNjziR"
      }
    },
    {
      "cell_type": "code",
      "source": [
        "var = 'Centro-Oeste' ## str\n",
        "print(type(var))"
      ],
      "metadata": {
        "colab": {
          "base_uri": "https://localhost:8080/"
        },
        "id": "a6lP328koCZE",
        "outputId": "eeac7481-0d42-4924-c11c-239a3470dfae"
      },
      "execution_count": 12,
      "outputs": [
        {
          "output_type": "stream",
          "name": "stdout",
          "text": [
            "<class 'str'>\n"
          ]
        }
      ]
    },
    {
      "cell_type": "code",
      "source": [
        "var = 652       ## int\n",
        "print(type(var))"
      ],
      "metadata": {
        "colab": {
          "base_uri": "https://localhost:8080/"
        },
        "id": "ei-AqDfIoo9n",
        "outputId": "a832b97c-d8be-46cd-f435-1b10945691c4"
      },
      "execution_count": 13,
      "outputs": [
        {
          "output_type": "stream",
          "name": "stdout",
          "text": [
            "<class 'int'>\n"
          ]
        }
      ]
    },
    {
      "cell_type": "code",
      "source": [
        "var = 640.4    ## float\n",
        "print(type(var))"
      ],
      "metadata": {
        "colab": {
          "base_uri": "https://localhost:8080/"
        },
        "id": "7jmbd2Q4osOp",
        "outputId": "50d1b5f8-06f5-4961-b3c0-8150bf13653c"
      },
      "execution_count": 14,
      "outputs": [
        {
          "output_type": "stream",
          "name": "stdout",
          "text": [
            "<class 'float'>\n"
          ]
        }
      ]
    },
    {
      "cell_type": "code",
      "source": [
        "var = 5j       ## complex\n",
        "print(type(var))"
      ],
      "metadata": {
        "colab": {
          "base_uri": "https://localhost:8080/"
        },
        "id": "YREK9ZNzoyNo",
        "outputId": "ab6d01aa-9610-40ff-d57f-d927b38cbcfd"
      },
      "execution_count": 15,
      "outputs": [
        {
          "output_type": "stream",
          "name": "stdout",
          "text": [
            "<class 'complex'>\n"
          ]
        }
      ]
    },
    {
      "cell_type": "code",
      "source": [
        "var = [ 'Norte', 'Sul', 'Centro-Oeste']  ## os [ ] -> list\n",
        "print(type(var))"
      ],
      "metadata": {
        "colab": {
          "base_uri": "https://localhost:8080/"
        },
        "id": "yY4SzBBno649",
        "outputId": "bf176c1b-2bf4-4d36-dff4-c5b93e025133"
      },
      "execution_count": 16,
      "outputs": [
        {
          "output_type": "stream",
          "name": "stdout",
          "text": [
            "<class 'list'>\n"
          ]
        }
      ]
    },
    {
      "cell_type": "code",
      "source": [
        "var = ('Norte', 'Sul', 'Centro-Oeste')  ## ( ) -> tuple\n",
        "print(type(var))"
      ],
      "metadata": {
        "colab": {
          "base_uri": "https://localhost:8080/"
        },
        "id": "OpU6aqz-pJ7A",
        "outputId": "545ded7b-9769-47eb-b0a0-a00cdd5cd497"
      },
      "execution_count": 17,
      "outputs": [
        {
          "output_type": "stream",
          "name": "stdout",
          "text": [
            "<class 'tuple'>\n"
          ]
        }
      ]
    },
    {
      "cell_type": "code",
      "source": [
        "var = range(50)  ## usado quando vamos fazer loops\n",
        "print(type(var))"
      ],
      "metadata": {
        "colab": {
          "base_uri": "https://localhost:8080/"
        },
        "id": "rQr9Xf3QpYEK",
        "outputId": "aff28840-909c-44c8-d5bd-fb2e7d64ca39"
      },
      "execution_count": 18,
      "outputs": [
        {
          "output_type": "stream",
          "name": "stdout",
          "text": [
            "<class 'range'>\n"
          ]
        }
      ]
    },
    {
      "cell_type": "code",
      "source": [
        "var = {'nome' : 'Nordeste', 'sigla': 'N'}  ## {:} -> dict -> dicionario -- um nome | chave | valor -- uma estrutura de dados\n",
        "print(type(var))"
      ],
      "metadata": {
        "colab": {
          "base_uri": "https://localhost:8080/"
        },
        "id": "Yf1ombzxpwI8",
        "outputId": "8d341b54-ff9c-4d8e-e211-bc68be2796fe"
      },
      "execution_count": 19,
      "outputs": [
        {
          "output_type": "stream",
          "name": "stdout",
          "text": [
            "<class 'dict'>\n"
          ]
        }
      ]
    },
    {
      "cell_type": "code",
      "source": [
        "var = {'Norte', 'Sul', 'Centro-Oeste'}  ## { } -> set (1) para saida logica -> um conjunto | não tem a função de rest (0) para saida\n",
        "print(type(var))"
      ],
      "metadata": {
        "colab": {
          "base_uri": "https://localhost:8080/"
        },
        "id": "n8gZWl_tpSRU",
        "outputId": "10760fda-625c-463f-d2f5-57e7b19c0a38"
      },
      "execution_count": 20,
      "outputs": [
        {
          "output_type": "stream",
          "name": "stdout",
          "text": [
            "<class 'set'>\n"
          ]
        }
      ]
    },
    {
      "cell_type": "code",
      "source": [
        "var = frozenset ({'Norte', 'Sul', 'Nardeste', 'Sudeste', 'Centro-Oeste'})  ##  ({ }) -> cria um resxe - pode usar ele para uma identidade, um objeto para uma chave, um dicionario\n",
        "print(type(var))"
      ],
      "metadata": {
        "colab": {
          "base_uri": "https://localhost:8080/"
        },
        "id": "HSzfxi8eq722",
        "outputId": "012902b6-7189-4cb0-bb08-a9ba7377e8b0"
      },
      "execution_count": 21,
      "outputs": [
        {
          "output_type": "stream",
          "name": "stdout",
          "text": [
            "<class 'frozenset'>\n"
          ]
        }
      ]
    },
    {
      "cell_type": "code",
      "source": [
        "var = True    ## verdadeiro\n",
        "print(type(var))"
      ],
      "metadata": {
        "colab": {
          "base_uri": "https://localhost:8080/"
        },
        "id": "CkK2kZJnuIgp",
        "outputId": "aef7e4df-c496-4c84-be1c-a772afde0260"
      },
      "execution_count": 22,
      "outputs": [
        {
          "output_type": "stream",
          "name": "stdout",
          "text": [
            "<class 'bool'>\n"
          ]
        }
      ]
    },
    {
      "cell_type": "code",
      "source": [
        "var1 = False  ## falso\n",
        "print(type(var1))"
      ],
      "metadata": {
        "colab": {
          "base_uri": "https://localhost:8080/"
        },
        "id": "W51f2jeqIuIt",
        "outputId": "cd52c4fe-f1b3-485e-87af-04e6ed4f1dd0"
      },
      "execution_count": 24,
      "outputs": [
        {
          "output_type": "stream",
          "name": "stdout",
          "text": [
            "<class 'bool'>\n"
          ]
        }
      ]
    },
    {
      "cell_type": "code",
      "source": [
        "var = b'Jose da Silva'  ## armazenar em formato binario\n",
        "print(type(var))"
      ],
      "metadata": {
        "colab": {
          "base_uri": "https://localhost:8080/"
        },
        "id": "_DrTQbKLuUMR",
        "outputId": "7394c315-4527-412e-cd65-c1e9cd874fff"
      },
      "execution_count": 25,
      "outputs": [
        {
          "output_type": "stream",
          "name": "stdout",
          "text": [
            "<class 'bytes'>\n"
          ]
        }
      ]
    },
    {
      "cell_type": "code",
      "source": [
        "var = bytearray(5)\n",
        "print(type(var))"
      ],
      "metadata": {
        "colab": {
          "base_uri": "https://localhost:8080/"
        },
        "id": "_OFRIrXXup_K",
        "outputId": "80cef4c5-ff18-412d-cce5-49b74367ad4a"
      },
      "execution_count": 26,
      "outputs": [
        {
          "output_type": "stream",
          "name": "stdout",
          "text": [
            "<class 'bytearray'>\n"
          ]
        }
      ]
    },
    {
      "cell_type": "markdown",
      "source": [
        "**Informando para o Python o tipo da variável na sua declaração: configurando o tipo de dado específico**\n",
        "\n",
        "Se você deseja especificar o tipo de dados, pode usar as seguintes funções de construtor:"
      ],
      "metadata": {
        "id": "4G20LLSuvDmw"
      }
    },
    {
      "cell_type": "code",
      "source": [
        "var = str('Centro-Oeste')     ## Ex.:\n",
        "print(type(var))"
      ],
      "metadata": {
        "colab": {
          "base_uri": "https://localhost:8080/"
        },
        "id": "3_t28XGUvCRt",
        "outputId": "79912dfd-402c-4695-bea5-451e678355e5"
      },
      "execution_count": null,
      "outputs": [
        {
          "output_type": "stream",
          "name": "stdout",
          "text": [
            "<class 'str'>\n"
          ]
        }
      ]
    },
    {
      "cell_type": "markdown",
      "source": [
        "**Strings são Arrays de Caracteres**\n",
        "\n",
        "Como no Python não tem um tipo de dados de caracteres, um caracter é na verdade uma strig com tamanho 1"
      ],
      "metadata": {
        "id": "O4kMgRVMuf3k"
      }
    },
    {
      "cell_type": "code",
      "source": [
        "letra = 'a'"
      ],
      "metadata": {
        "id": "VkacxdJou0hJ"
      },
      "execution_count": null,
      "outputs": []
    },
    {
      "cell_type": "code",
      "source": [
        "nome = 'Jose'\n",
        "nome [0]"
      ],
      "metadata": {
        "colab": {
          "base_uri": "https://localhost:8080/",
          "height": 35
        },
        "id": "lirW5xVEve-D",
        "outputId": "c8d748f2-6be2-4b80-f995-67fb66ad2637"
      },
      "execution_count": null,
      "outputs": [
        {
          "output_type": "execute_result",
          "data": {
            "text/plain": [
              "'J'"
            ],
            "application/vnd.google.colaboratory.intrinsic+json": {
              "type": "string"
            }
          },
          "metadata": {},
          "execution_count": 2
        }
      ]
    },
    {
      "cell_type": "code",
      "source": [
        "lista = 'oi como você vai maroa? vou bem =, e você jose?'\n",
        "print(lista[2:7])   # 2 -> a aprtir do indece 2 : 7 -> até o indice 7\n",
        "\n",
        "## recortar uma lista fateada"
      ],
      "metadata": {
        "colab": {
          "base_uri": "https://localhost:8080/"
        },
        "id": "WnnhBCCRv9GD",
        "outputId": "8c225cc2-8c9b-44e0-948f-c7ac1c98569d"
      },
      "execution_count": null,
      "outputs": [
        {
          "output_type": "stream",
          "name": "stdout",
          "text": [
            " como\n"
          ]
        }
      ]
    },
    {
      "cell_type": "markdown",
      "source": [
        "**números positivo**s ex.: [12:19] você ta partindo do 0 pra frente.\n",
        "\n",
        "**números negativos** ex.: [-10: -5 ] ele vai pegar o tamanho da str e vai ler ela de trás pra frente"
      ],
      "metadata": {
        "id": "ussjgQPqvZrm"
      }
    },
    {
      "cell_type": "code",
      "source": [
        "lista = 'oi como você vai maria? vou bem, e você jose?'\n",
        "print(lista[-10:-1])"
      ],
      "metadata": {
        "colab": {
          "base_uri": "https://localhost:8080/"
        },
        "id": "Cd-IKHAuxcHH",
        "outputId": "6ca18d7b-5d9f-438e-8049-d3c3b1e90edd"
      },
      "execution_count": null,
      "outputs": [
        {
          "output_type": "stream",
          "name": "stdout",
          "text": [
            "você jose\n"
          ]
        }
      ]
    },
    {
      "cell_type": "markdown",
      "source": [
        "**De um ponto pra frente:**"
      ],
      "metadata": {
        "id": "ko1-2_OSxzFY"
      }
    },
    {
      "cell_type": "code",
      "source": [
        "data = '2023-30-08'"
      ],
      "metadata": {
        "id": "3VA4Oxxcx2ad"
      },
      "execution_count": null,
      "outputs": []
    },
    {
      "cell_type": "code",
      "source": [
        "print(data[8:10])"
      ],
      "metadata": {
        "colab": {
          "base_uri": "https://localhost:8080/"
        },
        "id": "uv-p6ZJZxyw7",
        "outputId": "13317866-d80c-42f3-dda4-1107534e77e8"
      },
      "execution_count": null,
      "outputs": [
        {
          "output_type": "stream",
          "name": "stdout",
          "text": [
            "08\n"
          ]
        }
      ]
    },
    {
      "cell_type": "code",
      "source": [
        "print(data[-2:])"
      ],
      "metadata": {
        "colab": {
          "base_uri": "https://localhost:8080/"
        },
        "id": "sY3RSMGxyOcc",
        "outputId": "50d18b82-8722-49f5-e470-b566fac25156"
      },
      "execution_count": null,
      "outputs": [
        {
          "output_type": "stream",
          "name": "stdout",
          "text": [
            "08\n"
          ]
        }
      ]
    },
    {
      "cell_type": "code",
      "source": [
        "print(data[8:])"
      ],
      "metadata": {
        "colab": {
          "base_uri": "https://localhost:8080/"
        },
        "id": "HwO3_8aNyK8N",
        "outputId": "0f6507fc-7de4-43f6-a9b6-f6d564ae66c3"
      },
      "execution_count": null,
      "outputs": [
        {
          "output_type": "stream",
          "name": "stdout",
          "text": [
            "08\n"
          ]
        }
      ]
    },
    {
      "cell_type": "markdown",
      "source": [
        "**Como saber a comprimeto da str**\n",
        "\n",
        "use a função len()"
      ],
      "metadata": {
        "id": "OLCZGfrAyc3N"
      }
    },
    {
      "cell_type": "code",
      "source": [
        "len(lista)"
      ],
      "metadata": {
        "colab": {
          "base_uri": "https://localhost:8080/"
        },
        "id": "jqydnSu4ypKD",
        "outputId": "9bc8cc74-5ab3-4545-8b17-88392f358951"
      },
      "execution_count": null,
      "outputs": [
        {
          "output_type": "execute_result",
          "data": {
            "text/plain": [
              "47"
            ]
          },
          "metadata": {},
          "execution_count": 14
        }
      ]
    },
    {
      "cell_type": "markdown",
      "source": [
        "**Quais são os métodos / operações de uma Str**\n",
        "\n",
        "Python tem várias métodos disponíveis para o uso com strings\n",
        "\n",
        "\\begin{array}{|l|l|}\n",
        "\\hline\n",
        "\\text{capitalize} & \\text{Converte o primeiro caractere em maiúsculas} \\\\\n",
        "\\hline\n",
        "\\text{casefold} & \\text{Convete str em minúsculas} \\\\\n",
        "\\hline\n",
        "\\text{center} & \\text{retorna uma str alinhada no centro}\\\\\n",
        "\\hline\n",
        "\\text{count} & \\text{retorna o npumero de vezes que um valor especificado ocorre em uma str} \\\\\n",
        "\\hline\n",
        "\\text{encode} & \\text{retorna uma cersão codificada da str} \\\\\n",
        "\\hline\n",
        "\\text{endswith} & \\text{retorna verdadeiro se a str termina com o valor especificado} \\\\\n",
        "\\hline\n",
        "\\text{expandtabs} & \\text{define o tamanho da guia sa str} \\\\\n",
        "\\hline\n",
        "\\text{find} & \\text{pesquisa a str por um valor especificado e retorna a posição de onde foi encontrado} \\\\\n",
        "\\hline\n",
        "\\text{format} & \\text {formata valores especificados em uma str} \\\\\n",
        "\\hline\n",
        "\\text{format_map} & \\text{passar um dicionario de valores e ele formata como eu quero}\\\\\n",
        "\\hline\n",
        "\\text{index} & \\text{pesquisa a str por um valor especificado e retorna a posição de onde foi encontrado} \\\\\n",
        "\\hline\n",
        "\\text{isalnum} & \\text{retorna True se todos os caracteres na str forem alfanuméricos} \\\\\n",
        "\\hline\n",
        "\\text{isalpha} & \\text{retorna True se todos os caracteres na str estão no alfabeto} \\\\\n",
        "\\hline\n",
        "\\text{isdeceimal} & \\text{retorna True se todos os caracteres na str forem decimal} \\\\\n",
        "\\hline\n",
        "\\text{isdigit} & \\text{retorna verdadeiro se todos os caracteres na str forem digitos} \\\\\n",
        "\\hline\n",
        "\\text{isidentfier} & \\text{retorna True se todos se a str é um identificador} \\\\\n",
        "\\hline\n",
        "\\text{islower} & \\text{retorna True se todos se a str são miúsculas} \\\\\n",
        "\\hline\n",
        "\\text{isnumeric} & \\text{retorna True se todos os caracteres na str são minúsculos} \\\\\n",
        "\\hline\n",
        "\\text{isprintable} & \\text{retorna True se todos os caracteres na str são imprimiveis} \\\\\n",
        "\\hline\n",
        "\\text{isspace} & \\text{retorna True se todos os caracteres na str forem espaços em branco} \\\\\n",
        "\\hline\n",
        "\\text{istitle} & \\text{retorna True se a str segue as regras de uma titulo} \\\\\n",
        "\\hline\n",
        "\\text{isupper} & \\text{retorna True se todos os caracteres na str são maiúsculas} \\\\\n",
        "\\hline\n",
        "\\text{join} & \\text{retorna o npumero de vezes que um valor especificado ocorre em uma str} \\\\\n",
        "\\hline\n",
        "\\end{array}\n"
      ],
      "metadata": {
        "id": "AdPDJGEpz2Q3"
      }
    },
    {
      "cell_type": "markdown",
      "source": [
        "Métodos de alinhamento"
      ],
      "metadata": {
        "id": "M4vwMnTD1eak"
      }
    },
    {
      "cell_type": "code",
      "source": [
        "## Concatenar no centro - .center()\n",
        "\n",
        "var = 'e agora jose?'\n",
        "var.center(50)  ## oouuu"
      ],
      "metadata": {
        "colab": {
          "base_uri": "https://localhost:8080/",
          "height": 35
        },
        "id": "qCMcNBs_12XH",
        "outputId": "d596105b-0b71-469f-9ceb-2fd170a1cd75"
      },
      "execution_count": null,
      "outputs": [
        {
          "output_type": "execute_result",
          "data": {
            "text/plain": [
              "'                  e agora jose?                   '"
            ],
            "application/vnd.google.colaboratory.intrinsic+json": {
              "type": "string"
            }
          },
          "metadata": {},
          "execution_count": 19
        }
      ]
    },
    {
      "cell_type": "code",
      "source": [
        "'e agora jose?'.center(50)  ## concatena no centro"
      ],
      "metadata": {
        "colab": {
          "base_uri": "https://localhost:8080/",
          "height": 35
        },
        "id": "cNiK0HN_0EYJ",
        "outputId": "165f0d4b-7c20-4349-89b1-d7b9b9934c67"
      },
      "execution_count": null,
      "outputs": [
        {
          "output_type": "execute_result",
          "data": {
            "text/plain": [
              "'                  e agora jose?                   '"
            ],
            "application/vnd.google.colaboratory.intrinsic+json": {
              "type": "string"
            }
          },
          "metadata": {},
          "execution_count": 15
        }
      ]
    },
    {
      "cell_type": "code",
      "source": [
        "# .ljust()\n",
        "\n",
        "'e agora jose?'.ljust(50) ## alinha a esquerda"
      ],
      "metadata": {
        "colab": {
          "base_uri": "https://localhost:8080/",
          "height": 35
        },
        "id": "LA3xjDaK1pOp",
        "outputId": "28b3ce6b-0940-47ac-efdc-407111935dce"
      },
      "execution_count": null,
      "outputs": [
        {
          "output_type": "execute_result",
          "data": {
            "text/plain": [
              "'e agora jose?                                     '"
            ],
            "application/vnd.google.colaboratory.intrinsic+json": {
              "type": "string"
            }
          },
          "metadata": {},
          "execution_count": 21
        }
      ]
    },
    {
      "cell_type": "code",
      "source": [
        "# .rjust()\n",
        "\n",
        "'e agora jose?'.rjust(50)  ## alinhar a direita"
      ],
      "metadata": {
        "colab": {
          "base_uri": "https://localhost:8080/",
          "height": 35
        },
        "id": "PCqt5_GI1uEc",
        "outputId": "0fc5aab0-2d77-4896-bd79-3769d872517f"
      },
      "execution_count": null,
      "outputs": [
        {
          "output_type": "execute_result",
          "data": {
            "text/plain": [
              "'                                     e agora jose?'"
            ],
            "application/vnd.google.colaboratory.intrinsic+json": {
              "type": "string"
            }
          },
          "metadata": {},
          "execution_count": 17
        }
      ]
    },
    {
      "cell_type": "code",
      "source": [
        "# .zfill()\n",
        "\n",
        "'e agora jose?'.zfill(40)  ## preencher com 0"
      ],
      "metadata": {
        "colab": {
          "base_uri": "https://localhost:8080/",
          "height": 35
        },
        "id": "hqSBMPZC2BgN",
        "outputId": "2ce48c12-431f-4f32-c3e2-30b6a7703671"
      },
      "execution_count": null,
      "outputs": [
        {
          "output_type": "execute_result",
          "data": {
            "text/plain": [
              "'000000000000000000000000000e agora jose?'"
            ],
            "application/vnd.google.colaboratory.intrinsic+json": {
              "type": "string"
            }
          },
          "metadata": {},
          "execution_count": 22
        }
      ]
    },
    {
      "cell_type": "code",
      "source": [
        "'254'.zfill(5)"
      ],
      "metadata": {
        "colab": {
          "base_uri": "https://localhost:8080/",
          "height": 35
        },
        "id": "c3TOzxoo2cnD",
        "outputId": "d11fef57-b61d-4fa6-c072-531639798384"
      },
      "execution_count": null,
      "outputs": [
        {
          "output_type": "execute_result",
          "data": {
            "text/plain": [
              "'00254'"
            ],
            "application/vnd.google.colaboratory.intrinsic+json": {
              "type": "string"
            }
          },
          "metadata": {},
          "execution_count": 24
        }
      ]
    },
    {
      "cell_type": "markdown",
      "source": [
        "**Método de checagem e alteração de caixa**"
      ],
      "metadata": {
        "id": "gs9StgUG2kAs"
      }
    },
    {
      "cell_type": "code",
      "source": [
        "# .capitalize()\n",
        "\n",
        "'e agora jose?'.capitalize()  ## Primeira letra em Maiúsculo"
      ],
      "metadata": {
        "colab": {
          "base_uri": "https://localhost:8080/",
          "height": 35
        },
        "id": "5R5qwaei2q4z",
        "outputId": "40ce07b6-f9c2-4388-c129-f794233fb3ca"
      },
      "execution_count": null,
      "outputs": [
        {
          "output_type": "execute_result",
          "data": {
            "text/plain": [
              "'E agora jose?'"
            ],
            "application/vnd.google.colaboratory.intrinsic+json": {
              "type": "string"
            }
          },
          "metadata": {},
          "execution_count": 26
        }
      ]
    },
    {
      "cell_type": "code",
      "source": [
        "# .casefold()\n",
        "\n",
        "'E AGORA JOSE?'.casefold() ## tranformar tudo em minúsculo"
      ],
      "metadata": {
        "colab": {
          "base_uri": "https://localhost:8080/",
          "height": 35
        },
        "id": "b42HSycJ22PT",
        "outputId": "ede003a9-ed53-4a02-cd93-d610b1f70225"
      },
      "execution_count": null,
      "outputs": [
        {
          "output_type": "execute_result",
          "data": {
            "text/plain": [
              "'e agora jose?'"
            ],
            "application/vnd.google.colaboratory.intrinsic+json": {
              "type": "string"
            }
          },
          "metadata": {},
          "execution_count": 27
        }
      ]
    },
    {
      "cell_type": "code",
      "source": [
        "# .expandtabs()\n",
        "\n",
        "'e agora\\t jose?'.expandtabs(10) ## dar espaçamento que você declarar"
      ],
      "metadata": {
        "colab": {
          "base_uri": "https://localhost:8080/",
          "height": 35
        },
        "id": "_6famwXh281p",
        "outputId": "4b58a557-2bcd-471f-eb61-04a9f5f89ed9"
      },
      "execution_count": null,
      "outputs": [
        {
          "output_type": "execute_result",
          "data": {
            "text/plain": [
              "'e agora    jose?'"
            ],
            "application/vnd.google.colaboratory.intrinsic+json": {
              "type": "string"
            }
          },
          "metadata": {},
          "execution_count": 29
        }
      ]
    },
    {
      "cell_type": "code",
      "source": [
        "# .islower()\n",
        "\n",
        "'e agora jose?'.islower() ## checar se ta tudo minúsculo"
      ],
      "metadata": {
        "colab": {
          "base_uri": "https://localhost:8080/"
        },
        "id": "aLcSHNk43HPP",
        "outputId": "fe45f828-e120-460a-9b44-80e6d28608ea"
      },
      "execution_count": null,
      "outputs": [
        {
          "output_type": "execute_result",
          "data": {
            "text/plain": [
              "True"
            ]
          },
          "metadata": {},
          "execution_count": 31
        }
      ]
    },
    {
      "cell_type": "code",
      "source": [
        "'E agora jose?'.islower() ## checar se ta tudo maiúsculo"
      ],
      "metadata": {
        "colab": {
          "base_uri": "https://localhost:8080/"
        },
        "id": "BOo2dmh53Sdv",
        "outputId": "cb66a030-ea53-4e51-b05d-86f63d676ff4"
      },
      "execution_count": null,
      "outputs": [
        {
          "output_type": "execute_result",
          "data": {
            "text/plain": [
              "False"
            ]
          },
          "metadata": {},
          "execution_count": 32
        }
      ]
    },
    {
      "cell_type": "code",
      "source": [
        "# .istitle()\n",
        "\n",
        "'e agora jose?'.istitle() # se é um titulo - se aprimeira letra de cada palavra está maiuscula"
      ],
      "metadata": {
        "colab": {
          "base_uri": "https://localhost:8080/"
        },
        "id": "-oJ8oBNm3XEh",
        "outputId": "a9032a16-ddfd-4f87-d316-4e82f3b33088"
      },
      "execution_count": null,
      "outputs": [
        {
          "output_type": "execute_result",
          "data": {
            "text/plain": [
              "False"
            ]
          },
          "metadata": {},
          "execution_count": 33
        }
      ]
    },
    {
      "cell_type": "code",
      "source": [
        "# .istitle()\n",
        "\n",
        "'E Agora Jose?'.istitle()  # se está tudo maiusculo"
      ],
      "metadata": {
        "colab": {
          "base_uri": "https://localhost:8080/"
        },
        "id": "34zmSvdg3dVs",
        "outputId": "bfa18174-87dc-45e9-cae8-e0c4ee29946f"
      },
      "execution_count": null,
      "outputs": [
        {
          "output_type": "execute_result",
          "data": {
            "text/plain": [
              "True"
            ]
          },
          "metadata": {},
          "execution_count": 34
        }
      ]
    },
    {
      "cell_type": "code",
      "source": [
        "# .swapcase()\n",
        "\n",
        "'e agora jose?'.swapcase() ## tranformar maiúculos em minusculo e vice-verso"
      ],
      "metadata": {
        "colab": {
          "base_uri": "https://localhost:8080/",
          "height": 35
        },
        "id": "V-MiAoki4j6H",
        "outputId": "89b73f2f-a1fc-4bce-badd-2d05cc924eae"
      },
      "execution_count": null,
      "outputs": [
        {
          "output_type": "execute_result",
          "data": {
            "text/plain": [
              "'E AGORA JOSE?'"
            ],
            "application/vnd.google.colaboratory.intrinsic+json": {
              "type": "string"
            }
          },
          "metadata": {},
          "execution_count": 35
        }
      ]
    },
    {
      "cell_type": "code",
      "source": [
        "'E AGORA JOSE?'.swapcase()"
      ],
      "metadata": {
        "colab": {
          "base_uri": "https://localhost:8080/",
          "height": 35
        },
        "id": "yntl6jacMo27",
        "outputId": "ab5a053b-8b02-44b8-f753-cec41048f782"
      },
      "execution_count": 27,
      "outputs": [
        {
          "output_type": "execute_result",
          "data": {
            "text/plain": [
              "'e agora jose?'"
            ],
            "application/vnd.google.colaboratory.intrinsic+json": {
              "type": "string"
            }
          },
          "metadata": {},
          "execution_count": 27
        }
      ]
    },
    {
      "cell_type": "code",
      "source": [
        "# .title()\n",
        "\n",
        "'e agora jose?'.title()  # todas as primeiras palavras em Maiúsculo"
      ],
      "metadata": {
        "colab": {
          "base_uri": "https://localhost:8080/",
          "height": 35
        },
        "id": "BepCsvmb431h",
        "outputId": "116263f3-1f0a-498d-e7fc-e7152f2c18cc"
      },
      "execution_count": null,
      "outputs": [
        {
          "output_type": "execute_result",
          "data": {
            "text/plain": [
              "'E Agora Jose?'"
            ],
            "application/vnd.google.colaboratory.intrinsic+json": {
              "type": "string"
            }
          },
          "metadata": {},
          "execution_count": 37
        }
      ]
    },
    {
      "cell_type": "code",
      "source": [
        "# .upper()\n",
        "\n",
        "'e agora jose?'.upper() #retornar tudo maiúsculo"
      ],
      "metadata": {
        "colab": {
          "base_uri": "https://localhost:8080/",
          "height": 35
        },
        "id": "IR_6jJrJ45m1",
        "outputId": "bcb9c36a-518c-4adb-c1e4-92107efd11fd"
      },
      "execution_count": null,
      "outputs": [
        {
          "output_type": "execute_result",
          "data": {
            "text/plain": [
              "'E AGORA JOSE?'"
            ],
            "application/vnd.google.colaboratory.intrinsic+json": {
              "type": "string"
            }
          },
          "metadata": {},
          "execution_count": 38
        }
      ]
    },
    {
      "cell_type": "code",
      "source": [
        "# .lower()\n",
        "\n",
        "'E AGORA JOSE?'.lower() #retornar tudo minusculo"
      ],
      "metadata": {
        "colab": {
          "base_uri": "https://localhost:8080/",
          "height": 36
        },
        "id": "6YDmcUzEXThp",
        "outputId": "99f03f9c-1443-4ff0-f5b3-f4f757c31799"
      },
      "execution_count": null,
      "outputs": [
        {
          "output_type": "execute_result",
          "data": {
            "text/plain": [
              "'e agora jose?'"
            ],
            "application/vnd.google.colaboratory.intrinsic+json": {
              "type": "string"
            }
          },
          "metadata": {},
          "execution_count": 2
        }
      ]
    },
    {
      "cell_type": "code",
      "source": [
        "'e agora josé?'.encode() # converter str em bytes"
      ],
      "metadata": {
        "colab": {
          "base_uri": "https://localhost:8080/"
        },
        "id": "YIPlaQds4_Yt",
        "outputId": "e15d518b-7642-4b7e-8601-1e1eaf9b7cda"
      },
      "execution_count": 28,
      "outputs": [
        {
          "output_type": "execute_result",
          "data": {
            "text/plain": [
              "b'e agora jos\\xc3\\xa9?'"
            ]
          },
          "metadata": {},
          "execution_count": 28
        }
      ]
    },
    {
      "cell_type": "markdown",
      "source": [
        "**Método de limpeza de string**"
      ],
      "metadata": {
        "id": "jY389xvY5JBU"
      }
    },
    {
      "cell_type": "code",
      "source": [
        "# .lstrip()\n",
        "\n",
        "'    e agora jose?    '.lstrip() #limpar todos os espaços que estam no inicio"
      ],
      "metadata": {
        "colab": {
          "base_uri": "https://localhost:8080/",
          "height": 35
        },
        "id": "6jyBFb3z5Nqt",
        "outputId": "b1cc3bf6-4626-4eda-a16c-c910c5b94325"
      },
      "execution_count": null,
      "outputs": [
        {
          "output_type": "execute_result",
          "data": {
            "text/plain": [
              "'e agora jose?    '"
            ],
            "application/vnd.google.colaboratory.intrinsic+json": {
              "type": "string"
            }
          },
          "metadata": {},
          "execution_count": 40
        }
      ]
    },
    {
      "cell_type": "code",
      "source": [
        "# .rstrip()\n",
        "\n",
        "'     e agora jose?   '.rstrip() #limpar todos os espaços que estam no final"
      ],
      "metadata": {
        "colab": {
          "base_uri": "https://localhost:8080/",
          "height": 35
        },
        "id": "N7D61-Nt5dVt",
        "outputId": "b7dcd1a1-f9b7-4304-f13a-60002de933c6"
      },
      "execution_count": null,
      "outputs": [
        {
          "output_type": "execute_result",
          "data": {
            "text/plain": [
              "'     e agora jose?'"
            ],
            "application/vnd.google.colaboratory.intrinsic+json": {
              "type": "string"
            }
          },
          "metadata": {},
          "execution_count": 41
        }
      ]
    },
    {
      "cell_type": "code",
      "source": [
        "# .strip()\n",
        "\n",
        "'     e agora jose?   '.strip() #limpar todos os espaços"
      ],
      "metadata": {
        "colab": {
          "base_uri": "https://localhost:8080/",
          "height": 35
        },
        "id": "Lyo4rqn15jFQ",
        "outputId": "a7ca25f6-45f2-4324-d615-73dc4401f04d"
      },
      "execution_count": null,
      "outputs": [
        {
          "output_type": "execute_result",
          "data": {
            "text/plain": [
              "'e agora jose?'"
            ],
            "application/vnd.google.colaboratory.intrinsic+json": {
              "type": "string"
            }
          },
          "metadata": {},
          "execution_count": 42
        }
      ]
    },
    {
      "cell_type": "markdown",
      "source": [
        "**Métodos de substituição de partes da sting**"
      ],
      "metadata": {
        "id": "ULVGozDe63yr"
      }
    },
    {
      "cell_type": "code",
      "source": [
        "# .replace\n",
        "\n",
        "'e agora jose?'.replace('jose', 'João') ## trocar trechos da str"
      ],
      "metadata": {
        "colab": {
          "base_uri": "https://localhost:8080/",
          "height": 35
        },
        "id": "-1Tv7PVQ5qN5",
        "outputId": "809078c9-ebeb-4a5e-e7b8-cf492085b966"
      },
      "execution_count": null,
      "outputs": [
        {
          "output_type": "execute_result",
          "data": {
            "text/plain": [
              "'e agora João?'"
            ],
            "application/vnd.google.colaboratory.intrinsic+json": {
              "type": "string"
            }
          },
          "metadata": {},
          "execution_count": 43
        }
      ]
    },
    {
      "cell_type": "code",
      "source": [
        "'e ;.,..; jose'.replace(';.,..;', '') #pode ser usado para limpa no meio da str"
      ],
      "metadata": {
        "colab": {
          "base_uri": "https://localhost:8080/",
          "height": 35
        },
        "id": "QL6kJ2FO8Kq9",
        "outputId": "8a259d74-59a1-445b-c3f2-3f83550a1071"
      },
      "execution_count": 30,
      "outputs": [
        {
          "output_type": "execute_result",
          "data": {
            "text/plain": [
              "'e  jose'"
            ],
            "application/vnd.google.colaboratory.intrinsic+json": {
              "type": "string"
            }
          },
          "metadata": {},
          "execution_count": 30
        }
      ]
    },
    {
      "cell_type": "code",
      "source": [
        "#  A dunção .maketrans() cria uma tabela de tradução chamada trantab\n",
        "# A função .translate() usa a tabela trantab para substituir cada ocorrência dos caracteres em 'aeiou' com os correspondentes números de '12345'.\n",
        "\n",
        "trantab = 'e agora jose?'.maketrans('aeiou', '12345') # substituição por tradução\n",
        "print(trantab)\n"
      ],
      "metadata": {
        "colab": {
          "base_uri": "https://localhost:8080/"
        },
        "id": "TH8FHCG38jZV",
        "outputId": "85a925fe-189a-4280-ada1-1a81bbb25846"
      },
      "execution_count": 1,
      "outputs": [
        {
          "output_type": "stream",
          "name": "stdout",
          "text": [
            "{97: 49, 101: 50, 105: 51, 111: 52, 117: 53}\n"
          ]
        }
      ]
    },
    {
      "cell_type": "code",
      "source": [
        "'e agora jose?'.translate(trantab)"
      ],
      "metadata": {
        "colab": {
          "base_uri": "https://localhost:8080/",
          "height": 35
        },
        "id": "ZUNG2tNuWm5D",
        "outputId": "7dc3e9c3-a4aa-4da4-fac2-9c094d2927b2"
      },
      "execution_count": 2,
      "outputs": [
        {
          "output_type": "execute_result",
          "data": {
            "text/plain": [
              "'2 1g4r1 j4s2?'"
            ],
            "application/vnd.google.colaboratory.intrinsic+json": {
              "type": "string"
            }
          },
          "metadata": {},
          "execution_count": 2
        }
      ]
    },
    {
      "cell_type": "markdown",
      "source": [
        "**Métodos de fariamento de strings**"
      ],
      "metadata": {
        "id": "IDG4xGZ6BWjW"
      }
    },
    {
      "cell_type": "code",
      "source": [
        "# .split()\n",
        "\n",
        "'e agora jose? e agora jose?'.split()  # quebra em varias partes, cada espaço em branco ela forma outra lista"
      ],
      "metadata": {
        "colab": {
          "base_uri": "https://localhost:8080/"
        },
        "id": "WyX_UfemBbTF",
        "outputId": "2c51c024-8081-42aa-9d97-1654a28d7ecc"
      },
      "execution_count": 5,
      "outputs": [
        {
          "output_type": "execute_result",
          "data": {
            "text/plain": [
              "['e', 'agora', 'jose?', 'e', 'agora', 'jose?']"
            ]
          },
          "metadata": {},
          "execution_count": 5
        }
      ]
    },
    {
      "cell_type": "code",
      "source": [
        "'10,52,41,265,242'.split(',')  # separa em lista"
      ],
      "metadata": {
        "colab": {
          "base_uri": "https://localhost:8080/"
        },
        "id": "UvuzadsgBksr",
        "outputId": "04b392bd-7271-478b-b894-fe99ca04eebf"
      },
      "execution_count": null,
      "outputs": [
        {
          "output_type": "execute_result",
          "data": {
            "text/plain": [
              "['10', '52', '41', '265', '242']"
            ]
          },
          "metadata": {},
          "execution_count": 53
        }
      ]
    },
    {
      "cell_type": "code",
      "source": [
        "'e agora jose? e agora jose?'.split(' ', 3) # fatie até 3x"
      ],
      "metadata": {
        "colab": {
          "base_uri": "https://localhost:8080/"
        },
        "id": "zBSxpceTBxCx",
        "outputId": "100382ec-707a-4cd2-e0cd-d9e9ab2fd29f"
      },
      "execution_count": null,
      "outputs": [
        {
          "output_type": "execute_result",
          "data": {
            "text/plain": [
              "['e', 'agora', 'jose?', 'e agora jose?']"
            ]
          },
          "metadata": {},
          "execution_count": 56
        }
      ]
    },
    {
      "cell_type": "code",
      "source": [
        "# .rslit()\n",
        "\n",
        "'e agora jose? e agora jose?'.rsplit() # quabra apartir da direita"
      ],
      "metadata": {
        "colab": {
          "base_uri": "https://localhost:8080/"
        },
        "id": "S-rdxYCoB2LL",
        "outputId": "421f2933-7fa2-4d63-bad5-c1c0fe376fed"
      },
      "execution_count": null,
      "outputs": [
        {
          "output_type": "execute_result",
          "data": {
            "text/plain": [
              "['e', 'agora', 'jose?', 'e', 'agora', 'jose?']"
            ]
          },
          "metadata": {},
          "execution_count": 58
        }
      ]
    },
    {
      "cell_type": "code",
      "source": [
        "# .partition()\n",
        "\n",
        "'e agora jose? e agora jose?'.partition('agora') # vai separarm 3 partes"
      ],
      "metadata": {
        "colab": {
          "base_uri": "https://localhost:8080/"
        },
        "id": "S4Qxj9ENCSn1",
        "outputId": "6c25ad4e-c1c8-438c-f987-9548146fe9fc"
      },
      "execution_count": null,
      "outputs": [
        {
          "output_type": "execute_result",
          "data": {
            "text/plain": [
              "('e ', 'agora', ' jose? e agora jose?')"
            ]
          },
          "metadata": {},
          "execution_count": 65
        }
      ]
    },
    {
      "cell_type": "code",
      "source": [
        "'e agora jose?'.partition('o')  # tras a palavra o q vem antes e o que vem depois"
      ],
      "metadata": {
        "colab": {
          "base_uri": "https://localhost:8080/"
        },
        "id": "1rP7q81eYe-8",
        "outputId": "71bfec5d-0dae-4914-c20d-717d2c3ad191"
      },
      "execution_count": 6,
      "outputs": [
        {
          "output_type": "execute_result",
          "data": {
            "text/plain": [
              "('e ag', 'o', 'ra jose?')"
            ]
          },
          "metadata": {},
          "execution_count": 6
        }
      ]
    },
    {
      "cell_type": "code",
      "source": [
        "data = '2023-08-30'\n",
        "data.split('-')[0]"
      ],
      "metadata": {
        "colab": {
          "base_uri": "https://localhost:8080/",
          "height": 35
        },
        "id": "N3aDH74-Cbt3",
        "outputId": "f9ad24d8-54c1-4a0d-fd57-08dc0b7db644"
      },
      "execution_count": 7,
      "outputs": [
        {
          "output_type": "execute_result",
          "data": {
            "text/plain": [
              "'2023'"
            ],
            "application/vnd.google.colaboratory.intrinsic+json": {
              "type": "string"
            }
          },
          "metadata": {},
          "execution_count": 7
        }
      ]
    },
    {
      "cell_type": "code",
      "source": [
        "'e agora jose? e agora jose?'.rpartition('agora') ## ler a variavel no sentido inverso"
      ],
      "metadata": {
        "colab": {
          "base_uri": "https://localhost:8080/"
        },
        "id": "Av9lF8iZCtiL",
        "outputId": "e727ab7b-f061-4447-9121-16bbbb06b415"
      },
      "execution_count": null,
      "outputs": [
        {
          "output_type": "execute_result",
          "data": {
            "text/plain": [
              "('e agora jose? e ', 'agora', ' jose?')"
            ]
          },
          "metadata": {},
          "execution_count": 64
        }
      ]
    },
    {
      "cell_type": "code",
      "source": [
        "# .splitlines()\n",
        "\n",
        "''' Decidi me entregar\n",
        "Com toda alma e coração\n",
        "E aceitar, que essa relação\n",
        "Já tomara um caminho diferente\n",
        "Mas o tempo passa e a nos enganamos.\n",
        "Esperamos...\n",
        "Como um beijo pode mudar toda a situação?\n",
        "Palavras em vão,\n",
        "Vazias,\n",
        "mas cheias o suficiente pra ferir,\n",
        "A vida passa '''.splitlines()[4]    # pega a linha do parametro do texto"
      ],
      "metadata": {
        "colab": {
          "base_uri": "https://localhost:8080/",
          "height": 35
        },
        "id": "RY_iEsJeDqqT",
        "outputId": "6329645d-4de8-42c8-e50c-9e687ed7b713"
      },
      "execution_count": 8,
      "outputs": [
        {
          "output_type": "execute_result",
          "data": {
            "text/plain": [
              "'Mas o tempo passa e a nos enganamos.'"
            ],
            "application/vnd.google.colaboratory.intrinsic+json": {
              "type": "string"
            }
          },
          "metadata": {},
          "execution_count": 8
        }
      ]
    },
    {
      "cell_type": "markdown",
      "source": [
        "**Método de formação de stings**"
      ],
      "metadata": {
        "id": "01n3j3_uD7AC"
      }
    },
    {
      "cell_type": "code",
      "source": [
        "# .format()\n",
        "\n",
        "'e {0} {1}'.format('agora','jose') # preencher os indeces"
      ],
      "metadata": {
        "id": "6VcqNslTD3h6",
        "colab": {
          "base_uri": "https://localhost:8080/",
          "height": 35
        },
        "outputId": "1b4e22d9-1e6b-47f7-d7eb-c837c063e75b"
      },
      "execution_count": 13,
      "outputs": [
        {
          "output_type": "execute_result",
          "data": {
            "text/plain": [
              "'e agora jose'"
            ],
            "application/vnd.google.colaboratory.intrinsic+json": {
              "type": "string"
            }
          },
          "metadata": {},
          "execution_count": 13
        }
      ]
    },
    {
      "cell_type": "code",
      "source": [
        "tempo = 'agora'\n",
        "nome = 'jose'\n",
        "\n",
        "'e {0} {1}'.format(tempo, nome) # preencedo por variavel"
      ],
      "metadata": {
        "colab": {
          "base_uri": "https://localhost:8080/",
          "height": 35
        },
        "id": "NUjW2JCLaq7m",
        "outputId": "92996a53-c90a-4e6e-e97a-1cb7a60a400a"
      },
      "execution_count": 14,
      "outputs": [
        {
          "output_type": "execute_result",
          "data": {
            "text/plain": [
              "'e agora jose'"
            ],
            "application/vnd.google.colaboratory.intrinsic+json": {
              "type": "string"
            }
          },
          "metadata": {},
          "execution_count": 14
        }
      ]
    },
    {
      "cell_type": "code",
      "source": [
        "partes = {'tempo': 'agora',    # passar como parametro um dicionario\n",
        "          'nome': 'jose'}\n",
        "\n",
        "'e {tempo} {nome}'.format(**partes)"
      ],
      "metadata": {
        "colab": {
          "base_uri": "https://localhost:8080/",
          "height": 35
        },
        "id": "EHwqbEUZayCR",
        "outputId": "bfe8e45b-731a-4192-e1dc-922bb4303bb3"
      },
      "execution_count": 16,
      "outputs": [
        {
          "output_type": "execute_result",
          "data": {
            "text/plain": [
              "'e agora jose'"
            ],
            "application/vnd.google.colaboratory.intrinsic+json": {
              "type": "string"
            }
          },
          "metadata": {},
          "execution_count": 16
        }
      ]
    },
    {
      "cell_type": "code",
      "source": [
        "# f\n",
        "\n",
        "tempo = 'agora'\n",
        "nome = 'jose'\n",
        "\n",
        "\n",
        "f'e {tempo} {nome}'"
      ],
      "metadata": {
        "colab": {
          "base_uri": "https://localhost:8080/",
          "height": 35
        },
        "id": "muh9kwo3bU1f",
        "outputId": "7ad60d8a-cc51-4de4-d907-5154d8d47ba9"
      },
      "execution_count": 17,
      "outputs": [
        {
          "output_type": "execute_result",
          "data": {
            "text/plain": [
              "'e agora jose'"
            ],
            "application/vnd.google.colaboratory.intrinsic+json": {
              "type": "string"
            }
          },
          "metadata": {},
          "execution_count": 17
        }
      ]
    },
    {
      "cell_type": "markdown",
      "source": [
        "**Método de junção / concatenação de str**"
      ],
      "metadata": {
        "id": "KqXgBzVjbP4e"
      }
    },
    {
      "cell_type": "code",
      "source": [
        "# +\n",
        "\n",
        "'e' + ' ' + 'agora' + ' ' + 'jose'"
      ],
      "metadata": {
        "colab": {
          "base_uri": "https://localhost:8080/",
          "height": 35
        },
        "id": "o8uYnrSJbUXo",
        "outputId": "5bae020f-7040-4eee-bdd8-19fb9e2bfe11"
      },
      "execution_count": 18,
      "outputs": [
        {
          "output_type": "execute_result",
          "data": {
            "text/plain": [
              "'e agora jose'"
            ],
            "application/vnd.google.colaboratory.intrinsic+json": {
              "type": "string"
            }
          },
          "metadata": {},
          "execution_count": 18
        }
      ]
    },
    {
      "cell_type": "code",
      "source": [
        "# .join()\n",
        "\n",
        "\" \".join(['e', 'agora', 'jose?'])"
      ],
      "metadata": {
        "colab": {
          "base_uri": "https://localhost:8080/",
          "height": 35
        },
        "id": "Vfzk0_Gjbu0Q",
        "outputId": "7af67766-7ebe-48c3-f420-f8184c9b6ab9"
      },
      "execution_count": 19,
      "outputs": [
        {
          "output_type": "execute_result",
          "data": {
            "text/plain": [
              "'e agora jose?'"
            ],
            "application/vnd.google.colaboratory.intrinsic+json": {
              "type": "string"
            }
          },
          "metadata": {},
          "execution_count": 19
        }
      ]
    },
    {
      "cell_type": "code",
      "source": [
        "\"-\".join(['e', 'agora', 'jose?'])"
      ],
      "metadata": {
        "colab": {
          "base_uri": "https://localhost:8080/",
          "height": 35
        },
        "id": "lzf8JcKKb3TO",
        "outputId": "764805a3-1399-48bc-fdfb-cf4997827ba1"
      },
      "execution_count": 20,
      "outputs": [
        {
          "output_type": "execute_result",
          "data": {
            "text/plain": [
              "'e-agora-jose?'"
            ],
            "application/vnd.google.colaboratory.intrinsic+json": {
              "type": "string"
            }
          },
          "metadata": {},
          "execution_count": 20
        }
      ]
    },
    {
      "cell_type": "code",
      "source": [
        "\"|\".join(['e', 'agora', 'jose?'])"
      ],
      "metadata": {
        "colab": {
          "base_uri": "https://localhost:8080/",
          "height": 35
        },
        "id": "AVAl2y_ob_A4",
        "outputId": "c5c779f4-9d4b-485c-b9ff-f83ad3c37563"
      },
      "execution_count": 21,
      "outputs": [
        {
          "output_type": "execute_result",
          "data": {
            "text/plain": [
              "'e|agora|jose?'"
            ],
            "application/vnd.google.colaboratory.intrinsic+json": {
              "type": "string"
            }
          },
          "metadata": {},
          "execution_count": 21
        }
      ]
    },
    {
      "cell_type": "code",
      "source": [
        "';'.join('e-agora-jose?'.split('-'))"
      ],
      "metadata": {
        "colab": {
          "base_uri": "https://localhost:8080/",
          "height": 35
        },
        "id": "t7ltiz1tesnQ",
        "outputId": "d82f223f-c901-44ab-cf58-c9863c54cd94"
      },
      "execution_count": 23,
      "outputs": [
        {
          "output_type": "execute_result",
          "data": {
            "text/plain": [
              "'e;agora;jose?'"
            ],
            "application/vnd.google.colaboratory.intrinsic+json": {
              "type": "string"
            }
          },
          "metadata": {},
          "execution_count": 23
        }
      ]
    },
    {
      "cell_type": "markdown",
      "source": [
        "Métodos de checagem do contéudo da str"
      ],
      "metadata": {
        "id": "cRY5joRFeHpM"
      }
    },
    {
      "cell_type": "code",
      "source": [
        "#.rfind()\n",
        "\n",
        "'e agora jose?'.rfind('agora')  # procura uma palavra e localiza a primeira find da direita --- dizer qual é o indece do parametro"
      ],
      "metadata": {
        "colab": {
          "base_uri": "https://localhost:8080/"
        },
        "id": "NC_OwKf-cG0m",
        "outputId": "110ce459-25ea-4c56-f441-2fec20a7eaf7"
      },
      "execution_count": 56,
      "outputs": [
        {
          "output_type": "execute_result",
          "data": {
            "text/plain": [
              "2"
            ]
          },
          "metadata": {},
          "execution_count": 56
        }
      ]
    },
    {
      "cell_type": "code",
      "source": [
        "# .startswith\n",
        "\n",
        "'e agora jose?'.startswith('') # se a palavra começa com o intervado que está em parametro"
      ],
      "metadata": {
        "colab": {
          "base_uri": "https://localhost:8080/"
        },
        "id": "3CFUpaL_e6kb",
        "outputId": "a760cc38-18b5-4abd-92a5-caa25f3d4d57"
      },
      "execution_count": 25,
      "outputs": [
        {
          "output_type": "execute_result",
          "data": {
            "text/plain": [
              "True"
            ]
          },
          "metadata": {},
          "execution_count": 25
        }
      ]
    },
    {
      "cell_type": "code",
      "source": [
        "# .endswith\n",
        "\n",
        "'e agora jose?'.endswith('?') # termina com"
      ],
      "metadata": {
        "colab": {
          "base_uri": "https://localhost:8080/"
        },
        "id": "j_Gzm1RNfY81",
        "outputId": "749d5ebe-9df3-414a-a085-10c065fdedbd"
      },
      "execution_count": 26,
      "outputs": [
        {
          "output_type": "execute_result",
          "data": {
            "text/plain": [
              "True"
            ]
          },
          "metadata": {},
          "execution_count": 26
        }
      ]
    },
    {
      "cell_type": "code",
      "source": [
        "# .find()\n",
        "\n",
        "'e agora jose?'.find('a') # em que indice está a primeria do parametro dado"
      ],
      "metadata": {
        "colab": {
          "base_uri": "https://localhost:8080/"
        },
        "id": "Z3K-g-zEfu7X",
        "outputId": "4ca94f48-2352-4a72-a2ff-792c4c68b4d0"
      },
      "execution_count": 28,
      "outputs": [
        {
          "output_type": "execute_result",
          "data": {
            "text/plain": [
              "2"
            ]
          },
          "metadata": {},
          "execution_count": 28
        }
      ]
    },
    {
      "cell_type": "code",
      "source": [
        "# .index()\n",
        "\n",
        "'e agora jose?'.index('j') # achar o indice que começa"
      ],
      "metadata": {
        "colab": {
          "base_uri": "https://localhost:8080/"
        },
        "id": "3USHrnIFgMsH",
        "outputId": "135043b0-64c6-4323-d12b-6aa4e649800a"
      },
      "execution_count": 29,
      "outputs": [
        {
          "output_type": "execute_result",
          "data": {
            "text/plain": [
              "8"
            ]
          },
          "metadata": {},
          "execution_count": 29
        }
      ]
    },
    {
      "cell_type": "code",
      "source": [
        "# .count()\n",
        "\n",
        "'e agora jose?'.count('o') # contar a quantidade"
      ],
      "metadata": {
        "colab": {
          "base_uri": "https://localhost:8080/"
        },
        "id": "jSyxkgjKgUnI",
        "outputId": "ea13afb2-83d8-49bd-aea3-be960e9e78df"
      },
      "execution_count": 31,
      "outputs": [
        {
          "output_type": "execute_result",
          "data": {
            "text/plain": [
              "2"
            ]
          },
          "metadata": {},
          "execution_count": 31
        }
      ]
    },
    {
      "cell_type": "code",
      "source": [
        "# isalnum()\n",
        "\n",
        "'e agora jose?'.isalnum() # se é alfanumerico ?"
      ],
      "metadata": {
        "colab": {
          "base_uri": "https://localhost:8080/"
        },
        "id": "BVd4cShhgd54",
        "outputId": "65a411f7-c342-472e-cd67-f3d871cd113f"
      },
      "execution_count": 32,
      "outputs": [
        {
          "output_type": "execute_result",
          "data": {
            "text/plain": [
              "False"
            ]
          },
          "metadata": {},
          "execution_count": 32
        }
      ]
    },
    {
      "cell_type": "code",
      "source": [
        "'2541682'.isalnum()"
      ],
      "metadata": {
        "colab": {
          "base_uri": "https://localhost:8080/"
        },
        "id": "i3LYyOE3gnwL",
        "outputId": "228e9a19-46c5-4b95-94d6-a3dcc61b43d7"
      },
      "execution_count": 33,
      "outputs": [
        {
          "output_type": "execute_result",
          "data": {
            "text/plain": [
              "True"
            ]
          },
          "metadata": {},
          "execution_count": 33
        }
      ]
    },
    {
      "cell_type": "code",
      "source": [
        "# .isalpha()\n",
        "\n",
        "'e agora jose?'.isalpha() #só contem letras do alfabeto?"
      ],
      "metadata": {
        "colab": {
          "base_uri": "https://localhost:8080/"
        },
        "id": "VdtMWDv9guD1",
        "outputId": "f4a8fbe6-47eb-4226-e82a-94e4a64f73a9"
      },
      "execution_count": 34,
      "outputs": [
        {
          "output_type": "execute_result",
          "data": {
            "text/plain": [
              "False"
            ]
          },
          "metadata": {},
          "execution_count": 34
        }
      ]
    },
    {
      "cell_type": "code",
      "source": [
        "'agorajose'.isalpha()"
      ],
      "metadata": {
        "colab": {
          "base_uri": "https://localhost:8080/"
        },
        "id": "Al4PgmFfg8Kj",
        "outputId": "0c81b3a8-8e4e-4476-f563-7e447ff18b9f"
      },
      "execution_count": 35,
      "outputs": [
        {
          "output_type": "execute_result",
          "data": {
            "text/plain": [
              "True"
            ]
          },
          "metadata": {},
          "execution_count": 35
        }
      ]
    },
    {
      "cell_type": "code",
      "source": [
        "# .isdecimal()\n",
        "\n",
        "'e agora jose?'.isdecimal() # se é decimal?"
      ],
      "metadata": {
        "colab": {
          "base_uri": "https://localhost:8080/"
        },
        "id": "_3OhZOFUhD_m",
        "outputId": "3151b20f-27f5-44fc-c49a-eabf8212e453"
      },
      "execution_count": 36,
      "outputs": [
        {
          "output_type": "execute_result",
          "data": {
            "text/plain": [
              "False"
            ]
          },
          "metadata": {},
          "execution_count": 36
        }
      ]
    },
    {
      "cell_type": "code",
      "source": [
        "'12345678'.isdecimal()"
      ],
      "metadata": {
        "colab": {
          "base_uri": "https://localhost:8080/"
        },
        "id": "F50hhIakhTlZ",
        "outputId": "c5179bd1-efd9-446c-8803-06f5e4fb2472"
      },
      "execution_count": 37,
      "outputs": [
        {
          "output_type": "execute_result",
          "data": {
            "text/plain": [
              "True"
            ]
          },
          "metadata": {},
          "execution_count": 37
        }
      ]
    },
    {
      "cell_type": "code",
      "source": [
        "'12354,1265'.isdecimal()"
      ],
      "metadata": {
        "colab": {
          "base_uri": "https://localhost:8080/"
        },
        "id": "LLLowU-5hX5U",
        "outputId": "19b6df82-86ff-424b-aa2b-3864a239925e"
      },
      "execution_count": 38,
      "outputs": [
        {
          "output_type": "execute_result",
          "data": {
            "text/plain": [
              "False"
            ]
          },
          "metadata": {},
          "execution_count": 38
        }
      ]
    },
    {
      "cell_type": "code",
      "source": [
        "# .isdigit()\n",
        "\n",
        "'e agora jose?'.isdigit() # se todos são algorismos"
      ],
      "metadata": {
        "colab": {
          "base_uri": "https://localhost:8080/"
        },
        "id": "1CIe94Mnhg3_",
        "outputId": "68ea98b0-dcee-4b58-f7d4-a0adb63fb3d6"
      },
      "execution_count": 39,
      "outputs": [
        {
          "output_type": "execute_result",
          "data": {
            "text/plain": [
              "False"
            ]
          },
          "metadata": {},
          "execution_count": 39
        }
      ]
    },
    {
      "cell_type": "code",
      "source": [
        "'1234567'.isdigit"
      ],
      "metadata": {
        "colab": {
          "base_uri": "https://localhost:8080/"
        },
        "id": "8_VBVYpthrBl",
        "outputId": "afe20cac-63ae-4316-aa9d-905e44cd6ba9"
      },
      "execution_count": 40,
      "outputs": [
        {
          "output_type": "execute_result",
          "data": {
            "text/plain": [
              "True"
            ]
          },
          "metadata": {},
          "execution_count": 40
        }
      ]
    },
    {
      "cell_type": "code",
      "source": [
        "# .isidentifier\n",
        "\n",
        "'e agora jose?'.isidentifier() # se atende as condições para ser nome de variável"
      ],
      "metadata": {
        "colab": {
          "base_uri": "https://localhost:8080/"
        },
        "id": "A6Bx2Oy3ht65",
        "outputId": "5cf6335b-6cbf-45fb-f4ce-12cc90783e17"
      },
      "execution_count": 41,
      "outputs": [
        {
          "output_type": "execute_result",
          "data": {
            "text/plain": [
              "False"
            ]
          },
          "metadata": {},
          "execution_count": 41
        }
      ]
    },
    {
      "cell_type": "markdown",
      "source": [
        "os identificadores podem ser uma combinação de letras em minúsculas (a-z) ou maiúsculas (A - Z) ou digitos(0 - 9) ou um sublinhado _"
      ],
      "metadata": {
        "id": "4617Tph6h994"
      }
    },
    {
      "cell_type": "code",
      "source": [
        "'nome_pessoa'.isidentifier()"
      ],
      "metadata": {
        "colab": {
          "base_uri": "https://localhost:8080/"
        },
        "id": "cKN6crNKh8oe",
        "outputId": "87c8b6c7-4a05-4153-f976-193fb1b3810f"
      },
      "execution_count": 42,
      "outputs": [
        {
          "output_type": "execute_result",
          "data": {
            "text/plain": [
              "True"
            ]
          },
          "metadata": {},
          "execution_count": 42
        }
      ]
    },
    {
      "cell_type": "code",
      "source": [
        "'1nome_pessoa'.isidentifier()"
      ],
      "metadata": {
        "colab": {
          "base_uri": "https://localhost:8080/"
        },
        "id": "pHpx1lMAjHHx",
        "outputId": "4b65b166-3e64-44ca-f9f8-2de02a175863"
      },
      "execution_count": 43,
      "outputs": [
        {
          "output_type": "execute_result",
          "data": {
            "text/plain": [
              "False"
            ]
          },
          "metadata": {},
          "execution_count": 43
        }
      ]
    },
    {
      "cell_type": "code",
      "source": [
        "'nome pessoa'.isidentifier()"
      ],
      "metadata": {
        "colab": {
          "base_uri": "https://localhost:8080/"
        },
        "id": "ZQZzTyzrjKdk",
        "outputId": "6a81725d-c395-4033-db7a-b1b16043c7fe"
      },
      "execution_count": 44,
      "outputs": [
        {
          "output_type": "execute_result",
          "data": {
            "text/plain": [
              "False"
            ]
          },
          "metadata": {},
          "execution_count": 44
        }
      ]
    },
    {
      "cell_type": "code",
      "source": [
        "'NOME_PESSOA'.isidentifier()"
      ],
      "metadata": {
        "colab": {
          "base_uri": "https://localhost:8080/"
        },
        "id": "UAVFfBiUjKvg",
        "outputId": "062d6299-a516-4eaa-9926-cb90761cc0ab"
      },
      "execution_count": 45,
      "outputs": [
        {
          "output_type": "execute_result",
          "data": {
            "text/plain": [
              "True"
            ]
          },
          "metadata": {},
          "execution_count": 45
        }
      ]
    },
    {
      "cell_type": "code",
      "source": [
        "# .isnumeric()\n",
        "\n",
        "'e agora jose?'.isnumeric() # se é um numero"
      ],
      "metadata": {
        "colab": {
          "base_uri": "https://localhost:8080/"
        },
        "id": "3o2Scb27jRWZ",
        "outputId": "9a909bb1-1136-4679-b4ac-5f0830165260"
      },
      "execution_count": 46,
      "outputs": [
        {
          "output_type": "execute_result",
          "data": {
            "text/plain": [
              "False"
            ]
          },
          "metadata": {},
          "execution_count": 46
        }
      ]
    },
    {
      "cell_type": "code",
      "source": [
        "'123456254'.isnumeric"
      ],
      "metadata": {
        "colab": {
          "base_uri": "https://localhost:8080/"
        },
        "id": "1gx9cOHDjbND",
        "outputId": "8b5fca23-d106-4d8f-f093-77e09b59a706"
      },
      "execution_count": 47,
      "outputs": [
        {
          "output_type": "execute_result",
          "data": {
            "text/plain": [
              "True"
            ]
          },
          "metadata": {},
          "execution_count": 47
        }
      ]
    },
    {
      "cell_type": "code",
      "source": [
        "# .isprintable()\n",
        "\n",
        "'e agora jose?'.isprintable() #se é imprimivél"
      ],
      "metadata": {
        "colab": {
          "base_uri": "https://localhost:8080/"
        },
        "id": "oDgM-2kzjizT",
        "outputId": "5a7df54a-f35e-4113-c672-238b7e070435"
      },
      "execution_count": 48,
      "outputs": [
        {
          "output_type": "execute_result",
          "data": {
            "text/plain": [
              "True"
            ]
          },
          "metadata": {},
          "execution_count": 48
        }
      ]
    },
    {
      "cell_type": "code",
      "source": [
        "'e agora\\t jose?'.isidentifier()"
      ],
      "metadata": {
        "colab": {
          "base_uri": "https://localhost:8080/"
        },
        "id": "hvMIoVhtjpwI",
        "outputId": "a88f9872-aa77-426d-b532-4883bdb0a4e2"
      },
      "execution_count": 49,
      "outputs": [
        {
          "output_type": "execute_result",
          "data": {
            "text/plain": [
              "False"
            ]
          },
          "metadata": {},
          "execution_count": 49
        }
      ]
    },
    {
      "cell_type": "code",
      "source": [
        "# .isspace()\n",
        "\n",
        "'e agora jose?'.isspace() # verificar se ta tudo em branco"
      ],
      "metadata": {
        "colab": {
          "base_uri": "https://localhost:8080/"
        },
        "id": "kbVBWB_Cj1DT",
        "outputId": "8b4ef4cd-c9ff-439f-e168-d3fb0df4c576"
      },
      "execution_count": 50,
      "outputs": [
        {
          "output_type": "execute_result",
          "data": {
            "text/plain": [
              "False"
            ]
          },
          "metadata": {},
          "execution_count": 50
        }
      ]
    },
    {
      "cell_type": "code",
      "source": [
        "'                    '.isspace()"
      ],
      "metadata": {
        "colab": {
          "base_uri": "https://localhost:8080/"
        },
        "id": "sVnle00yj9TJ",
        "outputId": "8aef0fdf-ed2c-4daa-af04-66e2a41137d9"
      },
      "execution_count": 52,
      "outputs": [
        {
          "output_type": "execute_result",
          "data": {
            "text/plain": [
              "True"
            ]
          },
          "metadata": {},
          "execution_count": 52
        }
      ]
    },
    {
      "cell_type": "code",
      "source": [
        "'e agora jose'.rfind('o')# primeira ocorrencia vindo da direita"
      ],
      "metadata": {
        "colab": {
          "base_uri": "https://localhost:8080/"
        },
        "id": "W7gCQN0OkAln",
        "outputId": "16dd09d7-3b7e-44b1-ccb5-75ad75031ae3"
      },
      "execution_count": 64,
      "outputs": [
        {
          "output_type": "execute_result",
          "data": {
            "text/plain": [
              "9"
            ]
          },
          "metadata": {},
          "execution_count": 64
        }
      ]
    },
    {
      "cell_type": "code",
      "source": [
        "'e agora jose'.find('o') #primeira ocirrencia da esquerda"
      ],
      "metadata": {
        "colab": {
          "base_uri": "https://localhost:8080/"
        },
        "id": "m24-gz8Slrzb",
        "outputId": "e56c9784-c3f3-4921-d5ee-bd58cf489673"
      },
      "execution_count": 65,
      "outputs": [
        {
          "output_type": "execute_result",
          "data": {
            "text/plain": [
              "4"
            ]
          },
          "metadata": {},
          "execution_count": 65
        }
      ]
    },
    {
      "cell_type": "code",
      "source": [
        "'e agora jose'.rindex('o')# primeira ocorrencia vindo da direita"
      ],
      "metadata": {
        "colab": {
          "base_uri": "https://localhost:8080/"
        },
        "id": "JLdNFqN1kmqx",
        "outputId": "e25626b2-b5df-42c0-c7cd-baa263b9d319"
      },
      "execution_count": 61,
      "outputs": [
        {
          "output_type": "execute_result",
          "data": {
            "text/plain": [
              "9"
            ]
          },
          "metadata": {},
          "execution_count": 61
        }
      ]
    },
    {
      "cell_type": "code",
      "source": [
        "'agora' in  'e agora jose?'"
      ],
      "metadata": {
        "colab": {
          "base_uri": "https://localhost:8080/"
        },
        "id": "4ZAfl6Y5kroO",
        "outputId": "fa858af7-a834-49e1-d626-664a57c2a96c"
      },
      "execution_count": 62,
      "outputs": [
        {
          "output_type": "execute_result",
          "data": {
            "text/plain": [
              "True"
            ]
          },
          "metadata": {},
          "execution_count": 62
        }
      ]
    },
    {
      "cell_type": "markdown",
      "source": [
        "Caractere de escape\n",
        "\n",
        "-> pode ser usado para dar função especiais a determinado caracters"
      ],
      "metadata": {
        "id": "7rAInPlTl8iw"
      }
    },
    {
      "cell_type": "code",
      "source": [
        "print('e agora \\n jose?') # \\n quebra de linha"
      ],
      "metadata": {
        "colab": {
          "base_uri": "https://localhost:8080/"
        },
        "id": "6bD47oG_l7yu",
        "outputId": "f14877fd-9cc2-41b9-d68f-32d150d8ba5d"
      },
      "execution_count": 66,
      "outputs": [
        {
          "output_type": "stream",
          "name": "stdout",
          "text": [
            "e agora \n",
            " jose?\n"
          ]
        }
      ]
    },
    {
      "cell_type": "code",
      "source": [
        "print('e agora \\t jose?') # \\t tabulação -> tab"
      ],
      "metadata": {
        "colab": {
          "base_uri": "https://localhost:8080/"
        },
        "id": "-ZIg6QiNmClu",
        "outputId": "86f6e225-388a-4a52-f3c8-d650c61b1274"
      },
      "execution_count": 67,
      "outputs": [
        {
          "output_type": "stream",
          "name": "stdout",
          "text": [
            "e agora \t jose?\n"
          ]
        }
      ]
    },
    {
      "cell_type": "markdown",
      "source": [
        "para inserir caracteres ilegais em str, como por ex.: uma aspa dupla dentro de uma str que está entre aspas duplas (o mesmo vale para aspas simples)"
      ],
      "metadata": {
        "id": "QvF949U-mY00"
      }
    },
    {
      "cell_type": "code",
      "source": [
        "print(\"e agora \\\"jose\\\"?\")"
      ],
      "metadata": {
        "colab": {
          "base_uri": "https://localhost:8080/"
        },
        "id": "i--Anfohmo8u",
        "outputId": "6d0befd0-113d-4903-ffb5-3b93537ac233"
      },
      "execution_count": 68,
      "outputs": [
        {
          "output_type": "stream",
          "name": "stdout",
          "text": [
            "e agora \"jose\"?\n"
          ]
        }
      ]
    },
    {
      "cell_type": "code",
      "source": [
        "print('e agora \\'jose\\'?')"
      ],
      "metadata": {
        "colab": {
          "base_uri": "https://localhost:8080/"
        },
        "id": "DhHAhE3qnXqS",
        "outputId": "4a7f803c-255c-4b94-fdb9-0f37d2f8bd0a"
      },
      "execution_count": 75,
      "outputs": [
        {
          "output_type": "stream",
          "name": "stdout",
          "text": [
            "e agora 'jose'?\n"
          ]
        }
      ]
    },
    {
      "cell_type": "code",
      "source": [
        "print(\"e agora \\'jose\\'?\")"
      ],
      "metadata": {
        "colab": {
          "base_uri": "https://localhost:8080/"
        },
        "id": "gKj_JSMjmvXl",
        "outputId": "9c9f42df-26bd-443c-8f99-515634ffc57b"
      },
      "execution_count": 76,
      "outputs": [
        {
          "output_type": "stream",
          "name": "stdout",
          "text": [
            "e agora 'jose'?\n"
          ]
        }
      ]
    },
    {
      "cell_type": "markdown",
      "source": [
        "Multiplicando strings\n",
        "\n",
        "string pode ser repetidas pelo operador de multiplicação"
      ],
      "metadata": {
        "id": "snhBMVENno9H"
      }
    },
    {
      "cell_type": "code",
      "source": [
        "print('*'*100)"
      ],
      "metadata": {
        "colab": {
          "base_uri": "https://localhost:8080/"
        },
        "id": "3a2Iis4fnstq",
        "outputId": "dca1d017-5f73-4d80-f02f-3ac6d2bf952b"
      },
      "execution_count": 83,
      "outputs": [
        {
          "output_type": "stream",
          "name": "stdout",
          "text": [
            "****************************************************************************************************\n"
          ]
        }
      ]
    },
    {
      "cell_type": "code",
      "source": [
        "print('-'*100)"
      ],
      "metadata": {
        "colab": {
          "base_uri": "https://localhost:8080/"
        },
        "id": "rJmh9MgZn3eV",
        "outputId": "bad1ee3f-795c-4c18-c45c-cb8aaf86059d"
      },
      "execution_count": 79,
      "outputs": [
        {
          "output_type": "stream",
          "name": "stdout",
          "text": [
            "----------------------------------------------------------------------------------------------------\n"
          ]
        }
      ]
    },
    {
      "cell_type": "code",
      "source": [
        "print('xx'*50)"
      ],
      "metadata": {
        "colab": {
          "base_uri": "https://localhost:8080/"
        },
        "id": "fqv92MOJn6oy",
        "outputId": "0c8bd029-bc18-4419-ae46-273dcc9af319"
      },
      "execution_count": 81,
      "outputs": [
        {
          "output_type": "stream",
          "name": "stdout",
          "text": [
            "xxxxxxxxxxxxxxxxxxxxxxxxxxxxxxxxxxxxxxxxxxxxxxxxxxxxxxxxxxxxxxxxxxxxxxxxxxxxxxxxxxxxxxxxxxxxxxxxxxxx\n"
          ]
        }
      ]
    }
  ]
}