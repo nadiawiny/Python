{
  "nbformat": 4,
  "nbformat_minor": 0,
  "metadata": {
    "colab": {
      "provenance": []
    },
    "kernelspec": {
      "name": "python3",
      "display_name": "Python 3"
    },
    "language_info": {
      "name": "python"
    }
  },
  "cells": [
    {
      "cell_type": "markdown",
      "source": [
        "Algoritmo -- sobre Python"
      ],
      "metadata": {
        "id": "9MI9QFo8RoZS"
      }
    },
    {
      "cell_type": "code",
      "source": [
        "print(\"Hello word\")"
      ],
      "metadata": {
        "colab": {
          "base_uri": "https://localhost:8080/"
        },
        "id": "Rt-eAP0QRmyd",
        "outputId": "d887daaf-2eb9-4e74-b134-2daa36f5ac64"
      },
      "execution_count": 1,
      "outputs": [
        {
          "output_type": "stream",
          "name": "stdout",
          "text": [
            "Hello word\n"
          ]
        }
      ]
    },
    {
      "cell_type": "markdown",
      "source": [
        "Tipos de dados: Int, Float"
      ],
      "metadata": {
        "id": "_eRPOFRSSxu5"
      }
    },
    {
      "cell_type": "code",
      "source": [
        "#int - inteiro\n",
        "# float - decimal\n",
        "\n",
        "x = 10\n",
        "y = 20.5"
      ],
      "metadata": {
        "id": "04IDzh1wS1Av"
      },
      "execution_count": 15,
      "outputs": []
    },
    {
      "cell_type": "code",
      "source": [
        "type(x)"
      ],
      "metadata": {
        "colab": {
          "base_uri": "https://localhost:8080/"
        },
        "id": "VtXDay-fS7wt",
        "outputId": "5b7a7fbb-e5a2-4c23-876c-3ad4c841c18e"
      },
      "execution_count": 19,
      "outputs": [
        {
          "output_type": "execute_result",
          "data": {
            "text/plain": [
              "int"
            ]
          },
          "metadata": {},
          "execution_count": 19
        }
      ]
    },
    {
      "cell_type": "code",
      "source": [
        "type(y)"
      ],
      "metadata": {
        "colab": {
          "base_uri": "https://localhost:8080/"
        },
        "id": "jL6tcNqZS_Gx",
        "outputId": "4c9e2570-314b-45fa-8016-3ac168eb872a"
      },
      "execution_count": 16,
      "outputs": [
        {
          "output_type": "execute_result",
          "data": {
            "text/plain": [
              "float"
            ]
          },
          "metadata": {},
          "execution_count": 16
        }
      ]
    },
    {
      "cell_type": "markdown",
      "source": [
        "- soma/subtração/multiplicação de dois int’s —> resultado é um int\n",
        "- se ao menos um float aparece na expressão —> resultado é um float\n",
        "- divisão de dois int’s —> resultado é um float"
      ],
      "metadata": {
        "id": "HngZbv5_TXUK"
      }
    },
    {
      "cell_type": "markdown",
      "source": [
        "**`Funções matemáticas`**"
      ],
      "metadata": {
        "id": "mnM04G98TbC4"
      }
    },
    {
      "cell_type": "code",
      "source": [
        "nint = -10\n",
        "nfloat = -5.2"
      ],
      "metadata": {
        "id": "1wD_h011TTWQ"
      },
      "execution_count": 36,
      "outputs": []
    },
    {
      "cell_type": "code",
      "source": [
        "abs (nint) # retona o valor absoluto de um número"
      ],
      "metadata": {
        "colab": {
          "base_uri": "https://localhost:8080/"
        },
        "id": "1TRJbWFHTlMQ",
        "outputId": "de1d7c36-90bd-46d3-9df8-bab85074d84e"
      },
      "execution_count": 33,
      "outputs": [
        {
          "output_type": "execute_result",
          "data": {
            "text/plain": [
              "10"
            ]
          },
          "metadata": {},
          "execution_count": 33
        }
      ]
    },
    {
      "cell_type": "code",
      "source": [
        "abs(nfloat)"
      ],
      "metadata": {
        "colab": {
          "base_uri": "https://localhost:8080/"
        },
        "id": "D8XD-Z8fUZ1o",
        "outputId": "7993edff-8072-431f-ecfd-047a25395d87"
      },
      "execution_count": 37,
      "outputs": [
        {
          "output_type": "execute_result",
          "data": {
            "text/plain": [
              "5.2"
            ]
          },
          "metadata": {},
          "execution_count": 37
        }
      ]
    },
    {
      "cell_type": "code",
      "source": [
        "n1 = (10, 5, 8, 4, 50, 44, 20)"
      ],
      "metadata": {
        "id": "BmWdrrFOUmga"
      },
      "execution_count": 42,
      "outputs": []
    },
    {
      "cell_type": "code",
      "source": [
        "min(n1) # retorna o valor mínimo"
      ],
      "metadata": {
        "colab": {
          "base_uri": "https://localhost:8080/"
        },
        "id": "DcgMRhfoTk30",
        "outputId": "ec7046d5-5e3e-45c5-d8ce-50513e482c29"
      },
      "execution_count": 43,
      "outputs": [
        {
          "output_type": "execute_result",
          "data": {
            "text/plain": [
              "4"
            ]
          },
          "metadata": {},
          "execution_count": 43
        }
      ]
    },
    {
      "cell_type": "code",
      "source": [
        "max(n1) # retorna o valor máximo"
      ],
      "metadata": {
        "colab": {
          "base_uri": "https://localhost:8080/"
        },
        "id": "y929hWRFU79H",
        "outputId": "da668bea-1a9f-4242-c9cd-564183d71a11"
      },
      "execution_count": 44,
      "outputs": [
        {
          "output_type": "execute_result",
          "data": {
            "text/plain": [
              "50"
            ]
          },
          "metadata": {},
          "execution_count": 44
        }
      ]
    },
    {
      "cell_type": "markdown",
      "source": [
        "Variáveis - variável é um nome que é atribuído a um objeto(um número por exemplo)"
      ],
      "metadata": {
        "id": "jHeWo9OrVETW"
      }
    },
    {
      "cell_type": "markdown",
      "source": [
        "Os nomes de variáveis podem conter **caracteres em minúsculo** (a-z), **maiúsculo** (A-Z), **underscore** (_), e exceto para o primeiro caracter, os dígitos de 0 a 9.\n",
        "\n",
        "**ex.:**\n",
        "\n",
        "`myList, List —> ok`                       `5list —> ERRO!`\n",
        "\n",
        "`list6, I_6 —> ok`                              `list-3 —> ERRO!`"
      ],
      "metadata": {
        "id": "PkPARZQFVQxe"
      }
    },
    {
      "cell_type": "markdown",
      "source": [
        "**Strings**\n",
        "\n",
        "O tipo str é usado para representar e manipular texto ou uma sequência de caracteres, incluindo espaço em branco, pontuação e símbolos diferentes.\n",
        "\n",
        "a = “Algoritmos e Programação”"
      ],
      "metadata": {
        "id": "8PeMnGkmVWjn"
      }
    },
    {
      "cell_type": "code",
      "source": [],
      "metadata": {
        "id": "UXDM2YKqVEAZ"
      },
      "execution_count": null,
      "outputs": []
    },
    {
      "cell_type": "code",
      "source": [
        "nome = \"maria\"\n",
        "\n",
        "nome"
      ],
      "metadata": {
        "colab": {
          "base_uri": "https://localhost:8080/",
          "height": 36
        },
        "id": "2y2ohn-fRulh",
        "outputId": "c257f4c1-9180-4c6d-e53c-88b0b229bd1d"
      },
      "execution_count": 3,
      "outputs": [
        {
          "output_type": "execute_result",
          "data": {
            "text/plain": [
              "'maria'"
            ],
            "application/vnd.google.colaboratory.intrinsic+json": {
              "type": "string"
            }
          },
          "metadata": {},
          "execution_count": 3
        }
      ]
    },
    {
      "cell_type": "code",
      "source": [
        "s = \"abcd\"\n",
        "\n",
        "s[-1]"
      ],
      "metadata": {
        "colab": {
          "base_uri": "https://localhost:8080/",
          "height": 36
        },
        "id": "YPF-5MVRR0kg",
        "outputId": "44599f84-5c13-489b-9d17-6e83808b2d01"
      },
      "execution_count": 6,
      "outputs": [
        {
          "output_type": "execute_result",
          "data": {
            "text/plain": [
              "'d'"
            ],
            "application/vnd.google.colaboratory.intrinsic+json": {
              "type": "string"
            }
          },
          "metadata": {},
          "execution_count": 6
        }
      ]
    },
    {
      "cell_type": "code",
      "source": [
        "s[-2]"
      ],
      "metadata": {
        "colab": {
          "base_uri": "https://localhost:8080/",
          "height": 36
        },
        "id": "mj3TQIpgR8Cx",
        "outputId": "9614dcd4-2c73-4f60-d2a3-a4205e851bd2"
      },
      "execution_count": 7,
      "outputs": [
        {
          "output_type": "execute_result",
          "data": {
            "text/plain": [
              "'c'"
            ],
            "application/vnd.google.colaboratory.intrinsic+json": {
              "type": "string"
            }
          },
          "metadata": {},
          "execution_count": 7
        }
      ]
    },
    {
      "cell_type": "code",
      "source": [
        "s[-4]"
      ],
      "metadata": {
        "colab": {
          "base_uri": "https://localhost:8080/",
          "height": 36
        },
        "id": "7P1kXeN_R8-5",
        "outputId": "8ed78193-493e-4007-943f-4a66d18d4aa5"
      },
      "execution_count": 8,
      "outputs": [
        {
          "output_type": "execute_result",
          "data": {
            "text/plain": [
              "'a'"
            ],
            "application/vnd.google.colaboratory.intrinsic+json": {
              "type": "string"
            }
          },
          "metadata": {},
          "execution_count": 8
        }
      ]
    },
    {
      "cell_type": "code",
      "source": [
        "s[0:2]   ## 0 posição inicial -- 2 posição final"
      ],
      "metadata": {
        "colab": {
          "base_uri": "https://localhost:8080/",
          "height": 36
        },
        "id": "mBQtMaArVg7T",
        "outputId": "1472b7fb-5cf0-4434-a18e-820e663feab5"
      },
      "execution_count": 45,
      "outputs": [
        {
          "output_type": "execute_result",
          "data": {
            "text/plain": [
              "'ab'"
            ],
            "application/vnd.google.colaboratory.intrinsic+json": {
              "type": "string"
            }
          },
          "metadata": {},
          "execution_count": 45
        }
      ]
    },
    {
      "cell_type": "code",
      "source": [
        "s[-4:-2]"
      ],
      "metadata": {
        "colab": {
          "base_uri": "https://localhost:8080/",
          "height": 36
        },
        "id": "4pkf2FrcVkOw",
        "outputId": "c09a5d26-4ab6-460a-b790-2df31ef52db6"
      },
      "execution_count": 46,
      "outputs": [
        {
          "output_type": "execute_result",
          "data": {
            "text/plain": [
              "'ab'"
            ],
            "application/vnd.google.colaboratory.intrinsic+json": {
              "type": "string"
            }
          },
          "metadata": {},
          "execution_count": 46
        }
      ]
    },
    {
      "cell_type": "code",
      "source": [
        "s[:3]"
      ],
      "metadata": {
        "colab": {
          "base_uri": "https://localhost:8080/",
          "height": 36
        },
        "id": "SsZsGIgEVm0v",
        "outputId": "138f2973-d3c8-47ca-c545-02d19210d9f2"
      },
      "execution_count": 47,
      "outputs": [
        {
          "output_type": "execute_result",
          "data": {
            "text/plain": [
              "'abc'"
            ],
            "application/vnd.google.colaboratory.intrinsic+json": {
              "type": "string"
            }
          },
          "metadata": {},
          "execution_count": 47
        }
      ]
    },
    {
      "cell_type": "code",
      "source": [
        "s[-1:] ## : até o final"
      ],
      "metadata": {
        "colab": {
          "base_uri": "https://localhost:8080/",
          "height": 36
        },
        "id": "ZuCyMRDyVoOX",
        "outputId": "03923577-1a40-4d46-c00e-9ffd689e6910"
      },
      "execution_count": 48,
      "outputs": [
        {
          "output_type": "execute_result",
          "data": {
            "text/plain": [
              "'d'"
            ],
            "application/vnd.google.colaboratory.intrinsic+json": {
              "type": "string"
            }
          },
          "metadata": {},
          "execution_count": 48
        }
      ]
    },
    {
      "cell_type": "markdown",
      "source": [
        "Métodos\n"
      ],
      "metadata": {
        "id": "jVyxwuSPVsRn"
      }
    },
    {
      "cell_type": "code",
      "source": [
        "tx = \"oi Camila, tudo bom? oi tudo sim\""
      ],
      "metadata": {
        "id": "0WM_eHSkWB7p"
      },
      "execution_count": 63,
      "outputs": []
    },
    {
      "cell_type": "code",
      "source": [
        "tx.find(\"Camila\") # retonra a posição inicial"
      ],
      "metadata": {
        "colab": {
          "base_uri": "https://localhost:8080/"
        },
        "id": "E4WqZY36VvCw",
        "outputId": "6cf26ebe-2904-44c6-e843-6e5e2e06599e"
      },
      "execution_count": 55,
      "outputs": [
        {
          "output_type": "execute_result",
          "data": {
            "text/plain": [
              "3"
            ]
          },
          "metadata": {},
          "execution_count": 55
        }
      ]
    },
    {
      "cell_type": "code",
      "source": [
        "tx.count(\"o\") # retorna a frequencia em que a substring aparece em tx"
      ],
      "metadata": {
        "colab": {
          "base_uri": "https://localhost:8080/"
        },
        "id": "wZxLMaYUX7mt",
        "outputId": "779f96d8-9bb1-4742-93e1-8a65293961b3"
      },
      "execution_count": 66,
      "outputs": [
        {
          "output_type": "execute_result",
          "data": {
            "text/plain": [
              "5"
            ]
          },
          "metadata": {},
          "execution_count": 66
        }
      ]
    },
    {
      "cell_type": "code",
      "source": [
        "tx.replace(\"o\", \"e\") # subsitirui um cacter por outro"
      ],
      "metadata": {
        "colab": {
          "base_uri": "https://localhost:8080/",
          "height": 36
        },
        "id": "RnYYSuewY7I-",
        "outputId": "5b0d1301-3c05-4ccf-fbaa-6c0ebbf7c4ef"
      },
      "execution_count": 70,
      "outputs": [
        {
          "output_type": "execute_result",
          "data": {
            "text/plain": [
              "'ei Camila, tude bem? ei tude sim'"
            ],
            "application/vnd.google.colaboratory.intrinsic+json": {
              "type": "string"
            }
          },
          "metadata": {},
          "execution_count": 70
        }
      ]
    },
    {
      "cell_type": "code",
      "source": [
        "tx.capitalize() #substitui o primeiro caracter em maiusculo"
      ],
      "metadata": {
        "colab": {
          "base_uri": "https://localhost:8080/",
          "height": 36
        },
        "id": "_KB9zbVpYdhf",
        "outputId": "231405f3-595b-4bb5-eff6-bd7d63d0fb48"
      },
      "execution_count": 68,
      "outputs": [
        {
          "output_type": "execute_result",
          "data": {
            "text/plain": [
              "'Oi camila, tudo bom? oi tudo sim'"
            ],
            "application/vnd.google.colaboratory.intrinsic+json": {
              "type": "string"
            }
          },
          "metadata": {},
          "execution_count": 68
        }
      ]
    },
    {
      "cell_type": "code",
      "source": [
        "tx.upper() # retorna Máiusculo"
      ],
      "metadata": {
        "colab": {
          "base_uri": "https://localhost:8080/",
          "height": 36
        },
        "id": "DvvbSBcuSAKb",
        "outputId": "56720c5e-28ec-4efa-a07d-4fa567aac1ba"
      },
      "execution_count": 71,
      "outputs": [
        {
          "output_type": "execute_result",
          "data": {
            "text/plain": [
              "'OI CAMILA, TUDO BOM? OI TUDO SIM'"
            ],
            "application/vnd.google.colaboratory.intrinsic+json": {
              "type": "string"
            }
          },
          "metadata": {},
          "execution_count": 71
        }
      ]
    },
    {
      "cell_type": "code",
      "source": [
        "tx.lower() #retorna Minusculo"
      ],
      "metadata": {
        "colab": {
          "base_uri": "https://localhost:8080/",
          "height": 36
        },
        "id": "gFYBpOkqSDGx",
        "outputId": "b113f7f3-2eb0-4b6e-8959-ac3fb8286bbc"
      },
      "execution_count": 72,
      "outputs": [
        {
          "output_type": "execute_result",
          "data": {
            "text/plain": [
              "'oi camila, tudo bom? oi tudo sim'"
            ],
            "application/vnd.google.colaboratory.intrinsic+json": {
              "type": "string"
            }
          },
          "metadata": {},
          "execution_count": 72
        }
      ]
    },
    {
      "cell_type": "code",
      "source": [
        "lista = [\"maça\", \"uva\", 3, \"tomate\", 5.5]"
      ],
      "metadata": {
        "id": "HQCySp_1ZloO"
      },
      "execution_count": 111,
      "outputs": []
    },
    {
      "cell_type": "code",
      "source": [
        "lista"
      ],
      "metadata": {
        "colab": {
          "base_uri": "https://localhost:8080/"
        },
        "id": "Q8rRri2BZtju",
        "outputId": "99a4d471-4669-4c3f-9580-0bfa1b98819e"
      },
      "execution_count": 112,
      "outputs": [
        {
          "output_type": "execute_result",
          "data": {
            "text/plain": [
              "['maça', 'uva', 3, 'tomate', 5.5]"
            ]
          },
          "metadata": {},
          "execution_count": 112
        }
      ]
    },
    {
      "cell_type": "code",
      "source": [
        "lista.index(\"uva\") #retona a posição do elemento na lista"
      ],
      "metadata": {
        "colab": {
          "base_uri": "https://localhost:8080/"
        },
        "id": "XywVReipZ0yF",
        "outputId": "e0381dbf-a590-4369-83f4-d5dc21cba8f5"
      },
      "execution_count": 113,
      "outputs": [
        {
          "output_type": "execute_result",
          "data": {
            "text/plain": [
              "1"
            ]
          },
          "metadata": {},
          "execution_count": 113
        }
      ]
    },
    {
      "cell_type": "code",
      "source": [
        "lista.insert(2, \"laranja\")  #na posição 2 inserir laranja\n",
        "lista"
      ],
      "metadata": {
        "colab": {
          "base_uri": "https://localhost:8080/"
        },
        "id": "ZtgRA4cVaLv9",
        "outputId": "f5463bf7-50c4-4b4c-d149-19c7d549ef88"
      },
      "execution_count": 114,
      "outputs": [
        {
          "output_type": "execute_result",
          "data": {
            "text/plain": [
              "['maça', 'uva', 'laranja', 3, 'tomate', 5.5]"
            ]
          },
          "metadata": {},
          "execution_count": 114
        }
      ]
    },
    {
      "cell_type": "code",
      "source": [
        "lista.pop() #remover o ultimo elemento da lista"
      ],
      "metadata": {
        "colab": {
          "base_uri": "https://localhost:8080/"
        },
        "id": "3d7wxr2dZiIX",
        "outputId": "b20ce6c4-46f8-4986-c039-8200667e6524"
      },
      "execution_count": 115,
      "outputs": [
        {
          "output_type": "execute_result",
          "data": {
            "text/plain": [
              "5.5"
            ]
          },
          "metadata": {},
          "execution_count": 115
        }
      ]
    },
    {
      "cell_type": "code",
      "source": [
        "lista.remove(\"laranja\") #remover o elemento da posção 3"
      ],
      "metadata": {
        "id": "--j57xFra3gV"
      },
      "execution_count": 116,
      "outputs": []
    },
    {
      "cell_type": "code",
      "source": [
        "lista"
      ],
      "metadata": {
        "colab": {
          "base_uri": "https://localhost:8080/"
        },
        "id": "W27-Q62TbC4d",
        "outputId": "fdca71c7-8106-467e-977b-68cd3f3e5826"
      },
      "execution_count": 117,
      "outputs": [
        {
          "output_type": "execute_result",
          "data": {
            "text/plain": [
              "['maça', 'uva', 3, 'tomate']"
            ]
          },
          "metadata": {},
          "execution_count": 117
        }
      ]
    },
    {
      "cell_type": "code",
      "source": [
        "lista.reverse()\n",
        "\n",
        "lista"
      ],
      "metadata": {
        "colab": {
          "base_uri": "https://localhost:8080/"
        },
        "id": "vg3E9l0FbSDF",
        "outputId": "51aa701f-ff9b-4d56-a9a4-964f749e5f5f"
      },
      "execution_count": 121,
      "outputs": [
        {
          "output_type": "execute_result",
          "data": {
            "text/plain": [
              "['tomate', 3, 'uva', 'maça']"
            ]
          },
          "metadata": {},
          "execution_count": 121
        }
      ]
    },
    {
      "cell_type": "code",
      "source": [
        "lista.remove(3)\n",
        "\n",
        "lista"
      ],
      "metadata": {
        "colab": {
          "base_uri": "https://localhost:8080/"
        },
        "id": "l7lyKbMkbg-2",
        "outputId": "b23be0aa-7616-4b3b-c91c-4ca06c622fd4"
      },
      "execution_count": 124,
      "outputs": [
        {
          "output_type": "execute_result",
          "data": {
            "text/plain": [
              "['tomate', 'uva', 'maça']"
            ]
          },
          "metadata": {},
          "execution_count": 124
        }
      ]
    },
    {
      "cell_type": "code",
      "source": [
        "lista.sort() # retona em ordem alfavetica pra srt e numerica para float e int\n",
        "\n",
        "lista"
      ],
      "metadata": {
        "colab": {
          "base_uri": "https://localhost:8080/"
        },
        "id": "n4ao1vFRbZ-c",
        "outputId": "8c3ba3df-4f89-49e0-99e9-8e7d248aa9a5"
      },
      "execution_count": 125,
      "outputs": [
        {
          "output_type": "execute_result",
          "data": {
            "text/plain": [
              "['maça', 'tomate', 'uva']"
            ]
          },
          "metadata": {},
          "execution_count": 125
        }
      ]
    }
  ]
}