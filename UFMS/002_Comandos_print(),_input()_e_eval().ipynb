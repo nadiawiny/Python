{
  "nbformat": 4,
  "nbformat_minor": 0,
  "metadata": {
    "colab": {
      "provenance": []
    },
    "kernelspec": {
      "name": "python3",
      "display_name": "Python 3"
    },
    "language_info": {
      "name": "python"
    }
  },
  "cells": [
    {
      "cell_type": "code",
      "execution_count": null,
      "metadata": {
        "colab": {
          "base_uri": "https://localhost:8080/"
        },
        "id": "YXLNXoWbCDU5",
        "outputId": "df12f373-8375-43d7-b95b-b9a731f38bda"
      },
      "outputs": [
        {
          "output_type": "stream",
          "name": "stdout",
          "text": [
            "hello class\n"
          ]
        }
      ],
      "source": [
        "print(\"hello class\")"
      ]
    },
    {
      "cell_type": "code",
      "source": [
        "x = 2\n",
        "y = 3\n",
        "\n",
        "print(\"x =\", x, \"y =\", y)"
      ],
      "metadata": {
        "colab": {
          "base_uri": "https://localhost:8080/"
        },
        "id": "Z3ild5YnFxjX",
        "outputId": "06aab945-14b8-43a0-83c1-3402da144626"
      },
      "execution_count": null,
      "outputs": [
        {
          "output_type": "stream",
          "name": "stdout",
          "text": [
            "x = 2 y = 3\n"
          ]
        }
      ]
    },
    {
      "cell_type": "code",
      "source": [
        "print(\"x =\", x, \"y =\", y, sep=',', end='..\\n')"
      ],
      "metadata": {
        "colab": {
          "base_uri": "https://localhost:8080/"
        },
        "id": "4DDTxrNdF8nw",
        "outputId": "a8c57b44-341a-414d-ba86-e19764506936"
      },
      "execution_count": null,
      "outputs": [
        {
          "output_type": "stream",
          "name": "stdout",
          "text": [
            "x =,2,y =,3..\n"
          ]
        }
      ]
    },
    {
      "cell_type": "code",
      "source": [
        "## input\n",
        "\n",
        "x = input(\"Digite o valor de x: \")"
      ],
      "metadata": {
        "colab": {
          "base_uri": "https://localhost:8080/"
        },
        "id": "_Ukju7WuGRKG",
        "outputId": "5c47c629-14f6-4ee1-fff3-a4c208f540b7"
      },
      "execution_count": null,
      "outputs": [
        {
          "name": "stdout",
          "output_type": "stream",
          "text": [
            "Digite o valor de x: 3\n"
          ]
        }
      ]
    },
    {
      "cell_type": "code",
      "source": [
        "type(x)"
      ],
      "metadata": {
        "colab": {
          "base_uri": "https://localhost:8080/"
        },
        "id": "9jbTpv14HMGF",
        "outputId": "1b0d9c48-1f43-4278-cc54-16871f73ab27"
      },
      "execution_count": null,
      "outputs": [
        {
          "output_type": "execute_result",
          "data": {
            "text/plain": [
              "str"
            ]
          },
          "metadata": {},
          "execution_count": 9
        }
      ]
    },
    {
      "cell_type": "code",
      "source": [
        "c = input(\"digite a temperatura em Celsius: \")\n",
        "c_temp = eval(c) #converter str\n",
        "\n",
        "f = 1.8 * c_temp + 32\n",
        "\n",
        "print(f\"{f} gruas Fahrenheit.\")"
      ],
      "metadata": {
        "colab": {
          "base_uri": "https://localhost:8080/"
        },
        "id": "a1PNWnVlItTg",
        "outputId": "2b30f929-1f56-409d-c840-5da4486d7b2c"
      },
      "execution_count": null,
      "outputs": [
        {
          "output_type": "stream",
          "name": "stdout",
          "text": [
            "digite a temperatura em Celsius: 24\n",
            "75.2 gruas Fahrenheit.\n"
          ]
        }
      ]
    },
    {
      "cell_type": "code",
      "source": [
        "### funções\n",
        "\n",
        "def f(x):\n",
        "  res = x **2 + 1\n",
        "  return res"
      ],
      "metadata": {
        "id": "oMtAyUzCJv54"
      },
      "execution_count": null,
      "outputs": []
    },
    {
      "cell_type": "code",
      "source": [
        "f(4)"
      ],
      "metadata": {
        "colab": {
          "base_uri": "https://localhost:8080/"
        },
        "id": "irM1oao9WxtY",
        "outputId": "d22393da-828b-45c9-fef1-581e1163225e"
      },
      "execution_count": null,
      "outputs": [
        {
          "output_type": "execute_result",
          "data": {
            "text/plain": [
              "17"
            ]
          },
          "metadata": {},
          "execution_count": 16
        }
      ]
    },
    {
      "cell_type": "code",
      "source": [
        "def cal_combustivel(distancia, consumo_medio):\n",
        "  return distancia/consumo_medio\n",
        "\n",
        "t = float(input(\"Informe o tempo gasto na viagem: \"))\n",
        "v = float(input(\"Informe a velocidade média do veículo: \"))\n",
        "consumo_medio = float(input(\"Informe o consumo médio do véiculo: \"))\n",
        "\n",
        "distancia = t * v\n",
        "comb_gasto = cal_combustivel(distancia, consumo_medio)\n",
        "\n",
        "print(f\"A quantidade de combustível gasto é: {comb_gasto:.2f} litros\")"
      ],
      "metadata": {
        "colab": {
          "base_uri": "https://localhost:8080/"
        },
        "id": "FonNOlZkW1j8",
        "outputId": "6f0a6399-c42e-43f1-fcfb-4b322335d28f"
      },
      "execution_count": null,
      "outputs": [
        {
          "output_type": "stream",
          "name": "stdout",
          "text": [
            "Informe o tempo gasto na viagem: 10\n",
            "Informe a velocidade média do veículo: 40\n",
            "Informe o consumo médio do véiculo: 12\n",
            "A quantidade de combustível gasto é: 33.33 litros\n"
          ]
        }
      ]
    },
    {
      "cell_type": "code",
      "source": [
        "def areatriangulo(base, altura):\n",
        "  area = (base * altura)/2\n",
        "  return area"
      ],
      "metadata": {
        "id": "GBGXTmOmh71X"
      },
      "execution_count": null,
      "outputs": []
    },
    {
      "cell_type": "code",
      "source": [
        "\n",
        "print(areatriangulo(5, 10))"
      ],
      "metadata": {
        "colab": {
          "base_uri": "https://localhost:8080/"
        },
        "id": "Ph4-NkusiJlW",
        "outputId": "7ca4817e-e0ac-4c78-9415-914730bd5031"
      },
      "execution_count": null,
      "outputs": [
        {
          "output_type": "stream",
          "name": "stdout",
          "text": [
            "25.0\n"
          ]
        }
      ]
    },
    {
      "cell_type": "code",
      "source": [
        "def f(x):\n",
        "  res = x**3 + 3\n",
        "  res = res + 1\n",
        "  return res"
      ],
      "metadata": {
        "id": "zGtXMS0bkcyz"
      },
      "execution_count": null,
      "outputs": []
    },
    {
      "cell_type": "code",
      "source": [
        "f(4)"
      ],
      "metadata": {
        "colab": {
          "base_uri": "https://localhost:8080/"
        },
        "id": "PFlPp90Fkh_W",
        "outputId": "70be9d4b-5c2b-405c-a97c-b7b354396569"
      },
      "execution_count": null,
      "outputs": [
        {
          "output_type": "execute_result",
          "data": {
            "text/plain": [
              "68"
            ]
          },
          "metadata": {},
          "execution_count": 27
        }
      ]
    },
    {
      "cell_type": "code",
      "source": [
        "hora = 12\n",
        "print(\"Agora sao\", hora, \"horas\")"
      ],
      "metadata": {
        "colab": {
          "base_uri": "https://localhost:8080/"
        },
        "id": "BQAzu0n7k-ue",
        "outputId": "72aadc36-11b9-4e14-924e-70fa89ff3720"
      },
      "execution_count": null,
      "outputs": [
        {
          "output_type": "stream",
          "name": "stdout",
          "text": [
            "Agora sao 12 horas\n"
          ]
        }
      ]
    },
    {
      "cell_type": "code",
      "source": [
        "dia = 1\n",
        "mes = 1\n",
        "ano = 2023\n",
        "print(dia, mes, ano, sep=\"/\")"
      ],
      "metadata": {
        "colab": {
          "base_uri": "https://localhost:8080/"
        },
        "id": "sKqwYDtblEcR",
        "outputId": "aacba7ca-95a3-4a8c-845e-4ec07e45b061"
      },
      "execution_count": null,
      "outputs": [
        {
          "output_type": "stream",
          "name": "stdout",
          "text": [
            "1/1/2023\n"
          ]
        }
      ]
    }
  ]
}